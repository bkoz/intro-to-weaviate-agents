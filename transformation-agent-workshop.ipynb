{
 "cells": [
  {
   "cell_type": "markdown",
   "metadata": {},
   "source": [
    "# Weaviate Transformation Agent - Workshop\n",
    "\n",
    "### Prerequisites\n",
    "\n",
    "1. Log in to [Weaviate Cloud](https://console.weaviate.cloud) account (sign up if you don't have one yet)\n",
    "1. Create a Weaviate Cloud [Sandbox](https://weaviate.io/developers/wcs/manage-clusters/create#sandbox-clusters) instance\n",
    "1. Go to the 'Embedding' tab (on the left column) and enable `Weaviate Embeddings`\n",
    "1. Take note of the `REST Endpoint` and a `Admin` `API Key`. \n",
    "1. Update `WEAVIATE_CLOUD_URL` with the `REST Endpoint` and `WEAVIATE_API_KEY` with the `Admin` `API Key` in the `.env` file in the root directory of this repository."
   ]
  },
  {
   "cell_type": "markdown",
   "metadata": {},
   "source": [
    "## Introduction"
   ]
  },
  {
   "cell_type": "markdown",
   "metadata": {},
   "source": [
    "### Agenda\n",
    "\n",
    "Let's talk about:\n",
    "- What the Transformation Agent is\n",
    "- What you can do with the Transformation Agent\n",
    "- Some tips & tricks\n",
    "- How to get started"
   ]
  },
  {
   "cell_type": "markdown",
   "metadata": {},
   "source": [
    "### About the Transformation Agent\n",
    "\n",
    "The *Weaviate Transformation Agent* is \n",
    "\n",
    "- A cloud-based service \n",
    "- for transforming your data in a Weaviate instance\n",
    "- available for Weaviate Cloud users"
   ]
  },
  {
   "cell_type": "markdown",
   "metadata": {},
   "source": [
    "**And** it is: in technical preview (do **not** use in production)\n",
    "\n",
    "<center><img src=\"img/agents_tech_preview.png\" width=\"60%\"></center>\n",
    "\n",
    "> ⚠️ The Weaviate Transformation Agent modifies data objects in Weaviate. **While the Agent is in technical preview, do not use it in a production environment.** \n",
    "> \n",
    "> The Agent may not work as expected, and the data in your Weaviate instance may be affected in unexpected ways."
   ]
  },
  {
   "cell_type": "markdown",
   "metadata": {},
   "source": [
    "**What the Transformation Agent is**\n",
    "\n",
    "<center><img src=\"img/ta_obj.png\" width=\"60%\"></center>"
   ]
  },
  {
   "cell_type": "markdown",
   "metadata": {},
   "source": [
    "The `TransformationAgent` can modify objects in a Weaviate collection to add new properties or update existing properties."
   ]
  },
  {
   "cell_type": "markdown",
   "metadata": {},
   "source": [
    "**What you can do with the Transformation Agent**\n",
    "\n",
    "<center><img src=\"img/ta_overview.png\" width=\"60%\"></center>"
   ]
  },
  {
   "cell_type": "markdown",
   "metadata": {},
   "source": [
    "Provide instructions to the `TransformationAgent` using natural language, and other required parameters. "
   ]
  },
  {
   "cell_type": "markdown",
   "metadata": {},
   "source": [
    "## Preparation"
   ]
  },
  {
   "cell_type": "markdown",
   "metadata": {},
   "source": [
    "Here, we are going to use the [**Weaviate/ArxivPapers**](https://huggingface.co/datasets/weaviate/agents/viewer/query-agent-ecommerce) dataset. \n",
    "\n",
    "It includes titles and abstracts of a few research papers.\n",
    "\n",
    "First, we load the dataset & add it to Weaviate."
   ]
  },
  {
   "cell_type": "markdown",
   "metadata": {},
   "source": [
    "### Load dataset"
   ]
  },
  {
   "cell_type": "code",
   "execution_count": 1,
   "metadata": {},
   "outputs": [],
   "source": [
    "from datasets import load_dataset\n",
    "\n",
    "papers_dataset = load_dataset(\"weaviate/agents\", \"transformation-agent-papers\", split=\"train\")"
   ]
  },
  {
   "cell_type": "code",
   "execution_count": 2,
   "metadata": {},
   "outputs": [
    {
     "name": "stdout",
     "output_type": "stream",
     "text": [
      "(2000, 2)\n",
      "dict_keys(['abstract', 'title'])\n"
     ]
    }
   ],
   "source": [
    "print(papers_dataset.shape)\n",
    "print(papers_dataset[0][\"properties\"].keys())"
   ]
  },
  {
   "cell_type": "code",
   "execution_count": 3,
   "metadata": {},
   "outputs": [
    {
     "name": "stdout",
     "output_type": "stream",
     "text": [
      "abstract:   Astronomy is increasingly encountering two fundamental truths: (1) The field\n",
      "is faced with the tas...\n",
      "title: Discussion on \"Techniques for Massive-Data Machine Learning in\n",
      "  Astronomy\" by A. Gray\n"
     ]
    }
   ],
   "source": [
    "for k, v in papers_dataset[0][\"properties\"].items():\n",
    "    if len(v) > 100:\n",
    "        v = v[:100] + \"...\"\n",
    "    print(f\"{k}: {v}\")"
   ]
  },
  {
   "cell_type": "markdown",
   "metadata": {},
   "source": [
    "Iterate through the data"
   ]
  },
  {
   "cell_type": "code",
   "execution_count": 4,
   "metadata": {},
   "outputs": [
    {
     "name": "stdout",
     "output_type": "stream",
     "text": [
      "{'abstract': \"  Astronomy is increasingly encountering two fundamental truths: (1) The field\\nis faced with the task of extracting useful information from extremely large,\\ncomplex, and high dimensional datasets; (2) The techniques of astroinformatics\\nand astrostatistics are the only way to make this tractable, and bring the\\nrequired level of sophistication to the analysis. Thus, an approach which\\nprovides these tools in a way that scales to these datasets is not just\\ndesirable, it is vital. The expertise required spans not just astronomy, but\\nalso computer science, statistics, and informatics. As a computer scientist and\\nexpert in machine learning, Alex's contribution of expertise and a large number\\nof fast algorithms designed to scale to large datasets, is extremely welcome.\\nWe focus in this discussion on the questions raised by the practical\\napplication of these algorithms to real astronomical datasets. That is, what is\\nneeded to maximally leverage their potential to improve the science return?\\nThis is not a trivial task. While computing and statistical expertise are\\nrequired, so is astronomical expertise. Precedent has shown that, to-date, the\\ncollaborations most productive in producing astronomical science results (e.g,\\nthe Sloan Digital Sky Survey), have either involved astronomers expert in\\ncomputer science and/or statistics, or astronomers involved in close, long-term\\ncollaborations with experts in those fields. This does not mean that the\\nastronomers are giving the most important input, but simply that their input is\\ncrucial in guiding the effort in the most fruitful directions, and coping with\\nthe issues raised by real data. Thus, the tools must be useable and\\nunderstandable by those whose primary expertise is not computing or statistics,\\neven though they may have quite extensive knowledge of those fields.\\n\", 'title': 'Discussion on \"Techniques for Massive-Data Machine Learning in\\n  Astronomy\" by A. Gray'}\n",
      "{'abstract': '  In this paper, we introduce elements of probabilistic model that is suitable\\nfor modeling of learning algorithms in biologically plausible artificial neural\\nnetworks framework. Model is based on two of the main concepts in quantum\\nphysics - a density matrix and the Born rule. As an example, we will show that\\nproposed probabilistic interpretation is suitable for modeling of on-line\\nlearning algorithms for PSA, which are preferably realized by a parallel\\nhardware based on very simple computational units. Proposed concept (model) can\\nbe used in the context of improving algorithm convergence speed, learning\\nfactor choice, or input signal scale robustness. We are going to see how the\\nBorn rule and the Hebbian learning rule are connected\\n', 'title': 'Probabilistic Approach to Neural Networks Computation Based on Quantum\\n  Probability Model Probabilistic Principal Subspace Analysis Example'}\n"
     ]
    }
   ],
   "source": [
    "columns = papers_dataset[0][\"properties\"].keys()\n",
    "\n",
    "for i, item in enumerate(papers_dataset):\n",
    "    if i < 2:\n",
    "        properties = {\n",
    "            col: item[\"properties\"][col] for col in columns\n",
    "        }\n",
    "        print(properties)"
   ]
  },
  {
   "cell_type": "markdown",
   "metadata": {},
   "source": [
    "### Ingest data into Weaviate"
   ]
  },
  {
   "cell_type": "markdown",
   "metadata": {},
   "source": [
    "#### Connect to Weaviate"
   ]
  },
  {
   "cell_type": "code",
   "execution_count": 5,
   "metadata": {},
   "outputs": [],
   "source": [
    "import os\n",
    "import dotenv\n",
    "\n",
    "dotenv.load_dotenv()\n",
    "\n",
    "# Update the variables in the .env file with your own values\n",
    "weaviate_url = os.getenv(\"WEAVIATE_CLOUD_URL\")\n",
    "weaviate_api_key = os.getenv(\"WEAVIATE_CLOUD_API_KEY\")"
   ]
  },
  {
   "cell_type": "code",
   "execution_count": 6,
   "metadata": {},
   "outputs": [
    {
     "data": {
      "text/plain": [
       "'https://1ree7zierqqrwwnif6b6ug.c0.europe-west3.gcp.weaviate.cloud'"
      ]
     },
     "execution_count": 6,
     "metadata": {},
     "output_type": "execute_result"
    }
   ],
   "source": [
    "weaviate_url"
   ]
  },
  {
   "cell_type": "code",
   "execution_count": 7,
   "metadata": {},
   "outputs": [
    {
     "name": "stderr",
     "output_type": "stream",
     "text": [
      "/Users/jphwang/code/demo-code/weaviate-agents/transformation/.venv/lib/python3.12/site-packages/weaviate/warnings.py:340: UserWarning: Con006: You're using the sync client in an async context. This usage is discouraged to avoid blocking your async event loop with sync I/O calls.\n",
      "            We encourage you to update your code to use the async client instead when running inside async def functions!\n",
      "  warnings.warn(\n"
     ]
    }
   ],
   "source": [
    "import weaviate\n",
    "from weaviate.classes.init import Auth\n",
    "\n",
    "client = weaviate.connect_to_weaviate_cloud(\n",
    "    cluster_url=weaviate_url, auth_credentials=Auth.api_key(weaviate_api_key)\n",
    ")\n",
    "\n",
    "assert client.is_ready()"
   ]
  },
  {
   "cell_type": "markdown",
   "metadata": {},
   "source": [
    "#### Set up a collection"
   ]
  },
  {
   "cell_type": "markdown",
   "metadata": {},
   "source": [
    "**Important:** Make sure to enable 'Embeddings' in the Weaviate Cloud console. \n",
    "\n",
    "[See above](#prerequisites)"
   ]
  },
  {
   "cell_type": "code",
   "execution_count": 8,
   "metadata": {},
   "outputs": [],
   "source": [
    "from weaviate.classes.config import Configure, Property, DataType\n",
    "\n",
    "collection_name = \"ArxivPapersDemo\"\n",
    "\n",
    "# Can delete the collection if you would like to (re)start fresh\n",
    "client.collections.delete(collection_name)\n",
    "\n",
    "if client.collections.exists(collection_name):\n",
    "    # For re-running this tutorial, do nothing\n",
    "    pass\n",
    "else:\n",
    "    client.collections.create(\n",
    "        collection_name,\n",
    "        description=\"A dataset that lists research paper titles and abstracts\",\n",
    "        properties=[\n",
    "            Property(name=\"title\", data_type=DataType.TEXT),\n",
    "            Property(name=\"abstract\", data_type=DataType.TEXT),\n",
    "        ],\n",
    "        vectorizer_config=[\n",
    "            Configure.NamedVectors.text2vec_weaviate(\n",
    "                name=\"default\",\n",
    "                source_properties=[\"title\", \"abstract\"],\n",
    "            )\n",
    "        ]\n",
    "    )"
   ]
  },
  {
   "cell_type": "markdown",
   "metadata": {},
   "source": [
    "#### Add data to Weaviate"
   ]
  },
  {
   "cell_type": "markdown",
   "metadata": {},
   "source": [
    "We loop through the data and add it to Weaviate. \n",
    "\n",
    "For the demo/workshop, we add only a few rows for speed and simplicity."
   ]
  },
  {
   "cell_type": "code",
   "execution_count": 9,
   "metadata": {},
   "outputs": [],
   "source": [
    "papers_collection = client.collections.get(collection_name)\n",
    "columns = papers_dataset[0][\"properties\"].keys()\n",
    "\n",
    "with papers_collection.batch.fixed_size(100) as batch:\n",
    "    for i, item in enumerate(papers_dataset):\n",
    "        if i < 50:\n",
    "            properties = {col: item[\"properties\"][col] for col in columns}\n",
    "            batch.add_object(properties=properties)\n",
    "\n",
    "\n",
    "if papers_collection.batch.failed_objects:\n",
    "    for fo in papers_collection.batch.failed_objects[:3]:\n",
    "        print(fo.message)\n",
    "        print(fo.object_)"
   ]
  },
  {
   "cell_type": "code",
   "execution_count": 10,
   "metadata": {},
   "outputs": [
    {
     "data": {
      "text/plain": [
       "50"
      ]
     },
     "execution_count": 10,
     "metadata": {},
     "output_type": "execute_result"
    }
   ],
   "source": [
    "len(papers_collection)"
   ]
  },
  {
   "cell_type": "markdown",
   "metadata": {},
   "source": [
    "#### Inspect the collection \n",
    "\n"
   ]
  },
  {
   "cell_type": "code",
   "execution_count": 12,
   "metadata": {},
   "outputs": [
    {
     "name": "stdout",
     "output_type": "stream",
     "text": [
      "abstract:   The problem of topic modeling can be seen as a g\n",
      "title: A Spectral Algorithm for Latent Dirichlet Allocati\n",
      "\n",
      "[-0.03759765625, -0.0188140869140625, 0.056060791015625, -0.041412353515625, -0.05413818359375, 0.004425048828125, 0.030029296875, 0.0279388427734375, 0.0162200927734375, 0.0528564453125]\n",
      "abstract:   We propose in this paper an exploratory analysis\n",
      "title: Exploratory Analysis of Functional Data via Cluste\n",
      "\n",
      "[-0.036407470703125, 0.0197601318359375, -0.00771331787109375, 0.03326416015625, 0.01172637939453125, 0.0300140380859375, 0.0555419921875, -0.046905517578125, 0.00968170166015625, 0.04949951171875]\n",
      "abstract:   When dealing with time series with complex non-s\n",
      "title: Adapting to Non-stationarity with Growing Expert E\n",
      "\n",
      "[0.006687164306640625, -0.0322265625, 0.036865234375, 0.0158538818359375, -0.0192108154296875, -0.028961181640625, 0.0218963623046875, 0.05517578125, -0.0018281936645507812, -0.016021728515625]\n"
     ]
    }
   ],
   "source": [
    "response = papers_collection.query.fetch_objects(\n",
    "    limit=3,\n",
    "    include_vector=True\n",
    ")\n",
    "\n",
    "for o in response.objects:\n",
    "    for k, v in o.properties.items():\n",
    "        print(f\"{k}: {v[:50]}\")\n",
    "    print()\n",
    "    print(o.vector[\"default\"][:10])  # No need to print the entire vector"
   ]
  },
  {
   "cell_type": "markdown",
   "metadata": {},
   "source": [
    "**Alternative: Use the `Explorer` cloud tool**\n",
    "\n",
    "On Weaviate Cloud Console, click on the `Explorer` tab on the left column.\n",
    "\n",
    "When you click on each object, you should see 2 properties:\n",
    "- `title`\n",
    "- `abstract`\n",
    "\n",
    "As well as its `vectors`"
   ]
  },
  {
   "cell_type": "markdown",
   "metadata": {},
   "source": [
    "## Using the original dataset:\n"
   ]
  },
  {
   "cell_type": "markdown",
   "metadata": {},
   "source": [
    "### Can you find what you need?\n",
    "\n",
    "Can you find papers about a specific topic (e.g. machine learning)?"
   ]
  },
  {
   "cell_type": "code",
   "execution_count": 13,
   "metadata": {},
   "outputs": [
    {
     "name": "stdout",
     "output_type": "stream",
     "text": [
      "Probabilistic Approach to Neural Networks Computation Based on Quantum\n",
      "  Probability Model Probabilistic Principal Subspace Analysis Example\n",
      "Efficient Bayes-Adaptive Reinforcement Learning using Sample-Based\n",
      "  Search\n",
      "Discussion on \"Techniques for Massive-Data Machine Learning in\n",
      "  Astronomy\" by A. Gray\n",
      "Transfer Learning Using Feature Selection\n",
      "Bayesian Active Learning for Classification and Preference Learning\n"
     ]
    }
   ],
   "source": [
    "response = papers_collection.query.near_text(\n",
    "    query=\"machine learning\",\n",
    "    limit=5\n",
    ")\n",
    "\n",
    "for o in response.objects:\n",
    "    print(o.properties[\"title\"])"
   ]
  },
  {
   "cell_type": "markdown",
   "metadata": {},
   "source": [
    "Can you filter only for papers with a particular main topic? (e.g. classification)"
   ]
  },
  {
   "cell_type": "code",
   "execution_count": 14,
   "metadata": {},
   "outputs": [],
   "source": [
    "## ???\n",
    "## Not sure if we actually can do this with the current data"
   ]
  },
  {
   "cell_type": "markdown",
   "metadata": {},
   "source": [
    "### Does your data meet your needs?\n",
    "\n",
    "What if: \n",
    "- The data is in the wrong language?\n",
    "- Each abstract is too long?\n",
    "\n",
    "Would you want to perform a RAG query each time?\n",
    "\n",
    "\n"
   ]
  },
  {
   "cell_type": "markdown",
   "metadata": {},
   "source": [
    "## Try the Weaviate Transformation Agent "
   ]
  },
  {
   "cell_type": "markdown",
   "metadata": {},
   "source": [
    "### Task 1: Create a `topics` property"
   ]
  },
  {
   "cell_type": "markdown",
   "metadata": {},
   "source": [
    "Define the operation(s) that you want to perform on the data."
   ]
  },
  {
   "cell_type": "code",
   "execution_count": 15,
   "metadata": {},
   "outputs": [],
   "source": [
    "prompt_create_topics = \"\"\"\n",
    "Create a list of topic tags based on the abstract.\n",
    "Topics should be distinct from each other. Provide a maximum of 5 topics.\n",
    "Group similar topics under one topic tag.\n",
    "\"\"\""
   ]
  },
  {
   "cell_type": "code",
   "execution_count": 16,
   "metadata": {},
   "outputs": [],
   "source": [
    "from weaviate.agents.classes import Operations\n",
    "\n",
    "add_topics = Operations.append_property(\n",
    "    property_name=\"topics\",             # Property to create\n",
    "    data_type=DataType.TEXT_ARRAY,      # Data type of the property\n",
    "    view_properties=[\"abstract\"],       # Existing properties to view for the operation\n",
    "    instruction=prompt_create_topics,   # Instruction to the Transformation Agent\n",
    ")"
   ]
  },
  {
   "cell_type": "markdown",
   "metadata": {},
   "source": [
    "Instantiate the agent & start the operations"
   ]
  },
  {
   "cell_type": "code",
   "execution_count": 17,
   "metadata": {},
   "outputs": [],
   "source": [
    "from weaviate.agents.transformation import TransformationAgent\n",
    "\n",
    "ta = TransformationAgent(\n",
    "    client=client,              # Weaviate client object\n",
    "    collection=collection_name, # Collection name\n",
    "    operations=[add_topics]     # List of transform operations\n",
    ")\n",
    "\n",
    "ta_response = ta.update_all()"
   ]
  },
  {
   "cell_type": "markdown",
   "metadata": {},
   "source": [
    "What does the response look like?"
   ]
  },
  {
   "cell_type": "code",
   "execution_count": 18,
   "metadata": {},
   "outputs": [
    {
     "data": {
      "text/plain": [
       "TransformationResponse(workflow_id='TransformationWorkflow-a9269a6a53231918db19c7450112bc8a')"
      ]
     },
     "execution_count": 18,
     "metadata": {},
     "output_type": "execute_result"
    }
   ],
   "source": [
    "ta_response"
   ]
  },
  {
   "cell_type": "markdown",
   "metadata": {},
   "source": [
    "The response contains the unique `workflow_id` of the operations. \n",
    "\n",
    "This does not mean that the operations are finished!\n",
    "\n",
    "**The Transformation Agent is asynchronous**. You can check the status of the operation using the `workflow_id`."
   ]
  },
  {
   "cell_type": "code",
   "execution_count": 19,
   "metadata": {},
   "outputs": [
    {
     "data": {
      "text/plain": [
       "{'workflow_id': 'TransformationWorkflow-a9269a6a53231918db19c7450112bc8a',\n",
       " 'status': {'batch_count': 1,\n",
       "  'end_time': None,\n",
       "  'start_time': '2025-03-25 14:59:53',\n",
       "  'state': 'running',\n",
       "  'total_duration': None,\n",
       "  'total_items': 50}}"
      ]
     },
     "execution_count": 19,
     "metadata": {},
     "output_type": "execute_result"
    }
   ],
   "source": [
    "ta.get_status(workflow_id=ta_response.workflow_id)"
   ]
  },
  {
   "cell_type": "markdown",
   "metadata": {},
   "source": [
    "We can periodically check if the operation is done"
   ]
  },
  {
   "cell_type": "code",
   "execution_count": 20,
   "metadata": {},
   "outputs": [],
   "source": [
    "def get_ta_status(agent_instance, workflow_id):\n",
    "    # Rough code to check the status of the TA workflow\n",
    "    import time\n",
    "    from datetime import datetime\n",
    "\n",
    "    while True:\n",
    "        status = agent_instance.get_status(workflow_id=workflow_id)\n",
    "\n",
    "        if status[\"status\"][\"state\"] != \"running\":\n",
    "            break\n",
    "\n",
    "        # Calculate elapsed time from start_time\n",
    "        start = datetime.strptime(status[\"status\"][\"start_time\"], \"%Y-%m-%d %H:%M:%S\")\n",
    "        elapsed = (datetime.now() - start).total_seconds()\n",
    "\n",
    "        print(f\"Waiting... Elapsed time: {elapsed:.2f} seconds\")\n",
    "        time.sleep(10)\n",
    "\n",
    "    # Calculate total time\n",
    "    if status[\"status\"][\"total_duration\"]:\n",
    "        total = status[\"status\"][\"total_duration\"]\n",
    "    else:\n",
    "        start = datetime.strptime(status[\"status\"][\"start_time\"], \"%Y-%m-%d %H:%M:%S\")\n",
    "        end = datetime.now() if not status[\"status\"][\"end_time\"] else datetime.strptime(status[\"status\"][\"end_time\"], \"%Y-%m-%d %H:%M:%S\")\n",
    "        total = (end - start).total_seconds()\n",
    "\n",
    "    print(f\"Total time: {total:.2f} seconds\")\n",
    "    print(status)"
   ]
  },
  {
   "cell_type": "code",
   "execution_count": 21,
   "metadata": {},
   "outputs": [
    {
     "name": "stdout",
     "output_type": "stream",
     "text": [
      "Waiting... Elapsed time: 7.41 seconds\n",
      "Waiting... Elapsed time: 17.88 seconds\n",
      "Waiting... Elapsed time: 28.55 seconds\n",
      "Waiting... Elapsed time: 39.19 seconds\n",
      "Waiting... Elapsed time: 49.84 seconds\n",
      "Waiting... Elapsed time: 60.31 seconds\n",
      "Total time: 67.83 seconds\n",
      "{'workflow_id': 'TransformationWorkflow-a9269a6a53231918db19c7450112bc8a', 'status': {'batch_count': 1, 'end_time': '2025-03-25 15:01:01', 'start_time': '2025-03-25 14:59:53', 'state': 'completed', 'total_duration': 67.825215, 'total_items': 50}}\n"
     ]
    }
   ],
   "source": [
    "get_ta_status(agent_instance=ta, workflow_id=ta_response.workflow_id)"
   ]
  },
  {
   "cell_type": "markdown",
   "metadata": {},
   "source": [
    "**How the Transformation Agent works**\n",
    "\n",
    "<center><img src=\"img/ta_schematic.png\" width=\"60%\"></center>\n",
    "\n",
    "The `TransformationAgent` connects to your Weaviate Cloud instance, and uses LLMs to follow these instructions."
   ]
  },
  {
   "cell_type": "markdown",
   "metadata": {},
   "source": [
    "When the operation is complete - let's see what we can do with the data:"
   ]
  },
  {
   "cell_type": "code",
   "execution_count": 22,
   "metadata": {},
   "outputs": [
    {
     "name": "stdout",
     "output_type": "stream",
     "text": [
      "TopOccurrence(count=37, value='Machine Learning')\n",
      "TopOccurrence(count=7, value='Algorithms')\n",
      "TopOccurrence(count=6, value='Artificial Intelligence')\n",
      "TopOccurrence(count=6, value='Classification')\n",
      "TopOccurrence(count=6, value='Data Analysis')\n",
      "TopOccurrence(count=6, value='Optimization')\n",
      "TopOccurrence(count=5, value='Mathematics')\n",
      "TopOccurrence(count=4, value='Computer Science')\n",
      "TopOccurrence(count=4, value='Graph Theory')\n",
      "TopOccurrence(count=4, value='Reinforcement Learning')\n"
     ]
    }
   ],
   "source": [
    "from weaviate.classes.query import Metrics\n",
    "\n",
    "response = papers_collection.aggregate.over_all(\n",
    "    return_metrics=Metrics(\"topics\").text(\n",
    "        top_occurrences_count=True,\n",
    "        top_occurrences_value=True,\n",
    "        min_occurrences=10\n",
    "    )\n",
    ")\n",
    "\n",
    "for t in response.properties[\"topics\"].top_occurrences:\n",
    "    print(t)"
   ]
  },
  {
   "cell_type": "markdown",
   "metadata": {},
   "source": [
    "Try to filter for papers with particular topics:"
   ]
  },
  {
   "cell_type": "code",
   "execution_count": 23,
   "metadata": {},
   "outputs": [
    {
     "name": "stdout",
     "output_type": "stream",
     "text": [
      "Statistical Translation, Heat Kernels and Expected Distances\n",
      "Adapting to Non-stationarity with Growing Expert Ensembles\n",
      "Discussion on \"Techniques for Massive-Data Machine Learning in\n",
      "  Astronomy\" by A. Gray\n"
     ]
    }
   ],
   "source": [
    "from weaviate.classes.query import Filter\n",
    "\n",
    "response = papers_collection.query.fetch_objects(\n",
    "    limit=3,\n",
    "    filters=Filter.by_property(\"topics\").like(\"*machine*\")\n",
    ")\n",
    "\n",
    "for o in response.objects:\n",
    "    print(o.properties[\"title\"])"
   ]
  },
  {
   "cell_type": "markdown",
   "metadata": {},
   "source": [
    "Inspect an object again:"
   ]
  },
  {
   "cell_type": "code",
   "execution_count": 24,
   "metadata": {},
   "outputs": [
    {
     "name": "stdout",
     "output_type": "stream",
     "text": [
      "abstract:   The problem of topic modeling can be seen as a g\n",
      "title: A Spectral Algorithm for Latent Dirichlet Allocati\n",
      "topics: ['Topic Modeling', 'Clustering', 'Latent Dirichlet Allocation (LDA)', 'Mixture Models', 'Singular Value Decomposition (SVD)']\n",
      "\n",
      "abstract:   We propose in this paper an exploratory analysis\n",
      "title: Exploratory Analysis of Functional Data via Cluste\n",
      "topics: ['Data Analysis', 'Machine Learning', 'Clustering', 'Optimization', 'Data Science']\n",
      "\n",
      "abstract:   When dealing with time series with complex non-s\n",
      "topics: ['Machine Learning', 'Time Series', 'Non-Stationarity', 'Online Learning', 'Algorithm Design']\n",
      "title: Adapting to Non-stationarity with Growing Expert E\n",
      "\n"
     ]
    }
   ],
   "source": [
    "response = papers_collection.query.fetch_objects(\n",
    "    limit=3,\n",
    ")\n",
    "\n",
    "for o in response.objects:\n",
    "    for k, v in o.properties.items():\n",
    "        print(f\"{k}: {v[:50]}\")\n",
    "    print()"
   ]
  },
  {
   "cell_type": "markdown",
   "metadata": {},
   "source": [
    "### Task 2: Perform multiple operations\n",
    "\n",
    "- Add a `paper_type` property (e.g. `survey`, `method`, `resource`)\n",
    "- Add a boolean property `relevant_to_rag` (True/False)"
   ]
  },
  {
   "cell_type": "code",
   "execution_count": 25,
   "metadata": {},
   "outputs": [],
   "source": [
    "prompt_paper_type = \"\"\"\n",
    "Determine the primary type of paper based on the abstract. Assign exactly one of the following categories that best represents the paper's main contribution:\n",
    "\n",
    "'survey':   Comprehensive review or meta-analysis of existing work in a field\n",
    "'model':    Introduction of a new predictive model, statistical method, or algorithmic approach\n",
    "'system':   Description of a new data pipeline, workflow, framework, or system architecture\n",
    "'analysis': Focused on insights derived from analyzing data\n",
    "'resource': Introduction of a new dataset, benchmark, or tool for data science\n",
    "'other':    None of the above\n",
    "\"\"\"\n",
    "\n",
    "add_paper_type = Operations.append_property(\n",
    "      property_name=\"paper_type\",\n",
    "      data_type=DataType.TEXT,\n",
    "      view_properties=[\"abstract\"],\n",
    "      instruction=prompt_paper_type,\n",
    ")"
   ]
  },
  {
   "cell_type": "code",
   "execution_count": 26,
   "metadata": {},
   "outputs": [],
   "source": [
    "prompt_about_classification = \"\"\"\n",
    "Based on the abstract, determine whether the paper is\n",
    "primarily about the machine field of classification.\n",
    "\n",
    "Do not include papers that are obliquely, or vaguely about classification.\n",
    "\"\"\"\n",
    "\n",
    "add_about_classification_bool = Operations.append_property(\n",
    "    property_name=\"about_classification\",\n",
    "    data_type=DataType.BOOL,\n",
    "    view_properties=[\"abstract\"],\n",
    "    instruction=prompt_about_classification,\n",
    ")"
   ]
  },
  {
   "cell_type": "code",
   "execution_count": 27,
   "metadata": {},
   "outputs": [],
   "source": [
    "prompt_add_french_title_suffix = \"\"\"\n",
    "Update the title to ensure that it contains the French translation of itself in parantheses, after the original title.\n",
    "\"\"\"\n",
    "\n",
    "update_title = Operations.update_property(\n",
    "    property_name=\"title\",\n",
    "    view_properties=[\"title\"],\n",
    "    instruction=prompt_add_french_title_suffix,\n",
    ")"
   ]
  },
  {
   "cell_type": "code",
   "execution_count": 28,
   "metadata": {},
   "outputs": [],
   "source": [
    "from weaviate.agents.transformation import TransformationAgent\n",
    "\n",
    "ta = TransformationAgent(\n",
    "    client=client,\n",
    "    collection=collection_name,\n",
    "    operations=[\n",
    "        update_title,\n",
    "        add_paper_type,\n",
    "        add_about_classification_bool\n",
    "    ],\n",
    ")\n",
    "\n",
    "ta_response = ta.update_all()"
   ]
  },
  {
   "cell_type": "markdown",
   "metadata": {},
   "source": [
    "Note that this still returns one object, with one workflow ID, even though we are performing multiple operations."
   ]
  },
  {
   "cell_type": "code",
   "execution_count": 29,
   "metadata": {},
   "outputs": [
    {
     "data": {
      "text/plain": [
       "{'workflow_id': 'TransformationWorkflow-dc1108934d9d07748146df5d3c05dad3',\n",
       " 'status': {'batch_count': 1,\n",
       "  'end_time': None,\n",
       "  'start_time': '2025-03-25 15:04:05',\n",
       "  'state': 'running',\n",
       "  'total_duration': None,\n",
       "  'total_items': 50}}"
      ]
     },
     "execution_count": 29,
     "metadata": {},
     "output_type": "execute_result"
    }
   ],
   "source": [
    "ta.get_status(workflow_id=ta_response.workflow_id)"
   ]
  },
  {
   "cell_type": "markdown",
   "metadata": {},
   "source": [
    "Let's monitor the operation as before:"
   ]
  },
  {
   "cell_type": "code",
   "execution_count": 30,
   "metadata": {},
   "outputs": [
    {
     "name": "stdout",
     "output_type": "stream",
     "text": [
      "Waiting... Elapsed time: 72.02 seconds\n",
      "Total time: 76.94 seconds\n",
      "{'workflow_id': 'TransformationWorkflow-dc1108934d9d07748146df5d3c05dad3', 'status': {'batch_count': 1, 'end_time': '2025-03-25 15:05:22', 'start_time': '2025-03-25 15:04:05', 'state': 'completed', 'total_duration': 76.937397, 'total_items': 50}}\n"
     ]
    }
   ],
   "source": [
    "get_ta_status(agent_instance=ta, workflow_id=ta_response.workflow_id)"
   ]
  },
  {
   "cell_type": "markdown",
   "metadata": {},
   "source": [
    "And again, inspect a few transformed objects:"
   ]
  },
  {
   "cell_type": "code",
   "execution_count": 31,
   "metadata": {},
   "outputs": [
    {
     "name": "stdout",
     "output_type": "stream",
     "text": [
      "abstract:   The problem of topic modeling can be seen as a g...\n",
      "title: A Spectral Algorithm for Latent Dirichlet Allocati...\n",
      "topics: ['Topic Modeling', 'Clustering', 'Latent Dirichlet Allocation (LDA)', 'Mixture Models', 'Singular Value Decomposition (SVD)']\n",
      "paper_type: model\n",
      "about_classification: False\n",
      "\n",
      "abstract:   We propose in this paper an exploratory analysis...\n",
      "title: Exploratory Analysis of Functional Data via Cluste...\n",
      "topics: ['Data Analysis', 'Machine Learning', 'Clustering', 'Optimization', 'Data Science']\n",
      "paper_type: analysis\n",
      "about_classification: False\n",
      "\n",
      "abstract:   When dealing with time series with complex non-s...\n",
      "paper_type: model\n",
      "title: Adapting to Non-stationarity with Growing Expert E...\n",
      "topics: ['Machine Learning', 'Time Series', 'Non-Stationarity', 'Online Learning', 'Algorithm Design']\n",
      "about_classification: False\n",
      "\n"
     ]
    }
   ],
   "source": [
    "response = papers_collection.query.fetch_objects(\n",
    "    limit=3,\n",
    ")\n",
    "\n",
    "for o in response.objects:\n",
    "    for k, v in o.properties.items():\n",
    "        if type(v) == str:\n",
    "            if len(v) > 50:\n",
    "                v = v[:50] + \"...\"\n",
    "        print(f\"{k}: {v}\")\n",
    "    print()"
   ]
  },
  {
   "cell_type": "markdown",
   "metadata": {},
   "source": [
    "We see it did, in fact, perform all the specified transformation operations."
   ]
  },
  {
   "cell_type": "markdown",
   "metadata": {},
   "source": [
    "We can now use these improved properties to perform new queries. \n",
    "\n",
    "- e.g. what paper types do we have?"
   ]
  },
  {
   "cell_type": "code",
   "execution_count": 32,
   "metadata": {},
   "outputs": [
    {
     "name": "stdout",
     "output_type": "stream",
     "text": [
      "TopOccurrence(count=28, value='model')\n",
      "TopOccurrence(count=17, value='analysis')\n",
      "TopOccurrence(count=2, value='other')\n",
      "TopOccurrence(count=1, value='survey')\n"
     ]
    }
   ],
   "source": [
    "from weaviate.classes.query import Metrics\n",
    "\n",
    "response = papers_collection.aggregate.over_all(\n",
    "    return_metrics=Metrics(\"paper_type\").text(\n",
    "        top_occurrences_count=True,\n",
    "        top_occurrences_value=True,\n",
    "        min_occurrences=10\n",
    "    )\n",
    ")\n",
    "\n",
    "for t in response.properties[\"paper_type\"].top_occurrences:\n",
    "    print(t)"
   ]
  },
  {
   "cell_type": "markdown",
   "metadata": {},
   "source": [
    "How many objects are about classifications?"
   ]
  },
  {
   "cell_type": "code",
   "execution_count": 33,
   "metadata": {},
   "outputs": [
    {
     "data": {
      "text/plain": [
       "11"
      ]
     },
     "execution_count": 33,
     "metadata": {},
     "output_type": "execute_result"
    }
   ],
   "source": [
    "from weaviate.classes.query import Filter\n",
    "\n",
    "response = papers_collection.aggregate.over_all(\n",
    "    filters=Filter.by_property(\"about_classification\").equal(True),\n",
    ")\n",
    "\n",
    "response.total_count"
   ]
  },
  {
   "cell_type": "code",
   "execution_count": 34,
   "metadata": {},
   "outputs": [
    {
     "name": "stdout",
     "output_type": "stream",
     "text": [
      "Bayesian Active Distance Metric Learning (Apprentissage de la distance métrique active bayésien)\n",
      "Fast Inference in Sparse Coding Algorithms with Applications to Object Recognition (Inferences rapides dans les algorithmes de codage parcimonieux avec applications à la reconnaissance dobjet)\n",
      "Statistical Translation, Heat Kernels and Expected Distances (Statistiques de traduction, noyaux de chaleur et distances attendues)\n",
      "Bayesian Active Learning for Classification and Preference Learning (Apprentissage Actif Bayésien pour la Classification et l''Apprentissage des Préférences)\n",
      "Optimizing F-measure: A Tale of Two Approaches (Optimiser la mesure F : Un roman de deux approches)\n",
      "Transfer Learning Using Feature Selection (Apprentissage transfert à l'aide de la sélection de caractéristiques)\n",
      "Mutual information for the selection of relevant variables in (Information mutuelle pour la sélection de variables pertinentes dans) spectrometric nonlinear modelling\n",
      "Using Genetic Algorithms for Texts Classification Problems (Utilisation des algorithmes génétiques pour les problèmes de classification de textes)\n",
      "Low congestion online routing and an improved mistake bound for online prediction of graph labeling (Routage en ligne avec faible congestion et limite d'erreur améliorée pour la prédiction en ligne d'étiquetage de graphique)\n",
      "Classification under Data Contamination with Application to Remote Sensing Image Mis-registration (Classification sous contamination de données avec application à la désynchronisation des images de télédétection)\n"
     ]
    }
   ],
   "source": [
    "from weaviate.classes.query import Filter\n",
    "\n",
    "response = papers_collection.query.fetch_objects(\n",
    "    filters=Filter.by_property(\"about_classification\").equal(True),\n",
    "    limit=10\n",
    ")\n",
    "\n",
    "for o in response.objects:\n",
    "    print(o.properties[\"title\"])"
   ]
  },
  {
   "cell_type": "markdown",
   "metadata": {},
   "source": [
    "What about intersections of multiple properties?"
   ]
  },
  {
   "cell_type": "code",
   "execution_count": 35,
   "metadata": {},
   "outputs": [
    {
     "data": {
      "text/plain": [
       "4"
      ]
     },
     "execution_count": 35,
     "metadata": {},
     "output_type": "execute_result"
    }
   ],
   "source": [
    "from weaviate.classes.query import Filter\n",
    "\n",
    "response = papers_collection.aggregate.over_all(\n",
    "    filters=(\n",
    "        Filter.by_property(\"paper_type\").equal(\"model\") &\n",
    "        Filter.by_property(\"about_classification\").equal(True)\n",
    "    )\n",
    ")\n",
    "\n",
    "response.total_count"
   ]
  },
  {
   "cell_type": "markdown",
   "metadata": {},
   "source": [
    "Let's take a look at a few:"
   ]
  },
  {
   "cell_type": "code",
   "execution_count": 36,
   "metadata": {},
   "outputs": [
    {
     "name": "stdout",
     "output_type": "stream",
     "text": [
      "Using a Kernel Adatron for Object Classification with RCS Data (Utilisation d'une Adatron de noyau pour la classification d'objets avec des données RCS)\n",
      "Fast Inference in Sparse Coding Algorithms with Applications to Object Recognition (Inferences rapides dans les algorithmes de codage parcimonieux avec applications à la reconnaissance dobjet)\n",
      "Bayesian Active Distance Metric Learning (Apprentissage de la distance métrique active bayésien)\n",
      "Bayesian Active Learning for Classification and Preference Learning (Apprentissage Actif Bayésien pour la Classification et l''Apprentissage des Préférences)\n"
     ]
    }
   ],
   "source": [
    "from weaviate.classes.query import Filter\n",
    "\n",
    "response = papers_collection.query.near_text(\n",
    "    query=\"vector\",\n",
    "    filters=(\n",
    "        Filter.by_property(\"paper_type\").equal(\"model\") &\n",
    "        Filter.by_property(\"about_classification\").equal(True)\n",
    "    )\n",
    ")\n",
    "\n",
    "for o in response.objects:\n",
    "    print(o.properties[\"title\"])"
   ]
  },
  {
   "cell_type": "markdown",
   "metadata": {},
   "source": [
    "## Bonus: Use the Query Agent"
   ]
  },
  {
   "cell_type": "markdown",
   "metadata": {},
   "source": [
    "The Weaviate [Query Agent](https://weaviate.io/developers/agents/query) is another agentic service on Weaviate Cloud. The Query Agent allows you to query your Weaviate instance using natural language."
   ]
  },
  {
   "cell_type": "code",
   "execution_count": 37,
   "metadata": {},
   "outputs": [],
   "source": [
    "from weaviate.agents.query import QueryAgent\n",
    "\n",
    "qa = QueryAgent(\n",
    "    client=client, collections=[collection_name]\n",
    ")"
   ]
  },
  {
   "cell_type": "markdown",
   "metadata": {},
   "source": [
    "Now, we can just tell the Query Agent to do the hard & boring stuff (syntax lookup!) for us."
   ]
  },
  {
   "cell_type": "code",
   "execution_count": 38,
   "metadata": {},
   "outputs": [
    {
     "data": {
      "text/html": [
       "<pre style=\"white-space:pre;overflow-x:auto;line-height:normal;font-family:Menlo,'DejaVu Sans Mono',consolas,'Courier New',monospace\">╭─────────────────────────────────────────────── 🔍 Original Query ───────────────────────────────────────────────╮\n",
       "│                                                                                                                 │\n",
       "│                                                                                                                 │\n",
       "│     Find papers that are about classification. Tell me about some of them.                                      │\n",
       "│     Hint: There is a property called 'about_classification' that you can use.                                   │\n",
       "│                                                                                                                 │\n",
       "│                                                                                                                 │\n",
       "╰─────────────────────────────────────────────────────────────────────────────────────────────────────────────────╯\n",
       "</pre>\n"
      ],
      "text/plain": [
       "╭─────────────────────────────────────────────── 🔍 Original Query ───────────────────────────────────────────────╮\n",
       "│                                                                                                                 │\n",
       "│                                                                                                                 │\n",
       "│     Find papers that are about classification. Tell me about some of them.                                      │\n",
       "│     Hint: There is a property called 'about_classification' that you can use.                                   │\n",
       "│                                                                                                                 │\n",
       "│                                                                                                                 │\n",
       "╰─────────────────────────────────────────────────────────────────────────────────────────────────────────────────╯\n"
      ]
     },
     "metadata": {},
     "output_type": "display_data"
    },
    {
     "data": {
      "text/html": [
       "<pre style=\"white-space:pre;overflow-x:auto;line-height:normal;font-family:Menlo,'DejaVu Sans Mono',consolas,'Courier New',monospace\"><span style=\"color: #008080; text-decoration-color: #008080\">╭────────────────────────────────────────────────</span> 📝 Final Answer <span style=\"color: #008080; text-decoration-color: #008080\">────────────────────────────────────────────────╮</span>\n",
       "<span style=\"color: #008080; text-decoration-color: #008080\">│                                                                                                                 │</span>\n",
       "<span style=\"color: #008080; text-decoration-color: #008080\">│ Several papers focus on the topic of classification and offer varied approaches and applications:               │</span>\n",
       "<span style=\"color: #008080; text-decoration-color: #008080\">│                                                                                                                 │</span>\n",
       "<span style=\"color: #008080; text-decoration-color: #008080\">│ 1. **\"Using Genetic Algorithms for Texts Classification Problems\":** This paper discusses data mining and text  │</span>\n",
       "<span style=\"color: #008080; text-decoration-color: #008080\">│ classification using genetic algorithms, emphasizing the automation of knowledge extraction. It explores how    │</span>\n",
       "<span style=\"color: #008080; text-decoration-color: #008080\">│ elements or texts can be classified into predetermined classes and the role of clustering in text information   │</span>\n",
       "<span style=\"color: #008080; text-decoration-color: #008080\">│ processing.                                                                                                     │</span>\n",
       "<span style=\"color: #008080; text-decoration-color: #008080\">│                                                                                                                 │</span>\n",
       "<span style=\"color: #008080; text-decoration-color: #008080\">│ 2. **\"Using a Kernel Adatron for Object Classification with RCS Data\":** This study investigates object         │</span>\n",
       "<span style=\"color: #008080; text-decoration-color: #008080\">│ recognition from radar cross-section data using support vector machines, which outperform Bayesian networks in  │</span>\n",
       "<span style=\"color: #008080; text-decoration-color: #008080\">│ processing speed. It demonstrates high accuracy in identifying different shapes, emphasizing the effectiveness  │</span>\n",
       "<span style=\"color: #008080; text-decoration-color: #008080\">│ of support vector machines in classification tasks.                                                             │</span>\n",
       "<span style=\"color: #008080; text-decoration-color: #008080\">│                                                                                                                 │</span>\n",
       "<span style=\"color: #008080; text-decoration-color: #008080\">│ 3. **\"Bayesian Active Learning for Classification and Preference Learning\":** This work explores active         │</span>\n",
       "<span style=\"color: #008080; text-decoration-color: #008080\">│ learning for classification using Gaussian Process Classifiers. It aims to optimize information gain for        │</span>\n",
       "<span style=\"color: #008080; text-decoration-color: #008080\">│ improved classification performance and extends the approach to preference learning.                            │</span>\n",
       "<span style=\"color: #008080; text-decoration-color: #008080\">│                                                                                                                 │</span>\n",
       "<span style=\"color: #008080; text-decoration-color: #008080\">│ 4. **\"Optimizing F-measure: A Tale of Two Approaches\":** This paper evaluates two approaches for maximizing     │</span>\n",
       "<span style=\"color: #008080; text-decoration-color: #008080\">│ F-measures in classification tasks, particularly useful for imbalanced datasets. It compares empirical utility  │</span>\n",
       "<span style=\"color: #008080; text-decoration-color: #008080\">│ maximization and decision-theoretic methods, concluding with insights on model accuracy and robustness.         │</span>\n",
       "<span style=\"color: #008080; text-decoration-color: #008080\">│                                                                                                                 │</span>\n",
       "<span style=\"color: #008080; text-decoration-color: #008080\">│ 5. **\"Classification under Data Contamination with Application to Remote Sensing Image Mis-registration\":**     │</span>\n",
       "<span style=\"color: #008080; text-decoration-color: #008080\">│ Focused on the impact of data contamination, this paper analyses how errors affect classification accuracy in   │</span>\n",
       "<span style=\"color: #008080; text-decoration-color: #008080\">│ the context of remote sensing. It provides solutions to mitigate accuracy loss due to data errors.              │</span>\n",
       "<span style=\"color: #008080; text-decoration-color: #008080\">│                                                                                                                 │</span>\n",
       "<span style=\"color: #008080; text-decoration-color: #008080\">│ 6. **\"Low Congestion Online Routing and an Improved Mistake Bound for Online Prediction of Graph Labeling\":**   │</span>\n",
       "<span style=\"color: #008080; text-decoration-color: #008080\">│ This study connects online routing problems with graph labeling prediction and presents an algorithm with       │</span>\n",
       "<span style=\"color: #008080; text-decoration-color: #008080\">│ improved error bounds, applicable to classification tasks among others.                                         │</span>\n",
       "<span style=\"color: #008080; text-decoration-color: #008080\">│                                                                                                                 │</span>\n",
       "<span style=\"color: #008080; text-decoration-color: #008080\">│ 7. **\"Statistical Translation, Heat Kernels and Expected Distances\":** This research proposes a novel framework │</span>\n",
       "<span style=\"color: #008080; text-decoration-color: #008080\">│ for unsupervised metric learning for text documents, showcasing improved classification metrics through         │</span>\n",
       "<span style=\"color: #008080; text-decoration-color: #008080\">│ enhanced distance calculations.                                                                                 │</span>\n",
       "<span style=\"color: #008080; text-decoration-color: #008080\">│                                                                                                                 │</span>\n",
       "<span style=\"color: #008080; text-decoration-color: #008080\">│ 8. **\"Bayesian Active Distance Metric Learning\":** This paper presents a Bayesian framework for distance metric │</span>\n",
       "<span style=\"color: #008080; text-decoration-color: #008080\">│ learning that improves classification accuracy by prioritizing uncertainty in training data selection.          │</span>\n",
       "<span style=\"color: #008080; text-decoration-color: #008080\">│                                                                                                                 │</span>\n",
       "<span style=\"color: #008080; text-decoration-color: #008080\">│ 9. **\"Transfer Learning Using Feature Selection\":** It discusses methods of transfer learning to enhance        │</span>\n",
       "<span style=\"color: #008080; text-decoration-color: #008080\">│ feature selection in classification models. These methods are particularly useful in genomic data analysis,     │</span>\n",
       "<span style=\"color: #008080; text-decoration-color: #008080\">│ demonstrating significant improvements in predictive feature selection.                                         │</span>\n",
       "<span style=\"color: #008080; text-decoration-color: #008080\">│                                                                                                                 │</span>\n",
       "<span style=\"color: #008080; text-decoration-color: #008080\">│ 10. **\"Fast Inference in Sparse Coding Algorithms with Applications to Object Recognition\":** This paper        │</span>\n",
       "<span style=\"color: #008080; text-decoration-color: #008080\">│ presents an efficient algorithm for sparse coding, which improves classification accuracy in visual recognition │</span>\n",
       "<span style=\"color: #008080; text-decoration-color: #008080\">│ tasks by optimizing reconstruction error and sparsity.                                                          │</span>\n",
       "<span style=\"color: #008080; text-decoration-color: #008080\">│                                                                                                                 │</span>\n",
       "<span style=\"color: #008080; text-decoration-color: #008080\">│ Each of these papers contributes uniquely to the field of classification, whether through novel algorithms,     │</span>\n",
       "<span style=\"color: #008080; text-decoration-color: #008080\">│ theoretical insights, or specific applications like text processing, radar data analysis, and remote sensing.   │</span>\n",
       "<span style=\"color: #008080; text-decoration-color: #008080\">│                                                                                                                 │</span>\n",
       "<span style=\"color: #008080; text-decoration-color: #008080\">╰─────────────────────────────────────────────────────────────────────────────────────────────────────────────────╯</span>\n",
       "</pre>\n"
      ],
      "text/plain": [
       "\u001b[36m╭─\u001b[0m\u001b[36m───────────────────────────────────────────────\u001b[0m 📝 Final Answer \u001b[36m───────────────────────────────────────────────\u001b[0m\u001b[36m─╮\u001b[0m\n",
       "\u001b[36m│\u001b[0m\u001b[36m                                                                                                                 \u001b[0m\u001b[36m│\u001b[0m\n",
       "\u001b[36m│\u001b[0m\u001b[36m \u001b[0m\u001b[36mSeveral papers focus on the topic of classification and offer varied approaches and applications:\u001b[0m\u001b[36m              \u001b[0m\u001b[36m \u001b[0m\u001b[36m│\u001b[0m\n",
       "\u001b[36m│\u001b[0m\u001b[36m \u001b[0m\u001b[36m                                                                                                               \u001b[0m\u001b[36m \u001b[0m\u001b[36m│\u001b[0m\n",
       "\u001b[36m│\u001b[0m\u001b[36m \u001b[0m\u001b[36m1. **\"Using Genetic Algorithms for Texts Classification Problems\":** This paper discusses data mining and text \u001b[0m\u001b[36m \u001b[0m\u001b[36m│\u001b[0m\n",
       "\u001b[36m│\u001b[0m\u001b[36m \u001b[0m\u001b[36mclassification using genetic algorithms, emphasizing the automation of knowledge extraction. It explores how \u001b[0m\u001b[36m  \u001b[0m\u001b[36m \u001b[0m\u001b[36m│\u001b[0m\n",
       "\u001b[36m│\u001b[0m\u001b[36m \u001b[0m\u001b[36melements or texts can be classified into predetermined classes and the role of clustering in text information \u001b[0m\u001b[36m \u001b[0m\u001b[36m \u001b[0m\u001b[36m│\u001b[0m\n",
       "\u001b[36m│\u001b[0m\u001b[36m \u001b[0m\u001b[36mprocessing.\u001b[0m\u001b[36m                                                                                                    \u001b[0m\u001b[36m \u001b[0m\u001b[36m│\u001b[0m\n",
       "\u001b[36m│\u001b[0m\u001b[36m \u001b[0m\u001b[36m                                                                                                               \u001b[0m\u001b[36m \u001b[0m\u001b[36m│\u001b[0m\n",
       "\u001b[36m│\u001b[0m\u001b[36m \u001b[0m\u001b[36m2. **\"Using a Kernel Adatron for Object Classification with RCS Data\":** This study investigates object \u001b[0m\u001b[36m       \u001b[0m\u001b[36m \u001b[0m\u001b[36m│\u001b[0m\n",
       "\u001b[36m│\u001b[0m\u001b[36m \u001b[0m\u001b[36mrecognition from radar cross-section data using support vector machines, which outperform Bayesian networks in \u001b[0m\u001b[36m \u001b[0m\u001b[36m│\u001b[0m\n",
       "\u001b[36m│\u001b[0m\u001b[36m \u001b[0m\u001b[36mprocessing speed. It demonstrates high accuracy in identifying different shapes, emphasizing the effectiveness \u001b[0m\u001b[36m \u001b[0m\u001b[36m│\u001b[0m\n",
       "\u001b[36m│\u001b[0m\u001b[36m \u001b[0m\u001b[36mof support vector machines in classification tasks.\u001b[0m\u001b[36m                                                            \u001b[0m\u001b[36m \u001b[0m\u001b[36m│\u001b[0m\n",
       "\u001b[36m│\u001b[0m\u001b[36m \u001b[0m\u001b[36m                                                                                                               \u001b[0m\u001b[36m \u001b[0m\u001b[36m│\u001b[0m\n",
       "\u001b[36m│\u001b[0m\u001b[36m \u001b[0m\u001b[36m3. **\"Bayesian Active Learning for Classification and Preference Learning\":** This work explores active \u001b[0m\u001b[36m       \u001b[0m\u001b[36m \u001b[0m\u001b[36m│\u001b[0m\n",
       "\u001b[36m│\u001b[0m\u001b[36m \u001b[0m\u001b[36mlearning for classification using Gaussian Process Classifiers. It aims to optimize information gain for \u001b[0m\u001b[36m      \u001b[0m\u001b[36m \u001b[0m\u001b[36m│\u001b[0m\n",
       "\u001b[36m│\u001b[0m\u001b[36m \u001b[0m\u001b[36mimproved classification performance and extends the approach to preference learning.\u001b[0m\u001b[36m                           \u001b[0m\u001b[36m \u001b[0m\u001b[36m│\u001b[0m\n",
       "\u001b[36m│\u001b[0m\u001b[36m \u001b[0m\u001b[36m                                                                                                               \u001b[0m\u001b[36m \u001b[0m\u001b[36m│\u001b[0m\n",
       "\u001b[36m│\u001b[0m\u001b[36m \u001b[0m\u001b[36m4. **\"Optimizing F-measure: A Tale of Two Approaches\":** This paper evaluates two approaches for maximizing \u001b[0m\u001b[36m   \u001b[0m\u001b[36m \u001b[0m\u001b[36m│\u001b[0m\n",
       "\u001b[36m│\u001b[0m\u001b[36m \u001b[0m\u001b[36mF-measures in classification tasks, particularly useful for imbalanced datasets. It compares empirical utility \u001b[0m\u001b[36m \u001b[0m\u001b[36m│\u001b[0m\n",
       "\u001b[36m│\u001b[0m\u001b[36m \u001b[0m\u001b[36mmaximization and decision-theoretic methods, concluding with insights on model accuracy and robustness.\u001b[0m\u001b[36m        \u001b[0m\u001b[36m \u001b[0m\u001b[36m│\u001b[0m\n",
       "\u001b[36m│\u001b[0m\u001b[36m \u001b[0m\u001b[36m                                                                                                               \u001b[0m\u001b[36m \u001b[0m\u001b[36m│\u001b[0m\n",
       "\u001b[36m│\u001b[0m\u001b[36m \u001b[0m\u001b[36m5. **\"Classification under Data Contamination with Application to Remote Sensing Image Mis-registration\":** \u001b[0m\u001b[36m   \u001b[0m\u001b[36m \u001b[0m\u001b[36m│\u001b[0m\n",
       "\u001b[36m│\u001b[0m\u001b[36m \u001b[0m\u001b[36mFocused on the impact of data contamination, this paper analyses how errors affect classification accuracy in \u001b[0m\u001b[36m \u001b[0m\u001b[36m \u001b[0m\u001b[36m│\u001b[0m\n",
       "\u001b[36m│\u001b[0m\u001b[36m \u001b[0m\u001b[36mthe context of remote sensing. It provides solutions to mitigate accuracy loss due to data errors.\u001b[0m\u001b[36m             \u001b[0m\u001b[36m \u001b[0m\u001b[36m│\u001b[0m\n",
       "\u001b[36m│\u001b[0m\u001b[36m \u001b[0m\u001b[36m                                                                                                               \u001b[0m\u001b[36m \u001b[0m\u001b[36m│\u001b[0m\n",
       "\u001b[36m│\u001b[0m\u001b[36m \u001b[0m\u001b[36m6. **\"Low Congestion Online Routing and an Improved Mistake Bound for Online Prediction of Graph Labeling\":** \u001b[0m\u001b[36m \u001b[0m\u001b[36m \u001b[0m\u001b[36m│\u001b[0m\n",
       "\u001b[36m│\u001b[0m\u001b[36m \u001b[0m\u001b[36mThis study connects online routing problems with graph labeling prediction and presents an algorithm with \u001b[0m\u001b[36m     \u001b[0m\u001b[36m \u001b[0m\u001b[36m│\u001b[0m\n",
       "\u001b[36m│\u001b[0m\u001b[36m \u001b[0m\u001b[36mimproved error bounds, applicable to classification tasks among others.\u001b[0m\u001b[36m                                        \u001b[0m\u001b[36m \u001b[0m\u001b[36m│\u001b[0m\n",
       "\u001b[36m│\u001b[0m\u001b[36m \u001b[0m\u001b[36m                                                                                                               \u001b[0m\u001b[36m \u001b[0m\u001b[36m│\u001b[0m\n",
       "\u001b[36m│\u001b[0m\u001b[36m \u001b[0m\u001b[36m7. **\"Statistical Translation, Heat Kernels and Expected Distances\":** This research proposes a novel framework\u001b[0m\u001b[36m \u001b[0m\u001b[36m│\u001b[0m\n",
       "\u001b[36m│\u001b[0m\u001b[36m \u001b[0m\u001b[36mfor unsupervised metric learning for text documents, showcasing improved classification metrics through \u001b[0m\u001b[36m       \u001b[0m\u001b[36m \u001b[0m\u001b[36m│\u001b[0m\n",
       "\u001b[36m│\u001b[0m\u001b[36m \u001b[0m\u001b[36menhanced distance calculations.\u001b[0m\u001b[36m                                                                                \u001b[0m\u001b[36m \u001b[0m\u001b[36m│\u001b[0m\n",
       "\u001b[36m│\u001b[0m\u001b[36m \u001b[0m\u001b[36m                                                                                                               \u001b[0m\u001b[36m \u001b[0m\u001b[36m│\u001b[0m\n",
       "\u001b[36m│\u001b[0m\u001b[36m \u001b[0m\u001b[36m8. **\"Bayesian Active Distance Metric Learning\":** This paper presents a Bayesian framework for distance metric\u001b[0m\u001b[36m \u001b[0m\u001b[36m│\u001b[0m\n",
       "\u001b[36m│\u001b[0m\u001b[36m \u001b[0m\u001b[36mlearning that improves classification accuracy by prioritizing uncertainty in training data selection.\u001b[0m\u001b[36m         \u001b[0m\u001b[36m \u001b[0m\u001b[36m│\u001b[0m\n",
       "\u001b[36m│\u001b[0m\u001b[36m \u001b[0m\u001b[36m                                                                                                               \u001b[0m\u001b[36m \u001b[0m\u001b[36m│\u001b[0m\n",
       "\u001b[36m│\u001b[0m\u001b[36m \u001b[0m\u001b[36m9. **\"Transfer Learning Using Feature Selection\":** It discusses methods of transfer learning to enhance \u001b[0m\u001b[36m      \u001b[0m\u001b[36m \u001b[0m\u001b[36m│\u001b[0m\n",
       "\u001b[36m│\u001b[0m\u001b[36m \u001b[0m\u001b[36mfeature selection in classification models. These methods are particularly useful in genomic data analysis, \u001b[0m\u001b[36m   \u001b[0m\u001b[36m \u001b[0m\u001b[36m│\u001b[0m\n",
       "\u001b[36m│\u001b[0m\u001b[36m \u001b[0m\u001b[36mdemonstrating significant improvements in predictive feature selection.\u001b[0m\u001b[36m                                        \u001b[0m\u001b[36m \u001b[0m\u001b[36m│\u001b[0m\n",
       "\u001b[36m│\u001b[0m\u001b[36m \u001b[0m\u001b[36m                                                                                                               \u001b[0m\u001b[36m \u001b[0m\u001b[36m│\u001b[0m\n",
       "\u001b[36m│\u001b[0m\u001b[36m \u001b[0m\u001b[36m10. **\"Fast Inference in Sparse Coding Algorithms with Applications to Object Recognition\":** This paper \u001b[0m\u001b[36m      \u001b[0m\u001b[36m \u001b[0m\u001b[36m│\u001b[0m\n",
       "\u001b[36m│\u001b[0m\u001b[36m \u001b[0m\u001b[36mpresents an efficient algorithm for sparse coding, which improves classification accuracy in visual recognition\u001b[0m\u001b[36m \u001b[0m\u001b[36m│\u001b[0m\n",
       "\u001b[36m│\u001b[0m\u001b[36m \u001b[0m\u001b[36mtasks by optimizing reconstruction error and sparsity.\u001b[0m\u001b[36m                                                         \u001b[0m\u001b[36m \u001b[0m\u001b[36m│\u001b[0m\n",
       "\u001b[36m│\u001b[0m\u001b[36m \u001b[0m\u001b[36m                                                                                                               \u001b[0m\u001b[36m \u001b[0m\u001b[36m│\u001b[0m\n",
       "\u001b[36m│\u001b[0m\u001b[36m \u001b[0m\u001b[36mEach of these papers contributes uniquely to the field of classification, whether through novel algorithms, \u001b[0m\u001b[36m   \u001b[0m\u001b[36m \u001b[0m\u001b[36m│\u001b[0m\n",
       "\u001b[36m│\u001b[0m\u001b[36m \u001b[0m\u001b[36mtheoretical insights, or specific applications like text processing, radar data analysis, and remote sensing.\u001b[0m\u001b[36m  \u001b[0m\u001b[36m \u001b[0m\u001b[36m│\u001b[0m\n",
       "\u001b[36m│\u001b[0m\u001b[36m                                                                                                                 \u001b[0m\u001b[36m│\u001b[0m\n",
       "\u001b[36m╰─────────────────────────────────────────────────────────────────────────────────────────────────────────────────╯\u001b[0m\n"
      ]
     },
     "metadata": {},
     "output_type": "display_data"
    },
    {
     "data": {
      "text/html": [
       "<pre style=\"white-space:pre;overflow-x:auto;line-height:normal;font-family:Menlo,'DejaVu Sans Mono',consolas,'Courier New',monospace\"><span style=\"color: #c0c0c0; text-decoration-color: #c0c0c0\">╭───────────────────────────────────────────</span> 🔭 Searches Executed 1/1 <span style=\"color: #c0c0c0; text-decoration-color: #c0c0c0\">────────────────────────────────────────────╮</span>\n",
       "<span style=\"color: #c0c0c0; text-decoration-color: #c0c0c0\">│                                                                                                                 │</span>\n",
       "<span style=\"color: #c0c0c0; text-decoration-color: #c0c0c0\">│ </span><span style=\"color: #800080; text-decoration-color: #800080; font-weight: bold\">QueryResultWithCollection</span><span style=\"color: #c0c0c0; text-decoration-color: #c0c0c0; font-weight: bold\">(</span><span style=\"color: #c0c0c0; text-decoration-color: #c0c0c0\">                                                                                      │</span>\n",
       "<span style=\"color: #c0c0c0; text-decoration-color: #c0c0c0\">│     </span><span style=\"color: #808000; text-decoration-color: #808000\">queries</span><span style=\"color: #c0c0c0; text-decoration-color: #c0c0c0\">=</span><span style=\"color: #c0c0c0; text-decoration-color: #c0c0c0; font-weight: bold\">[</span><span style=\"color: #008000; text-decoration-color: #008000\">'papers about classification'</span><span style=\"color: #c0c0c0; text-decoration-color: #c0c0c0; font-weight: bold\">]</span><span style=\"color: #c0c0c0; text-decoration-color: #c0c0c0\">,                                                                    │</span>\n",
       "<span style=\"color: #c0c0c0; text-decoration-color: #c0c0c0\">│     </span><span style=\"color: #808000; text-decoration-color: #808000\">filters</span><span style=\"color: #c0c0c0; text-decoration-color: #c0c0c0\">=</span><span style=\"color: #c0c0c0; text-decoration-color: #c0c0c0; font-weight: bold\">[</span><span style=\"color: #c0c0c0; text-decoration-color: #c0c0c0\">                                                                                                   │</span>\n",
       "<span style=\"color: #c0c0c0; text-decoration-color: #c0c0c0\">│         </span><span style=\"color: #c0c0c0; text-decoration-color: #c0c0c0; font-weight: bold\">[</span><span style=\"color: #c0c0c0; text-decoration-color: #c0c0c0\">                                                                                                       │</span>\n",
       "<span style=\"color: #c0c0c0; text-decoration-color: #c0c0c0\">│             </span><span style=\"color: #800080; text-decoration-color: #800080; font-weight: bold\">BooleanPropertyFilter</span><span style=\"color: #c0c0c0; text-decoration-color: #c0c0c0; font-weight: bold\">(</span><span style=\"color: #c0c0c0; text-decoration-color: #c0c0c0\">                                                                              │</span>\n",
       "<span style=\"color: #c0c0c0; text-decoration-color: #c0c0c0\">│                 </span><span style=\"color: #808000; text-decoration-color: #808000\">property_name</span><span style=\"color: #c0c0c0; text-decoration-color: #c0c0c0\">=</span><span style=\"color: #008000; text-decoration-color: #008000\">'about_classification'</span><span style=\"color: #c0c0c0; text-decoration-color: #c0c0c0\">,                                                           │</span>\n",
       "<span style=\"color: #c0c0c0; text-decoration-color: #c0c0c0\">│                 </span><span style=\"color: #808000; text-decoration-color: #808000\">operator</span><span style=\"color: #c0c0c0; text-decoration-color: #c0c0c0\">=</span><span style=\"color: #c0c0c0; text-decoration-color: #c0c0c0; font-weight: bold\">&lt;</span><span style=\"color: #ff00ff; text-decoration-color: #ff00ff; font-weight: bold\">ComparisonOperator.EQUALS:</span><span style=\"color: #000000; text-decoration-color: #000000\"> </span><span style=\"color: #008000; text-decoration-color: #008000\">'='</span><span style=\"color: #c0c0c0; text-decoration-color: #c0c0c0; font-weight: bold\">&gt;</span><span style=\"color: #c0c0c0; text-decoration-color: #c0c0c0\">,                                                      │</span>\n",
       "<span style=\"color: #c0c0c0; text-decoration-color: #c0c0c0\">│                 </span><span style=\"color: #808000; text-decoration-color: #808000\">value</span><span style=\"color: #c0c0c0; text-decoration-color: #c0c0c0\">=</span><span style=\"color: #00ff00; text-decoration-color: #00ff00; font-style: italic\">True</span><span style=\"color: #c0c0c0; text-decoration-color: #c0c0c0\">                                                                                      │</span>\n",
       "<span style=\"color: #c0c0c0; text-decoration-color: #c0c0c0\">│             </span><span style=\"color: #c0c0c0; text-decoration-color: #c0c0c0; font-weight: bold\">)</span><span style=\"color: #c0c0c0; text-decoration-color: #c0c0c0\">                                                                                                   │</span>\n",
       "<span style=\"color: #c0c0c0; text-decoration-color: #c0c0c0\">│         </span><span style=\"color: #c0c0c0; text-decoration-color: #c0c0c0; font-weight: bold\">]</span><span style=\"color: #c0c0c0; text-decoration-color: #c0c0c0\">                                                                                                       │</span>\n",
       "<span style=\"color: #c0c0c0; text-decoration-color: #c0c0c0\">│     </span><span style=\"color: #c0c0c0; text-decoration-color: #c0c0c0; font-weight: bold\">]</span><span style=\"color: #c0c0c0; text-decoration-color: #c0c0c0\">,                                                                                                          │</span>\n",
       "<span style=\"color: #c0c0c0; text-decoration-color: #c0c0c0\">│     </span><span style=\"color: #808000; text-decoration-color: #808000\">filter_operators</span><span style=\"color: #c0c0c0; text-decoration-color: #c0c0c0\">=</span><span style=\"color: #008000; text-decoration-color: #008000\">'AND'</span><span style=\"color: #c0c0c0; text-decoration-color: #c0c0c0\">,                                                                                     │</span>\n",
       "<span style=\"color: #c0c0c0; text-decoration-color: #c0c0c0\">│     </span><span style=\"color: #808000; text-decoration-color: #808000\">collection</span><span style=\"color: #c0c0c0; text-decoration-color: #c0c0c0\">=</span><span style=\"color: #008000; text-decoration-color: #008000\">'ArxivPapersDemo'</span><span style=\"color: #c0c0c0; text-decoration-color: #c0c0c0\">                                                                                │</span>\n",
       "<span style=\"color: #c0c0c0; text-decoration-color: #c0c0c0\">│ </span><span style=\"color: #c0c0c0; text-decoration-color: #c0c0c0; font-weight: bold\">)</span><span style=\"color: #c0c0c0; text-decoration-color: #c0c0c0\">                                                                                                               │</span>\n",
       "<span style=\"color: #c0c0c0; text-decoration-color: #c0c0c0\">│                                                                                                                 │</span>\n",
       "<span style=\"color: #c0c0c0; text-decoration-color: #c0c0c0\">╰─────────────────────────────────────────────────────────────────────────────────────────────────────────────────╯</span>\n",
       "</pre>\n"
      ],
      "text/plain": [
       "\u001b[37m╭─\u001b[0m\u001b[37m──────────────────────────────────────────\u001b[0m 🔭 Searches Executed 1/1 \u001b[37m───────────────────────────────────────────\u001b[0m\u001b[37m─╮\u001b[0m\n",
       "\u001b[37m│\u001b[0m\u001b[37m                                                                                                                 \u001b[0m\u001b[37m│\u001b[0m\n",
       "\u001b[37m│\u001b[0m\u001b[37m \u001b[0m\u001b[1;35mQueryResultWithCollection\u001b[0m\u001b[1;37m(\u001b[0m\u001b[37m                                                                                     \u001b[0m\u001b[37m \u001b[0m\u001b[37m│\u001b[0m\n",
       "\u001b[37m│\u001b[0m\u001b[37m \u001b[0m\u001b[37m    \u001b[0m\u001b[33mqueries\u001b[0m\u001b[37m=\u001b[0m\u001b[1;37m[\u001b[0m\u001b[32m'papers about classification'\u001b[0m\u001b[1;37m]\u001b[0m\u001b[37m,\u001b[0m\u001b[37m                                                                   \u001b[0m\u001b[37m \u001b[0m\u001b[37m│\u001b[0m\n",
       "\u001b[37m│\u001b[0m\u001b[37m \u001b[0m\u001b[37m    \u001b[0m\u001b[33mfilters\u001b[0m\u001b[37m=\u001b[0m\u001b[1;37m[\u001b[0m\u001b[37m                                                                                                  \u001b[0m\u001b[37m \u001b[0m\u001b[37m│\u001b[0m\n",
       "\u001b[37m│\u001b[0m\u001b[37m \u001b[0m\u001b[37m        \u001b[0m\u001b[1;37m[\u001b[0m\u001b[37m                                                                                                      \u001b[0m\u001b[37m \u001b[0m\u001b[37m│\u001b[0m\n",
       "\u001b[37m│\u001b[0m\u001b[37m \u001b[0m\u001b[37m            \u001b[0m\u001b[1;35mBooleanPropertyFilter\u001b[0m\u001b[1;37m(\u001b[0m\u001b[37m                                                                             \u001b[0m\u001b[37m \u001b[0m\u001b[37m│\u001b[0m\n",
       "\u001b[37m│\u001b[0m\u001b[37m \u001b[0m\u001b[37m                \u001b[0m\u001b[33mproperty_name\u001b[0m\u001b[37m=\u001b[0m\u001b[32m'about_classification'\u001b[0m\u001b[37m,\u001b[0m\u001b[37m                                                          \u001b[0m\u001b[37m \u001b[0m\u001b[37m│\u001b[0m\n",
       "\u001b[37m│\u001b[0m\u001b[37m \u001b[0m\u001b[37m                \u001b[0m\u001b[33moperator\u001b[0m\u001b[37m=\u001b[0m\u001b[1;37m<\u001b[0m\u001b[1;95mComparisonOperator.EQUALS:\u001b[0m\u001b[39m \u001b[0m\u001b[32m'='\u001b[0m\u001b[1;37m>\u001b[0m\u001b[37m,\u001b[0m\u001b[37m                                                     \u001b[0m\u001b[37m \u001b[0m\u001b[37m│\u001b[0m\n",
       "\u001b[37m│\u001b[0m\u001b[37m \u001b[0m\u001b[37m                \u001b[0m\u001b[33mvalue\u001b[0m\u001b[37m=\u001b[0m\u001b[3;92mTrue\u001b[0m\u001b[37m                                                                                     \u001b[0m\u001b[37m \u001b[0m\u001b[37m│\u001b[0m\n",
       "\u001b[37m│\u001b[0m\u001b[37m \u001b[0m\u001b[37m            \u001b[0m\u001b[1;37m)\u001b[0m\u001b[37m                                                                                                  \u001b[0m\u001b[37m \u001b[0m\u001b[37m│\u001b[0m\n",
       "\u001b[37m│\u001b[0m\u001b[37m \u001b[0m\u001b[37m        \u001b[0m\u001b[1;37m]\u001b[0m\u001b[37m                                                                                                      \u001b[0m\u001b[37m \u001b[0m\u001b[37m│\u001b[0m\n",
       "\u001b[37m│\u001b[0m\u001b[37m \u001b[0m\u001b[37m    \u001b[0m\u001b[1;37m]\u001b[0m\u001b[37m,\u001b[0m\u001b[37m                                                                                                         \u001b[0m\u001b[37m \u001b[0m\u001b[37m│\u001b[0m\n",
       "\u001b[37m│\u001b[0m\u001b[37m \u001b[0m\u001b[37m    \u001b[0m\u001b[33mfilter_operators\u001b[0m\u001b[37m=\u001b[0m\u001b[32m'AND'\u001b[0m\u001b[37m,\u001b[0m\u001b[37m                                                                                    \u001b[0m\u001b[37m \u001b[0m\u001b[37m│\u001b[0m\n",
       "\u001b[37m│\u001b[0m\u001b[37m \u001b[0m\u001b[37m    \u001b[0m\u001b[33mcollection\u001b[0m\u001b[37m=\u001b[0m\u001b[32m'ArxivPapersDemo'\u001b[0m\u001b[37m                                                                               \u001b[0m\u001b[37m \u001b[0m\u001b[37m│\u001b[0m\n",
       "\u001b[37m│\u001b[0m\u001b[37m \u001b[0m\u001b[1;37m)\u001b[0m\u001b[37m                                                                                                              \u001b[0m\u001b[37m \u001b[0m\u001b[37m│\u001b[0m\n",
       "\u001b[37m│\u001b[0m\u001b[37m                                                                                                                 \u001b[0m\u001b[37m│\u001b[0m\n",
       "\u001b[37m╰─────────────────────────────────────────────────────────────────────────────────────────────────────────────────╯\u001b[0m\n"
      ]
     },
     "metadata": {},
     "output_type": "display_data"
    },
    {
     "data": {
      "text/html": [
       "<pre style=\"white-space:pre;overflow-x:auto;line-height:normal;font-family:Menlo,'DejaVu Sans Mono',consolas,'Courier New',monospace\"><span style=\"color: #d75f5f; text-decoration-color: #d75f5f\">╭─────────────────────────────────────────────────────────────────────────────────────────────────────────────────╮</span>\n",
       "<span style=\"color: #d75f5f; text-decoration-color: #d75f5f\">│                                                                                                                 │</span>\n",
       "<span style=\"color: #d75f5f; text-decoration-color: #d75f5f\">│ 📊 No Aggregations Run                                                                                          │</span>\n",
       "<span style=\"color: #d75f5f; text-decoration-color: #d75f5f\">│                                                                                                                 │</span>\n",
       "<span style=\"color: #d75f5f; text-decoration-color: #d75f5f\">╰─────────────────────────────────────────────────────────────────────────────────────────────────────────────────╯</span>\n",
       "</pre>\n"
      ],
      "text/plain": [
       "\u001b[38;5;167m╭─────────────────────────────────────────────────────────────────────────────────────────────────────────────────╮\u001b[0m\n",
       "\u001b[38;5;167m│\u001b[0m\u001b[38;5;167m                                                                                                                 \u001b[0m\u001b[38;5;167m│\u001b[0m\n",
       "\u001b[38;5;167m│\u001b[0m\u001b[38;5;167m \u001b[0m\u001b[38;5;167m📊 No Aggregations Run\u001b[0m\u001b[38;5;167m                                                                                         \u001b[0m\u001b[38;5;167m \u001b[0m\u001b[38;5;167m│\u001b[0m\n",
       "\u001b[38;5;167m│\u001b[0m\u001b[38;5;167m                                                                                                                 \u001b[0m\u001b[38;5;167m│\u001b[0m\n",
       "\u001b[38;5;167m╰─────────────────────────────────────────────────────────────────────────────────────────────────────────────────╯\u001b[0m\n"
      ]
     },
     "metadata": {},
     "output_type": "display_data"
    },
    {
     "data": {
      "text/html": [
       "<pre style=\"white-space:pre;overflow-x:auto;line-height:normal;font-family:Menlo,'DejaVu Sans Mono',consolas,'Courier New',monospace\"><span style=\"color: #c0c0c0; text-decoration-color: #c0c0c0\">╭──────────────────────────────────────────────────</span> 📚 Sources <span style=\"color: #c0c0c0; text-decoration-color: #c0c0c0\">───────────────────────────────────────────────────╮</span>\n",
       "<span style=\"color: #c0c0c0; text-decoration-color: #c0c0c0\">│                                                                                                                 │</span>\n",
       "<span style=\"color: #c0c0c0; text-decoration-color: #c0c0c0\">│  - object_id='ad47eb5e-6863-430c-928e-fb0cfdb1c0ea' collection='ArxivPapersDemo'                                │</span>\n",
       "<span style=\"color: #c0c0c0; text-decoration-color: #c0c0c0\">│  - object_id='2131c988-ea5e-48be-b7ce-9db38e868e3d' collection='ArxivPapersDemo'                                │</span>\n",
       "<span style=\"color: #c0c0c0; text-decoration-color: #c0c0c0\">│  - object_id='70b1d639-524f-4851-866f-05c09c3152bc' collection='ArxivPapersDemo'                                │</span>\n",
       "<span style=\"color: #c0c0c0; text-decoration-color: #c0c0c0\">│  - object_id='e2226641-db72-4e60-98cd-64ad999ecf21' collection='ArxivPapersDemo'                                │</span>\n",
       "<span style=\"color: #c0c0c0; text-decoration-color: #c0c0c0\">│  - object_id='875ec8eb-54dd-485c-b219-7d99c8e0b8cd' collection='ArxivPapersDemo'                                │</span>\n",
       "<span style=\"color: #c0c0c0; text-decoration-color: #c0c0c0\">│  - object_id='ba9fb02e-9576-4ea0-9e54-f2e5e6cd1b2a' collection='ArxivPapersDemo'                                │</span>\n",
       "<span style=\"color: #c0c0c0; text-decoration-color: #c0c0c0\">│  - object_id='a0eb131c-8e5e-4bf0-b66d-1223b832aa9e' collection='ArxivPapersDemo'                                │</span>\n",
       "<span style=\"color: #c0c0c0; text-decoration-color: #c0c0c0\">│  - object_id='a904109f-ca0e-42f9-ba07-32e2dfbba806' collection='ArxivPapersDemo'                                │</span>\n",
       "<span style=\"color: #c0c0c0; text-decoration-color: #c0c0c0\">│  - object_id='bdcf35d6-732c-47ec-b413-68c5fe25b980' collection='ArxivPapersDemo'                                │</span>\n",
       "<span style=\"color: #c0c0c0; text-decoration-color: #c0c0c0\">│  - object_id='38a0839e-369f-4838-9f04-2d511bb28e9c' collection='ArxivPapersDemo'                                │</span>\n",
       "<span style=\"color: #c0c0c0; text-decoration-color: #c0c0c0\">│                                                                                                                 │</span>\n",
       "<span style=\"color: #c0c0c0; text-decoration-color: #c0c0c0\">╰─────────────────────────────────────────────────────────────────────────────────────────────────────────────────╯</span>\n",
       "</pre>\n"
      ],
      "text/plain": [
       "\u001b[37m╭─\u001b[0m\u001b[37m─────────────────────────────────────────────────\u001b[0m 📚 Sources \u001b[37m──────────────────────────────────────────────────\u001b[0m\u001b[37m─╮\u001b[0m\n",
       "\u001b[37m│\u001b[0m\u001b[37m                                                                                                                 \u001b[0m\u001b[37m│\u001b[0m\n",
       "\u001b[37m│\u001b[0m\u001b[37m \u001b[0m\u001b[37m - object_id='ad47eb5e-6863-430c-928e-fb0cfdb1c0ea' collection='ArxivPapersDemo'\u001b[0m\u001b[37m                               \u001b[0m\u001b[37m \u001b[0m\u001b[37m│\u001b[0m\n",
       "\u001b[37m│\u001b[0m\u001b[37m \u001b[0m\u001b[37m - object_id='2131c988-ea5e-48be-b7ce-9db38e868e3d' collection='ArxivPapersDemo'\u001b[0m\u001b[37m                               \u001b[0m\u001b[37m \u001b[0m\u001b[37m│\u001b[0m\n",
       "\u001b[37m│\u001b[0m\u001b[37m \u001b[0m\u001b[37m - object_id='70b1d639-524f-4851-866f-05c09c3152bc' collection='ArxivPapersDemo'\u001b[0m\u001b[37m                               \u001b[0m\u001b[37m \u001b[0m\u001b[37m│\u001b[0m\n",
       "\u001b[37m│\u001b[0m\u001b[37m \u001b[0m\u001b[37m - object_id='e2226641-db72-4e60-98cd-64ad999ecf21' collection='ArxivPapersDemo'\u001b[0m\u001b[37m                               \u001b[0m\u001b[37m \u001b[0m\u001b[37m│\u001b[0m\n",
       "\u001b[37m│\u001b[0m\u001b[37m \u001b[0m\u001b[37m - object_id='875ec8eb-54dd-485c-b219-7d99c8e0b8cd' collection='ArxivPapersDemo'\u001b[0m\u001b[37m                               \u001b[0m\u001b[37m \u001b[0m\u001b[37m│\u001b[0m\n",
       "\u001b[37m│\u001b[0m\u001b[37m \u001b[0m\u001b[37m - object_id='ba9fb02e-9576-4ea0-9e54-f2e5e6cd1b2a' collection='ArxivPapersDemo'\u001b[0m\u001b[37m                               \u001b[0m\u001b[37m \u001b[0m\u001b[37m│\u001b[0m\n",
       "\u001b[37m│\u001b[0m\u001b[37m \u001b[0m\u001b[37m - object_id='a0eb131c-8e5e-4bf0-b66d-1223b832aa9e' collection='ArxivPapersDemo'\u001b[0m\u001b[37m                               \u001b[0m\u001b[37m \u001b[0m\u001b[37m│\u001b[0m\n",
       "\u001b[37m│\u001b[0m\u001b[37m \u001b[0m\u001b[37m - object_id='a904109f-ca0e-42f9-ba07-32e2dfbba806' collection='ArxivPapersDemo'\u001b[0m\u001b[37m                               \u001b[0m\u001b[37m \u001b[0m\u001b[37m│\u001b[0m\n",
       "\u001b[37m│\u001b[0m\u001b[37m \u001b[0m\u001b[37m - object_id='bdcf35d6-732c-47ec-b413-68c5fe25b980' collection='ArxivPapersDemo'\u001b[0m\u001b[37m                               \u001b[0m\u001b[37m \u001b[0m\u001b[37m│\u001b[0m\n",
       "\u001b[37m│\u001b[0m\u001b[37m \u001b[0m\u001b[37m - object_id='38a0839e-369f-4838-9f04-2d511bb28e9c' collection='ArxivPapersDemo'\u001b[0m\u001b[37m                               \u001b[0m\u001b[37m \u001b[0m\u001b[37m│\u001b[0m\n",
       "\u001b[37m│\u001b[0m\u001b[37m                                                                                                                 \u001b[0m\u001b[37m│\u001b[0m\n",
       "\u001b[37m╰─────────────────────────────────────────────────────────────────────────────────────────────────────────────────╯\u001b[0m\n"
      ]
     },
     "metadata": {},
     "output_type": "display_data"
    },
    {
     "name": "stdout",
     "output_type": "stream",
     "text": [
      "\n",
      "\n"
     ]
    },
    {
     "data": {
      "text/html": [
       "<pre style=\"white-space:pre;overflow-x:auto;line-height:normal;font-family:Menlo,'DejaVu Sans Mono',consolas,'Courier New',monospace\"><span style=\"font-style: italic\">   📊 Usage Statistics   </span>\n",
       "┌────────────────┬──────┐\n",
       "│ LLM Requests:  │ 3    │\n",
       "│ Input Tokens:  │ 5797 │\n",
       "│ Output Tokens: │ 701  │\n",
       "│ Total Tokens:  │ 6498 │\n",
       "└────────────────┴──────┘\n",
       "</pre>\n"
      ],
      "text/plain": [
       "\u001b[3m   📊 Usage Statistics   \u001b[0m\n",
       "┌────────────────┬──────┐\n",
       "│ LLM Requests:  │ 3    │\n",
       "│ Input Tokens:  │ 5797 │\n",
       "│ Output Tokens: │ 701  │\n",
       "│ Total Tokens:  │ 6498 │\n",
       "└────────────────┴──────┘\n"
      ]
     },
     "metadata": {},
     "output_type": "display_data"
    },
    {
     "data": {
      "text/html": [
       "<pre style=\"white-space:pre;overflow-x:auto;line-height:normal;font-family:Menlo,'DejaVu Sans Mono',consolas,'Courier New',monospace\">\n",
       "<span style=\"color: #008080; text-decoration-color: #008080; font-weight: bold\">Total Time Taken:</span><span style=\"color: #008080; text-decoration-color: #008080\"> </span><span style=\"color: #008080; text-decoration-color: #008080; font-weight: bold\">18.</span><span style=\"color: #008080; text-decoration-color: #008080\">43s</span>\n",
       "</pre>\n"
      ],
      "text/plain": [
       "\n",
       "\u001b[1;36mTotal Time Taken:\u001b[0m\u001b[36m \u001b[0m\u001b[1;36m18.\u001b[0m\u001b[36m43s\u001b[0m\n"
      ]
     },
     "metadata": {},
     "output_type": "display_data"
    }
   ],
   "source": [
    "# Perform a query\n",
    "response = qa.run(\n",
    "    \"\"\"\n",
    "    Find papers that are about classification. Tell me about some of them.\n",
    "    Hint: There is a property called 'about_classification' that you can use.\n",
    "    \"\"\",\n",
    ")\n",
    "\n",
    "# Print the response\n",
    "response.display()"
   ]
  },
  {
   "cell_type": "code",
   "execution_count": 39,
   "metadata": {},
   "outputs": [
    {
     "data": {
      "text/html": [
       "<pre style=\"white-space:pre;overflow-x:auto;line-height:normal;font-family:Menlo,'DejaVu Sans Mono',consolas,'Courier New',monospace\">╭─────────────────────────────────────────────── 🔍 Original Query ───────────────────────────────────────────────╮\n",
       "│                                                                                                                 │\n",
       "│                                                                                                                 │\n",
       "│     How many papers are primarily about models?                                                                 │\n",
       "│                                                                                                                 │\n",
       "│     Hint: There is a property called 'paper_type' where the available values are: 'survey', 'model', 'system',  │\n",
       "│ 'analysis', 'resource', 'other'.                                                                                │\n",
       "│                                                                                                                 │\n",
       "│                                                                                                                 │\n",
       "╰─────────────────────────────────────────────────────────────────────────────────────────────────────────────────╯\n",
       "</pre>\n"
      ],
      "text/plain": [
       "╭─────────────────────────────────────────────── 🔍 Original Query ───────────────────────────────────────────────╮\n",
       "│                                                                                                                 │\n",
       "│                                                                                                                 │\n",
       "│     How many papers are primarily about models?                                                                 │\n",
       "│                                                                                                                 │\n",
       "│     Hint: There is a property called 'paper_type' where the available values are: 'survey', 'model', 'system',  │\n",
       "│ 'analysis', 'resource', 'other'.                                                                                │\n",
       "│                                                                                                                 │\n",
       "│                                                                                                                 │\n",
       "╰─────────────────────────────────────────────────────────────────────────────────────────────────────────────────╯\n"
      ]
     },
     "metadata": {},
     "output_type": "display_data"
    },
    {
     "data": {
      "text/html": [
       "<pre style=\"white-space:pre;overflow-x:auto;line-height:normal;font-family:Menlo,'DejaVu Sans Mono',consolas,'Courier New',monospace\"><span style=\"color: #008080; text-decoration-color: #008080\">╭────────────────────────────────────────────────</span> 📝 Final Answer <span style=\"color: #008080; text-decoration-color: #008080\">────────────────────────────────────────────────╮</span>\n",
       "<span style=\"color: #008080; text-decoration-color: #008080\">│                                                                                                                 │</span>\n",
       "<span style=\"color: #008080; text-decoration-color: #008080\">│ There are 28 papers that are primarily about models, according to the property 'paper_type' where the value is  │</span>\n",
       "<span style=\"color: #008080; text-decoration-color: #008080\">│ 'model'.                                                                                                        │</span>\n",
       "<span style=\"color: #008080; text-decoration-color: #008080\">│                                                                                                                 │</span>\n",
       "<span style=\"color: #008080; text-decoration-color: #008080\">╰─────────────────────────────────────────────────────────────────────────────────────────────────────────────────╯</span>\n",
       "</pre>\n"
      ],
      "text/plain": [
       "\u001b[36m╭─\u001b[0m\u001b[36m───────────────────────────────────────────────\u001b[0m 📝 Final Answer \u001b[36m───────────────────────────────────────────────\u001b[0m\u001b[36m─╮\u001b[0m\n",
       "\u001b[36m│\u001b[0m\u001b[36m                                                                                                                 \u001b[0m\u001b[36m│\u001b[0m\n",
       "\u001b[36m│\u001b[0m\u001b[36m \u001b[0m\u001b[36mThere are 28 papers that are primarily about models, according to the property 'paper_type' where the value is \u001b[0m\u001b[36m \u001b[0m\u001b[36m│\u001b[0m\n",
       "\u001b[36m│\u001b[0m\u001b[36m \u001b[0m\u001b[36m'model'.\u001b[0m\u001b[36m                                                                                                       \u001b[0m\u001b[36m \u001b[0m\u001b[36m│\u001b[0m\n",
       "\u001b[36m│\u001b[0m\u001b[36m                                                                                                                 \u001b[0m\u001b[36m│\u001b[0m\n",
       "\u001b[36m╰─────────────────────────────────────────────────────────────────────────────────────────────────────────────────╯\u001b[0m\n"
      ]
     },
     "metadata": {},
     "output_type": "display_data"
    },
    {
     "data": {
      "text/html": [
       "<pre style=\"white-space:pre;overflow-x:auto;line-height:normal;font-family:Menlo,'DejaVu Sans Mono',consolas,'Courier New',monospace\"><span style=\"color: #d75f5f; text-decoration-color: #d75f5f\">╭─────────────────────────────────────────────────────────────────────────────────────────────────────────────────╮</span>\n",
       "<span style=\"color: #d75f5f; text-decoration-color: #d75f5f\">│                                                                                                                 │</span>\n",
       "<span style=\"color: #d75f5f; text-decoration-color: #d75f5f\">│ 🔭 No Searches Run                                                                                              │</span>\n",
       "<span style=\"color: #d75f5f; text-decoration-color: #d75f5f\">│                                                                                                                 │</span>\n",
       "<span style=\"color: #d75f5f; text-decoration-color: #d75f5f\">╰─────────────────────────────────────────────────────────────────────────────────────────────────────────────────╯</span>\n",
       "</pre>\n"
      ],
      "text/plain": [
       "\u001b[38;5;167m╭─────────────────────────────────────────────────────────────────────────────────────────────────────────────────╮\u001b[0m\n",
       "\u001b[38;5;167m│\u001b[0m\u001b[38;5;167m                                                                                                                 \u001b[0m\u001b[38;5;167m│\u001b[0m\n",
       "\u001b[38;5;167m│\u001b[0m\u001b[38;5;167m \u001b[0m\u001b[38;5;167m🔭 No Searches Run\u001b[0m\u001b[38;5;167m                                                                                             \u001b[0m\u001b[38;5;167m \u001b[0m\u001b[38;5;167m│\u001b[0m\n",
       "\u001b[38;5;167m│\u001b[0m\u001b[38;5;167m                                                                                                                 \u001b[0m\u001b[38;5;167m│\u001b[0m\n",
       "\u001b[38;5;167m╰─────────────────────────────────────────────────────────────────────────────────────────────────────────────────╯\u001b[0m\n"
      ]
     },
     "metadata": {},
     "output_type": "display_data"
    },
    {
     "data": {
      "text/html": [
       "<pre style=\"white-space:pre;overflow-x:auto;line-height:normal;font-family:Menlo,'DejaVu Sans Mono',consolas,'Courier New',monospace\"><span style=\"color: #c0c0c0; text-decoration-color: #c0c0c0\">╭────────────────────────────────────────────</span> 📊 Aggregations Run 1/1 <span style=\"color: #c0c0c0; text-decoration-color: #c0c0c0\">────────────────────────────────────────────╮</span>\n",
       "<span style=\"color: #c0c0c0; text-decoration-color: #c0c0c0\">│                                                                                                                 │</span>\n",
       "<span style=\"color: #c0c0c0; text-decoration-color: #c0c0c0\">│ </span><span style=\"color: #800080; text-decoration-color: #800080; font-weight: bold\">AggregationResultWithCollection</span><span style=\"color: #c0c0c0; text-decoration-color: #c0c0c0; font-weight: bold\">(</span><span style=\"color: #c0c0c0; text-decoration-color: #c0c0c0\">                                                                                │</span>\n",
       "<span style=\"color: #c0c0c0; text-decoration-color: #c0c0c0\">│     </span><span style=\"color: #808000; text-decoration-color: #808000\">search_query</span><span style=\"color: #c0c0c0; text-decoration-color: #c0c0c0\">=</span><span style=\"color: #800080; text-decoration-color: #800080; font-style: italic\">None</span><span style=\"color: #c0c0c0; text-decoration-color: #c0c0c0\">,                                                                                          │</span>\n",
       "<span style=\"color: #c0c0c0; text-decoration-color: #c0c0c0\">│     </span><span style=\"color: #808000; text-decoration-color: #808000\">groupby_property</span><span style=\"color: #c0c0c0; text-decoration-color: #c0c0c0\">=</span><span style=\"color: #800080; text-decoration-color: #800080; font-style: italic\">None</span><span style=\"color: #c0c0c0; text-decoration-color: #c0c0c0\">,                                                                                      │</span>\n",
       "<span style=\"color: #c0c0c0; text-decoration-color: #c0c0c0\">│     </span><span style=\"color: #808000; text-decoration-color: #808000\">aggregations</span><span style=\"color: #c0c0c0; text-decoration-color: #c0c0c0\">=</span><span style=\"color: #c0c0c0; text-decoration-color: #c0c0c0; font-weight: bold\">[</span><span style=\"color: #c0c0c0; text-decoration-color: #c0c0c0\">                                                                                              │</span>\n",
       "<span style=\"color: #c0c0c0; text-decoration-color: #c0c0c0\">│         </span><span style=\"color: #800080; text-decoration-color: #800080; font-weight: bold\">IntegerPropertyAggregation</span><span style=\"color: #c0c0c0; text-decoration-color: #c0c0c0; font-weight: bold\">(</span><span style=\"color: #808000; text-decoration-color: #808000\">property_name</span><span style=\"color: #c0c0c0; text-decoration-color: #c0c0c0\">=</span><span style=\"color: #008000; text-decoration-color: #008000\">'paper_type'</span><span style=\"color: #c0c0c0; text-decoration-color: #c0c0c0\">, </span><span style=\"color: #808000; text-decoration-color: #808000\">metrics</span><span style=\"color: #c0c0c0; text-decoration-color: #c0c0c0\">=</span><span style=\"color: #c0c0c0; text-decoration-color: #c0c0c0; font-weight: bold\">&lt;</span><span style=\"color: #ff00ff; text-decoration-color: #ff00ff; font-weight: bold\">NumericMetrics.COUNT:</span><span style=\"color: #000000; text-decoration-color: #000000\"> </span><span style=\"color: #008000; text-decoration-color: #008000\">'COUNT'</span><span style=\"color: #000000; text-decoration-color: #000000\">&gt;</span><span style=\"color: #000000; text-decoration-color: #000000; font-weight: bold\">)</span><span style=\"color: #c0c0c0; text-decoration-color: #c0c0c0\">         │</span>\n",
       "<span style=\"color: #c0c0c0; text-decoration-color: #c0c0c0\">│ </span><span style=\"color: #000000; text-decoration-color: #000000\">    </span><span style=\"color: #000000; text-decoration-color: #000000; font-weight: bold\">]</span><span style=\"color: #000000; text-decoration-color: #000000\">,</span><span style=\"color: #c0c0c0; text-decoration-color: #c0c0c0\">                                                                                                          │</span>\n",
       "<span style=\"color: #c0c0c0; text-decoration-color: #c0c0c0\">│ </span><span style=\"color: #000000; text-decoration-color: #000000\">    </span><span style=\"color: #808000; text-decoration-color: #808000\">filters</span><span style=\"color: #000000; text-decoration-color: #000000\">=</span><span style=\"color: #000000; text-decoration-color: #000000; font-weight: bold\">[</span><span style=\"color: #c0c0c0; text-decoration-color: #c0c0c0\">                                                                                                   │</span>\n",
       "<span style=\"color: #c0c0c0; text-decoration-color: #c0c0c0\">│ </span><span style=\"color: #000000; text-decoration-color: #000000\">        </span><span style=\"color: #800080; text-decoration-color: #800080; font-weight: bold\">TextPropertyFilter</span><span style=\"color: #000000; text-decoration-color: #000000; font-weight: bold\">(</span><span style=\"color: #c0c0c0; text-decoration-color: #c0c0c0\">                                                                                     │</span>\n",
       "<span style=\"color: #c0c0c0; text-decoration-color: #c0c0c0\">│ </span><span style=\"color: #000000; text-decoration-color: #000000\">            </span><span style=\"color: #808000; text-decoration-color: #808000\">property_name</span><span style=\"color: #000000; text-decoration-color: #000000\">=</span><span style=\"color: #008000; text-decoration-color: #008000\">'paper_type'</span><span style=\"color: #000000; text-decoration-color: #000000\">,</span><span style=\"color: #c0c0c0; text-decoration-color: #c0c0c0\">                                                                         │</span>\n",
       "<span style=\"color: #c0c0c0; text-decoration-color: #c0c0c0\">│ </span><span style=\"color: #000000; text-decoration-color: #000000\">            </span><span style=\"color: #808000; text-decoration-color: #808000\">operator</span><span style=\"color: #000000; text-decoration-color: #000000\">=&lt;ComparisonOperator.EQUALS: </span><span style=\"color: #008000; text-decoration-color: #008000\">'='</span><span style=\"color: #c0c0c0; text-decoration-color: #c0c0c0; font-weight: bold\">&gt;</span><span style=\"color: #c0c0c0; text-decoration-color: #c0c0c0\">,                                                          │</span>\n",
       "<span style=\"color: #c0c0c0; text-decoration-color: #c0c0c0\">│             </span><span style=\"color: #808000; text-decoration-color: #808000\">value</span><span style=\"color: #c0c0c0; text-decoration-color: #c0c0c0\">=</span><span style=\"color: #008000; text-decoration-color: #008000\">'model'</span><span style=\"color: #c0c0c0; text-decoration-color: #c0c0c0\">                                                                                       │</span>\n",
       "<span style=\"color: #c0c0c0; text-decoration-color: #c0c0c0\">│         </span><span style=\"color: #c0c0c0; text-decoration-color: #c0c0c0; font-weight: bold\">)</span><span style=\"color: #c0c0c0; text-decoration-color: #c0c0c0\">                                                                                                       │</span>\n",
       "<span style=\"color: #c0c0c0; text-decoration-color: #c0c0c0\">│     </span><span style=\"color: #c0c0c0; text-decoration-color: #c0c0c0; font-weight: bold\">]</span><span style=\"color: #c0c0c0; text-decoration-color: #c0c0c0\">,                                                                                                          │</span>\n",
       "<span style=\"color: #c0c0c0; text-decoration-color: #c0c0c0\">│     </span><span style=\"color: #808000; text-decoration-color: #808000\">collection</span><span style=\"color: #c0c0c0; text-decoration-color: #c0c0c0\">=</span><span style=\"color: #008000; text-decoration-color: #008000\">'ArxivPapersDemo'</span><span style=\"color: #c0c0c0; text-decoration-color: #c0c0c0\">                                                                                │</span>\n",
       "<span style=\"color: #c0c0c0; text-decoration-color: #c0c0c0\">│ </span><span style=\"color: #c0c0c0; text-decoration-color: #c0c0c0; font-weight: bold\">)</span><span style=\"color: #c0c0c0; text-decoration-color: #c0c0c0\">                                                                                                               │</span>\n",
       "<span style=\"color: #c0c0c0; text-decoration-color: #c0c0c0\">│                                                                                                                 │</span>\n",
       "<span style=\"color: #c0c0c0; text-decoration-color: #c0c0c0\">╰─────────────────────────────────────────────────────────────────────────────────────────────────────────────────╯</span>\n",
       "</pre>\n"
      ],
      "text/plain": [
       "\u001b[37m╭─\u001b[0m\u001b[37m───────────────────────────────────────────\u001b[0m 📊 Aggregations Run 1/1 \u001b[37m───────────────────────────────────────────\u001b[0m\u001b[37m─╮\u001b[0m\n",
       "\u001b[37m│\u001b[0m\u001b[37m                                                                                                                 \u001b[0m\u001b[37m│\u001b[0m\n",
       "\u001b[37m│\u001b[0m\u001b[37m \u001b[0m\u001b[1;35mAggregationResultWithCollection\u001b[0m\u001b[1;37m(\u001b[0m\u001b[37m                                                                               \u001b[0m\u001b[37m \u001b[0m\u001b[37m│\u001b[0m\n",
       "\u001b[37m│\u001b[0m\u001b[37m \u001b[0m\u001b[37m    \u001b[0m\u001b[33msearch_query\u001b[0m\u001b[37m=\u001b[0m\u001b[3;35mNone\u001b[0m\u001b[37m,\u001b[0m\u001b[37m                                                                                         \u001b[0m\u001b[37m \u001b[0m\u001b[37m│\u001b[0m\n",
       "\u001b[37m│\u001b[0m\u001b[37m \u001b[0m\u001b[37m    \u001b[0m\u001b[33mgroupby_property\u001b[0m\u001b[37m=\u001b[0m\u001b[3;35mNone\u001b[0m\u001b[37m,\u001b[0m\u001b[37m                                                                                     \u001b[0m\u001b[37m \u001b[0m\u001b[37m│\u001b[0m\n",
       "\u001b[37m│\u001b[0m\u001b[37m \u001b[0m\u001b[37m    \u001b[0m\u001b[33maggregations\u001b[0m\u001b[37m=\u001b[0m\u001b[1;37m[\u001b[0m\u001b[37m                                                                                             \u001b[0m\u001b[37m \u001b[0m\u001b[37m│\u001b[0m\n",
       "\u001b[37m│\u001b[0m\u001b[37m \u001b[0m\u001b[37m        \u001b[0m\u001b[1;35mIntegerPropertyAggregation\u001b[0m\u001b[1;37m(\u001b[0m\u001b[33mproperty_name\u001b[0m\u001b[37m=\u001b[0m\u001b[32m'paper_type'\u001b[0m\u001b[37m, \u001b[0m\u001b[33mmetrics\u001b[0m\u001b[37m=\u001b[0m\u001b[1;37m<\u001b[0m\u001b[1;95mNumericMetrics.COUNT:\u001b[0m\u001b[39m \u001b[0m\u001b[32m'COUNT'\u001b[0m\u001b[39m>\u001b[0m\u001b[1;39m)\u001b[0m\u001b[37m        \u001b[0m\u001b[37m \u001b[0m\u001b[37m│\u001b[0m\n",
       "\u001b[37m│\u001b[0m\u001b[37m \u001b[0m\u001b[39m    \u001b[0m\u001b[1;39m]\u001b[0m\u001b[39m,\u001b[0m\u001b[37m                                                                                                         \u001b[0m\u001b[37m \u001b[0m\u001b[37m│\u001b[0m\n",
       "\u001b[37m│\u001b[0m\u001b[37m \u001b[0m\u001b[39m    \u001b[0m\u001b[33mfilters\u001b[0m\u001b[39m=\u001b[0m\u001b[1;39m[\u001b[0m\u001b[37m                                                                                                  \u001b[0m\u001b[37m \u001b[0m\u001b[37m│\u001b[0m\n",
       "\u001b[37m│\u001b[0m\u001b[37m \u001b[0m\u001b[39m        \u001b[0m\u001b[1;35mTextPropertyFilter\u001b[0m\u001b[1;39m(\u001b[0m\u001b[37m                                                                                    \u001b[0m\u001b[37m \u001b[0m\u001b[37m│\u001b[0m\n",
       "\u001b[37m│\u001b[0m\u001b[37m \u001b[0m\u001b[39m            \u001b[0m\u001b[33mproperty_name\u001b[0m\u001b[39m=\u001b[0m\u001b[32m'paper_type'\u001b[0m\u001b[39m,\u001b[0m\u001b[37m                                                                        \u001b[0m\u001b[37m \u001b[0m\u001b[37m│\u001b[0m\n",
       "\u001b[37m│\u001b[0m\u001b[37m \u001b[0m\u001b[39m            \u001b[0m\u001b[33moperator\u001b[0m\u001b[39m=<ComparisonOperator.EQUALS: \u001b[0m\u001b[32m'='\u001b[0m\u001b[1;37m>\u001b[0m\u001b[37m,\u001b[0m\u001b[37m                                                         \u001b[0m\u001b[37m \u001b[0m\u001b[37m│\u001b[0m\n",
       "\u001b[37m│\u001b[0m\u001b[37m \u001b[0m\u001b[37m            \u001b[0m\u001b[33mvalue\u001b[0m\u001b[37m=\u001b[0m\u001b[32m'model'\u001b[0m\u001b[37m                                                                                      \u001b[0m\u001b[37m \u001b[0m\u001b[37m│\u001b[0m\n",
       "\u001b[37m│\u001b[0m\u001b[37m \u001b[0m\u001b[37m        \u001b[0m\u001b[1;37m)\u001b[0m\u001b[37m                                                                                                      \u001b[0m\u001b[37m \u001b[0m\u001b[37m│\u001b[0m\n",
       "\u001b[37m│\u001b[0m\u001b[37m \u001b[0m\u001b[37m    \u001b[0m\u001b[1;37m]\u001b[0m\u001b[37m,\u001b[0m\u001b[37m                                                                                                         \u001b[0m\u001b[37m \u001b[0m\u001b[37m│\u001b[0m\n",
       "\u001b[37m│\u001b[0m\u001b[37m \u001b[0m\u001b[37m    \u001b[0m\u001b[33mcollection\u001b[0m\u001b[37m=\u001b[0m\u001b[32m'ArxivPapersDemo'\u001b[0m\u001b[37m                                                                               \u001b[0m\u001b[37m \u001b[0m\u001b[37m│\u001b[0m\n",
       "\u001b[37m│\u001b[0m\u001b[37m \u001b[0m\u001b[1;37m)\u001b[0m\u001b[37m                                                                                                              \u001b[0m\u001b[37m \u001b[0m\u001b[37m│\u001b[0m\n",
       "\u001b[37m│\u001b[0m\u001b[37m                                                                                                                 \u001b[0m\u001b[37m│\u001b[0m\n",
       "\u001b[37m╰─────────────────────────────────────────────────────────────────────────────────────────────────────────────────╯\u001b[0m\n"
      ]
     },
     "metadata": {},
     "output_type": "display_data"
    },
    {
     "name": "stdout",
     "output_type": "stream",
     "text": [
      "\n",
      "\n"
     ]
    },
    {
     "data": {
      "text/html": [
       "<pre style=\"white-space:pre;overflow-x:auto;line-height:normal;font-family:Menlo,'DejaVu Sans Mono',consolas,'Courier New',monospace\"><span style=\"font-style: italic\">   📊 Usage Statistics   </span>\n",
       "┌────────────────┬──────┐\n",
       "│ LLM Requests:  │ 3    │\n",
       "│ Input Tokens:  │ 3448 │\n",
       "│ Output Tokens: │ 163  │\n",
       "│ Total Tokens:  │ 3611 │\n",
       "└────────────────┴──────┘\n",
       "</pre>\n"
      ],
      "text/plain": [
       "\u001b[3m   📊 Usage Statistics   \u001b[0m\n",
       "┌────────────────┬──────┐\n",
       "│ LLM Requests:  │ 3    │\n",
       "│ Input Tokens:  │ 3448 │\n",
       "│ Output Tokens: │ 163  │\n",
       "│ Total Tokens:  │ 3611 │\n",
       "└────────────────┴──────┘\n"
      ]
     },
     "metadata": {},
     "output_type": "display_data"
    },
    {
     "data": {
      "text/html": [
       "<pre style=\"white-space:pre;overflow-x:auto;line-height:normal;font-family:Menlo,'DejaVu Sans Mono',consolas,'Courier New',monospace\">\n",
       "<span style=\"color: #008080; text-decoration-color: #008080; font-weight: bold\">Total Time Taken:</span><span style=\"color: #008080; text-decoration-color: #008080\"> </span><span style=\"color: #008080; text-decoration-color: #008080; font-weight: bold\">4.</span><span style=\"color: #008080; text-decoration-color: #008080\">11s</span>\n",
       "</pre>\n"
      ],
      "text/plain": [
       "\n",
       "\u001b[1;36mTotal Time Taken:\u001b[0m\u001b[36m \u001b[0m\u001b[1;36m4.\u001b[0m\u001b[36m11s\u001b[0m\n"
      ]
     },
     "metadata": {},
     "output_type": "display_data"
    }
   ],
   "source": [
    "# Perform a query\n",
    "response = qa.run(\n",
    "    \"\"\"\n",
    "    How many papers are primarily about models?\n",
    "\n",
    "    Hint: There is a property called 'paper_type' where the available values are: 'survey', 'model', 'system', 'analysis', 'resource', 'other'.\n",
    "    \"\"\"\n",
    ")\n",
    "\n",
    "# Print the response\n",
    "response.display()"
   ]
  },
  {
   "cell_type": "markdown",
   "metadata": {},
   "source": [
    "We can even ask it follow-up queries:"
   ]
  },
  {
   "cell_type": "code",
   "execution_count": 40,
   "metadata": {},
   "outputs": [
    {
     "data": {
      "text/html": [
       "<pre style=\"white-space:pre;overflow-x:auto;line-height:normal;font-family:Menlo,'DejaVu Sans Mono',consolas,'Courier New',monospace\">╭─────────────────────────────────────────────── 🔍 Original Query ───────────────────────────────────────────────╮\n",
       "│                                                                                                                 │\n",
       "│ Can you select one or two of these papers and explain them in simple terms? I am not a data scientist.          │\n",
       "│                                                                                                                 │\n",
       "╰─────────────────────────────────────────────────────────────────────────────────────────────────────────────────╯\n",
       "</pre>\n"
      ],
      "text/plain": [
       "╭─────────────────────────────────────────────── 🔍 Original Query ───────────────────────────────────────────────╮\n",
       "│                                                                                                                 │\n",
       "│ Can you select one or two of these papers and explain them in simple terms? I am not a data scientist.          │\n",
       "│                                                                                                                 │\n",
       "╰─────────────────────────────────────────────────────────────────────────────────────────────────────────────────╯\n"
      ]
     },
     "metadata": {},
     "output_type": "display_data"
    },
    {
     "data": {
      "text/html": [
       "<pre style=\"white-space:pre;overflow-x:auto;line-height:normal;font-family:Menlo,'DejaVu Sans Mono',consolas,'Courier New',monospace\"><span style=\"color: #008080; text-decoration-color: #008080\">╭────────────────────────────────────────────────</span> 📝 Final Answer <span style=\"color: #008080; text-decoration-color: #008080\">────────────────────────────────────────────────╮</span>\n",
       "<span style=\"color: #008080; text-decoration-color: #008080\">│                                                                                                                 │</span>\n",
       "<span style=\"color: #008080; text-decoration-color: #008080\">│ Here are two papers focusing on model development that might interest you:                                      │</span>\n",
       "<span style=\"color: #008080; text-decoration-color: #008080\">│                                                                                                                 │</span>\n",
       "<span style=\"color: #008080; text-decoration-color: #008080\">│ 1. **Gaussian Process Topic Models (GPTMs)**:                                                                   │</span>\n",
       "<span style=\"color: #008080; text-decoration-color: #008080\">│    This paper introduces a new family of topic models called Gaussian Process Topic Models (GPTMs). The main    │</span>\n",
       "<span style=\"color: #008080; text-decoration-color: #008080\">│ innovation here is the ability to leverage a document similarity kernel, enhancing the extraction of related    │</span>\n",
       "<span style=\"color: #008080; text-decoration-color: #008080\">│ topics. Essentially, this approach generalizes existing models by using Gaussian Processes for embedding, which │</span>\n",
       "<span style=\"color: #008080; text-decoration-color: #008080\">│ relates the topics and the document kernels. This method involves solving a complex equation to capture         │</span>\n",
       "<span style=\"color: #008080; text-decoration-color: #008080\">│ dependencies between these factors and has been shown to be effective through various experiments.              │</span>\n",
       "<span style=\"color: #008080; text-decoration-color: #008080\">│                                                                                                                 │</span>\n",
       "<span style=\"color: #008080; text-decoration-color: #008080\">│ 2. **Bayesian and L1 Approaches to Sparse Unsupervised Learning**:                                              │</span>\n",
       "<span style=\"color: #008080; text-decoration-color: #008080\">│    This research delves into sparse learning, particularly in scenarios where only limited data points are      │</span>\n",
       "<span style=\"color: #008080; text-decoration-color: #008080\">│ available. The standard L1 regularization approach is known for inducing sparsity but can underperform in       │</span>\n",
       "<span style=\"color: #008080; text-decoration-color: #008080\">│ prediction accuracy. The paper suggests alternative Bayesian methods that use a 'spike-and-slab' distribution   │</span>\n",
       "<span style=\"color: #008080; text-decoration-color: #008080\">│ to promote sparsity without overly shrinking important data values. These proposed methods have shown improved  │</span>\n",
       "<span style=\"color: #008080; text-decoration-color: #008080\">│ generalization capacity over the traditional L1 approaches, especially when dealing with unseen data, making it │</span>\n",
       "<span style=\"color: #008080; text-decoration-color: #008080\">│ a notable development for applications reliant on sparse models.                                                │</span>\n",
       "<span style=\"color: #008080; text-decoration-color: #008080\">│                                                                                                                 │</span>\n",
       "<span style=\"color: #008080; text-decoration-color: #008080\">╰─────────────────────────────────────────────────────────────────────────────────────────────────────────────────╯</span>\n",
       "</pre>\n"
      ],
      "text/plain": [
       "\u001b[36m╭─\u001b[0m\u001b[36m───────────────────────────────────────────────\u001b[0m 📝 Final Answer \u001b[36m───────────────────────────────────────────────\u001b[0m\u001b[36m─╮\u001b[0m\n",
       "\u001b[36m│\u001b[0m\u001b[36m                                                                                                                 \u001b[0m\u001b[36m│\u001b[0m\n",
       "\u001b[36m│\u001b[0m\u001b[36m \u001b[0m\u001b[36mHere are two papers focusing on model development that might interest you:\u001b[0m\u001b[36m                                     \u001b[0m\u001b[36m \u001b[0m\u001b[36m│\u001b[0m\n",
       "\u001b[36m│\u001b[0m\u001b[36m \u001b[0m\u001b[36m                                                                                                               \u001b[0m\u001b[36m \u001b[0m\u001b[36m│\u001b[0m\n",
       "\u001b[36m│\u001b[0m\u001b[36m \u001b[0m\u001b[36m1. **Gaussian Process Topic Models (GPTMs)**:\u001b[0m\u001b[36m                                                                  \u001b[0m\u001b[36m \u001b[0m\u001b[36m│\u001b[0m\n",
       "\u001b[36m│\u001b[0m\u001b[36m \u001b[0m\u001b[36m   This paper introduces a new family of topic models called Gaussian Process Topic Models (GPTMs). The main \u001b[0m\u001b[36m  \u001b[0m\u001b[36m \u001b[0m\u001b[36m│\u001b[0m\n",
       "\u001b[36m│\u001b[0m\u001b[36m \u001b[0m\u001b[36minnovation here is the ability to leverage a document similarity kernel, enhancing the extraction of related \u001b[0m\u001b[36m  \u001b[0m\u001b[36m \u001b[0m\u001b[36m│\u001b[0m\n",
       "\u001b[36m│\u001b[0m\u001b[36m \u001b[0m\u001b[36mtopics. Essentially, this approach generalizes existing models by using Gaussian Processes for embedding, which\u001b[0m\u001b[36m \u001b[0m\u001b[36m│\u001b[0m\n",
       "\u001b[36m│\u001b[0m\u001b[36m \u001b[0m\u001b[36mrelates the topics and the document kernels. This method involves solving a complex equation to capture \u001b[0m\u001b[36m       \u001b[0m\u001b[36m \u001b[0m\u001b[36m│\u001b[0m\n",
       "\u001b[36m│\u001b[0m\u001b[36m \u001b[0m\u001b[36mdependencies between these factors and has been shown to be effective through various experiments.\u001b[0m\u001b[36m             \u001b[0m\u001b[36m \u001b[0m\u001b[36m│\u001b[0m\n",
       "\u001b[36m│\u001b[0m\u001b[36m \u001b[0m\u001b[36m                                                                                                               \u001b[0m\u001b[36m \u001b[0m\u001b[36m│\u001b[0m\n",
       "\u001b[36m│\u001b[0m\u001b[36m \u001b[0m\u001b[36m2. **Bayesian and L1 Approaches to Sparse Unsupervised Learning**:\u001b[0m\u001b[36m                                             \u001b[0m\u001b[36m \u001b[0m\u001b[36m│\u001b[0m\n",
       "\u001b[36m│\u001b[0m\u001b[36m \u001b[0m\u001b[36m   This research delves into sparse learning, particularly in scenarios where only limited data points are \u001b[0m\u001b[36m    \u001b[0m\u001b[36m \u001b[0m\u001b[36m│\u001b[0m\n",
       "\u001b[36m│\u001b[0m\u001b[36m \u001b[0m\u001b[36mavailable. The standard L1 regularization approach is known for inducing sparsity but can underperform in \u001b[0m\u001b[36m     \u001b[0m\u001b[36m \u001b[0m\u001b[36m│\u001b[0m\n",
       "\u001b[36m│\u001b[0m\u001b[36m \u001b[0m\u001b[36mprediction accuracy. The paper suggests alternative Bayesian methods that use a 'spike-and-slab' distribution \u001b[0m\u001b[36m \u001b[0m\u001b[36m \u001b[0m\u001b[36m│\u001b[0m\n",
       "\u001b[36m│\u001b[0m\u001b[36m \u001b[0m\u001b[36mto promote sparsity without overly shrinking important data values. These proposed methods have shown improved \u001b[0m\u001b[36m \u001b[0m\u001b[36m│\u001b[0m\n",
       "\u001b[36m│\u001b[0m\u001b[36m \u001b[0m\u001b[36mgeneralization capacity over the traditional L1 approaches, especially when dealing with unseen data, making it\u001b[0m\u001b[36m \u001b[0m\u001b[36m│\u001b[0m\n",
       "\u001b[36m│\u001b[0m\u001b[36m \u001b[0m\u001b[36ma notable development for applications reliant on sparse models.\u001b[0m\u001b[36m                                               \u001b[0m\u001b[36m \u001b[0m\u001b[36m│\u001b[0m\n",
       "\u001b[36m│\u001b[0m\u001b[36m                                                                                                                 \u001b[0m\u001b[36m│\u001b[0m\n",
       "\u001b[36m╰─────────────────────────────────────────────────────────────────────────────────────────────────────────────────╯\u001b[0m\n"
      ]
     },
     "metadata": {},
     "output_type": "display_data"
    },
    {
     "data": {
      "text/html": [
       "<pre style=\"white-space:pre;overflow-x:auto;line-height:normal;font-family:Menlo,'DejaVu Sans Mono',consolas,'Courier New',monospace\"><span style=\"color: #c0c0c0; text-decoration-color: #c0c0c0\">╭───────────────────────────────────────────</span> 🔭 Searches Executed 1/1 <span style=\"color: #c0c0c0; text-decoration-color: #c0c0c0\">────────────────────────────────────────────╮</span>\n",
       "<span style=\"color: #c0c0c0; text-decoration-color: #c0c0c0\">│                                                                                                                 │</span>\n",
       "<span style=\"color: #c0c0c0; text-decoration-color: #c0c0c0\">│ </span><span style=\"color: #800080; text-decoration-color: #800080; font-weight: bold\">QueryResultWithCollection</span><span style=\"color: #c0c0c0; text-decoration-color: #c0c0c0; font-weight: bold\">(</span><span style=\"color: #c0c0c0; text-decoration-color: #c0c0c0\">                                                                                      │</span>\n",
       "<span style=\"color: #c0c0c0; text-decoration-color: #c0c0c0\">│     </span><span style=\"color: #808000; text-decoration-color: #808000\">queries</span><span style=\"color: #c0c0c0; text-decoration-color: #c0c0c0\">=</span><span style=\"color: #c0c0c0; text-decoration-color: #c0c0c0; font-weight: bold\">[</span><span style=\"color: #008000; text-decoration-color: #008000\">'papers about models'</span><span style=\"color: #c0c0c0; text-decoration-color: #c0c0c0; font-weight: bold\">]</span><span style=\"color: #c0c0c0; text-decoration-color: #c0c0c0\">,                                                                            │</span>\n",
       "<span style=\"color: #c0c0c0; text-decoration-color: #c0c0c0\">│     </span><span style=\"color: #808000; text-decoration-color: #808000\">filters</span><span style=\"color: #c0c0c0; text-decoration-color: #c0c0c0\">=</span><span style=\"color: #c0c0c0; text-decoration-color: #c0c0c0; font-weight: bold\">[</span><span style=\"color: #c0c0c0; text-decoration-color: #c0c0c0\">                                                                                                   │</span>\n",
       "<span style=\"color: #c0c0c0; text-decoration-color: #c0c0c0\">│         </span><span style=\"color: #c0c0c0; text-decoration-color: #c0c0c0; font-weight: bold\">[</span><span style=\"color: #c0c0c0; text-decoration-color: #c0c0c0\">                                                                                                       │</span>\n",
       "<span style=\"color: #c0c0c0; text-decoration-color: #c0c0c0\">│             </span><span style=\"color: #800080; text-decoration-color: #800080; font-weight: bold\">TextPropertyFilter</span><span style=\"color: #c0c0c0; text-decoration-color: #c0c0c0; font-weight: bold\">(</span><span style=\"color: #c0c0c0; text-decoration-color: #c0c0c0\">                                                                                 │</span>\n",
       "<span style=\"color: #c0c0c0; text-decoration-color: #c0c0c0\">│                 </span><span style=\"color: #808000; text-decoration-color: #808000\">property_name</span><span style=\"color: #c0c0c0; text-decoration-color: #c0c0c0\">=</span><span style=\"color: #008000; text-decoration-color: #008000\">'paper_type'</span><span style=\"color: #c0c0c0; text-decoration-color: #c0c0c0\">,                                                                     │</span>\n",
       "<span style=\"color: #c0c0c0; text-decoration-color: #c0c0c0\">│                 </span><span style=\"color: #808000; text-decoration-color: #808000\">operator</span><span style=\"color: #c0c0c0; text-decoration-color: #c0c0c0\">=</span><span style=\"color: #c0c0c0; text-decoration-color: #c0c0c0; font-weight: bold\">&lt;</span><span style=\"color: #ff00ff; text-decoration-color: #ff00ff; font-weight: bold\">ComparisonOperator.EQUALS:</span><span style=\"color: #000000; text-decoration-color: #000000\"> </span><span style=\"color: #008000; text-decoration-color: #008000\">'='</span><span style=\"color: #c0c0c0; text-decoration-color: #c0c0c0; font-weight: bold\">&gt;</span><span style=\"color: #c0c0c0; text-decoration-color: #c0c0c0\">,                                                      │</span>\n",
       "<span style=\"color: #c0c0c0; text-decoration-color: #c0c0c0\">│                 </span><span style=\"color: #808000; text-decoration-color: #808000\">value</span><span style=\"color: #c0c0c0; text-decoration-color: #c0c0c0\">=</span><span style=\"color: #008000; text-decoration-color: #008000\">'model'</span><span style=\"color: #c0c0c0; text-decoration-color: #c0c0c0\">                                                                                   │</span>\n",
       "<span style=\"color: #c0c0c0; text-decoration-color: #c0c0c0\">│             </span><span style=\"color: #c0c0c0; text-decoration-color: #c0c0c0; font-weight: bold\">)</span><span style=\"color: #c0c0c0; text-decoration-color: #c0c0c0\">                                                                                                   │</span>\n",
       "<span style=\"color: #c0c0c0; text-decoration-color: #c0c0c0\">│         </span><span style=\"color: #c0c0c0; text-decoration-color: #c0c0c0; font-weight: bold\">]</span><span style=\"color: #c0c0c0; text-decoration-color: #c0c0c0\">                                                                                                       │</span>\n",
       "<span style=\"color: #c0c0c0; text-decoration-color: #c0c0c0\">│     </span><span style=\"color: #c0c0c0; text-decoration-color: #c0c0c0; font-weight: bold\">]</span><span style=\"color: #c0c0c0; text-decoration-color: #c0c0c0\">,                                                                                                          │</span>\n",
       "<span style=\"color: #c0c0c0; text-decoration-color: #c0c0c0\">│     </span><span style=\"color: #808000; text-decoration-color: #808000\">filter_operators</span><span style=\"color: #c0c0c0; text-decoration-color: #c0c0c0\">=</span><span style=\"color: #008000; text-decoration-color: #008000\">'AND'</span><span style=\"color: #c0c0c0; text-decoration-color: #c0c0c0\">,                                                                                     │</span>\n",
       "<span style=\"color: #c0c0c0; text-decoration-color: #c0c0c0\">│     </span><span style=\"color: #808000; text-decoration-color: #808000\">collection</span><span style=\"color: #c0c0c0; text-decoration-color: #c0c0c0\">=</span><span style=\"color: #008000; text-decoration-color: #008000\">'ArxivPapersDemo'</span><span style=\"color: #c0c0c0; text-decoration-color: #c0c0c0\">                                                                                │</span>\n",
       "<span style=\"color: #c0c0c0; text-decoration-color: #c0c0c0\">│ </span><span style=\"color: #c0c0c0; text-decoration-color: #c0c0c0; font-weight: bold\">)</span><span style=\"color: #c0c0c0; text-decoration-color: #c0c0c0\">                                                                                                               │</span>\n",
       "<span style=\"color: #c0c0c0; text-decoration-color: #c0c0c0\">│                                                                                                                 │</span>\n",
       "<span style=\"color: #c0c0c0; text-decoration-color: #c0c0c0\">╰─────────────────────────────────────────────────────────────────────────────────────────────────────────────────╯</span>\n",
       "</pre>\n"
      ],
      "text/plain": [
       "\u001b[37m╭─\u001b[0m\u001b[37m──────────────────────────────────────────\u001b[0m 🔭 Searches Executed 1/1 \u001b[37m───────────────────────────────────────────\u001b[0m\u001b[37m─╮\u001b[0m\n",
       "\u001b[37m│\u001b[0m\u001b[37m                                                                                                                 \u001b[0m\u001b[37m│\u001b[0m\n",
       "\u001b[37m│\u001b[0m\u001b[37m \u001b[0m\u001b[1;35mQueryResultWithCollection\u001b[0m\u001b[1;37m(\u001b[0m\u001b[37m                                                                                     \u001b[0m\u001b[37m \u001b[0m\u001b[37m│\u001b[0m\n",
       "\u001b[37m│\u001b[0m\u001b[37m \u001b[0m\u001b[37m    \u001b[0m\u001b[33mqueries\u001b[0m\u001b[37m=\u001b[0m\u001b[1;37m[\u001b[0m\u001b[32m'papers about models'\u001b[0m\u001b[1;37m]\u001b[0m\u001b[37m,\u001b[0m\u001b[37m                                                                           \u001b[0m\u001b[37m \u001b[0m\u001b[37m│\u001b[0m\n",
       "\u001b[37m│\u001b[0m\u001b[37m \u001b[0m\u001b[37m    \u001b[0m\u001b[33mfilters\u001b[0m\u001b[37m=\u001b[0m\u001b[1;37m[\u001b[0m\u001b[37m                                                                                                  \u001b[0m\u001b[37m \u001b[0m\u001b[37m│\u001b[0m\n",
       "\u001b[37m│\u001b[0m\u001b[37m \u001b[0m\u001b[37m        \u001b[0m\u001b[1;37m[\u001b[0m\u001b[37m                                                                                                      \u001b[0m\u001b[37m \u001b[0m\u001b[37m│\u001b[0m\n",
       "\u001b[37m│\u001b[0m\u001b[37m \u001b[0m\u001b[37m            \u001b[0m\u001b[1;35mTextPropertyFilter\u001b[0m\u001b[1;37m(\u001b[0m\u001b[37m                                                                                \u001b[0m\u001b[37m \u001b[0m\u001b[37m│\u001b[0m\n",
       "\u001b[37m│\u001b[0m\u001b[37m \u001b[0m\u001b[37m                \u001b[0m\u001b[33mproperty_name\u001b[0m\u001b[37m=\u001b[0m\u001b[32m'paper_type'\u001b[0m\u001b[37m,\u001b[0m\u001b[37m                                                                    \u001b[0m\u001b[37m \u001b[0m\u001b[37m│\u001b[0m\n",
       "\u001b[37m│\u001b[0m\u001b[37m \u001b[0m\u001b[37m                \u001b[0m\u001b[33moperator\u001b[0m\u001b[37m=\u001b[0m\u001b[1;37m<\u001b[0m\u001b[1;95mComparisonOperator.EQUALS:\u001b[0m\u001b[39m \u001b[0m\u001b[32m'='\u001b[0m\u001b[1;37m>\u001b[0m\u001b[37m,\u001b[0m\u001b[37m                                                     \u001b[0m\u001b[37m \u001b[0m\u001b[37m│\u001b[0m\n",
       "\u001b[37m│\u001b[0m\u001b[37m \u001b[0m\u001b[37m                \u001b[0m\u001b[33mvalue\u001b[0m\u001b[37m=\u001b[0m\u001b[32m'model'\u001b[0m\u001b[37m                                                                                  \u001b[0m\u001b[37m \u001b[0m\u001b[37m│\u001b[0m\n",
       "\u001b[37m│\u001b[0m\u001b[37m \u001b[0m\u001b[37m            \u001b[0m\u001b[1;37m)\u001b[0m\u001b[37m                                                                                                  \u001b[0m\u001b[37m \u001b[0m\u001b[37m│\u001b[0m\n",
       "\u001b[37m│\u001b[0m\u001b[37m \u001b[0m\u001b[37m        \u001b[0m\u001b[1;37m]\u001b[0m\u001b[37m                                                                                                      \u001b[0m\u001b[37m \u001b[0m\u001b[37m│\u001b[0m\n",
       "\u001b[37m│\u001b[0m\u001b[37m \u001b[0m\u001b[37m    \u001b[0m\u001b[1;37m]\u001b[0m\u001b[37m,\u001b[0m\u001b[37m                                                                                                         \u001b[0m\u001b[37m \u001b[0m\u001b[37m│\u001b[0m\n",
       "\u001b[37m│\u001b[0m\u001b[37m \u001b[0m\u001b[37m    \u001b[0m\u001b[33mfilter_operators\u001b[0m\u001b[37m=\u001b[0m\u001b[32m'AND'\u001b[0m\u001b[37m,\u001b[0m\u001b[37m                                                                                    \u001b[0m\u001b[37m \u001b[0m\u001b[37m│\u001b[0m\n",
       "\u001b[37m│\u001b[0m\u001b[37m \u001b[0m\u001b[37m    \u001b[0m\u001b[33mcollection\u001b[0m\u001b[37m=\u001b[0m\u001b[32m'ArxivPapersDemo'\u001b[0m\u001b[37m                                                                               \u001b[0m\u001b[37m \u001b[0m\u001b[37m│\u001b[0m\n",
       "\u001b[37m│\u001b[0m\u001b[37m \u001b[0m\u001b[1;37m)\u001b[0m\u001b[37m                                                                                                              \u001b[0m\u001b[37m \u001b[0m\u001b[37m│\u001b[0m\n",
       "\u001b[37m│\u001b[0m\u001b[37m                                                                                                                 \u001b[0m\u001b[37m│\u001b[0m\n",
       "\u001b[37m╰─────────────────────────────────────────────────────────────────────────────────────────────────────────────────╯\u001b[0m\n"
      ]
     },
     "metadata": {},
     "output_type": "display_data"
    },
    {
     "data": {
      "text/html": [
       "<pre style=\"white-space:pre;overflow-x:auto;line-height:normal;font-family:Menlo,'DejaVu Sans Mono',consolas,'Courier New',monospace\"><span style=\"color: #d75f5f; text-decoration-color: #d75f5f\">╭─────────────────────────────────────────────────────────────────────────────────────────────────────────────────╮</span>\n",
       "<span style=\"color: #d75f5f; text-decoration-color: #d75f5f\">│                                                                                                                 │</span>\n",
       "<span style=\"color: #d75f5f; text-decoration-color: #d75f5f\">│ 📊 No Aggregations Run                                                                                          │</span>\n",
       "<span style=\"color: #d75f5f; text-decoration-color: #d75f5f\">│                                                                                                                 │</span>\n",
       "<span style=\"color: #d75f5f; text-decoration-color: #d75f5f\">╰─────────────────────────────────────────────────────────────────────────────────────────────────────────────────╯</span>\n",
       "</pre>\n"
      ],
      "text/plain": [
       "\u001b[38;5;167m╭─────────────────────────────────────────────────────────────────────────────────────────────────────────────────╮\u001b[0m\n",
       "\u001b[38;5;167m│\u001b[0m\u001b[38;5;167m                                                                                                                 \u001b[0m\u001b[38;5;167m│\u001b[0m\n",
       "\u001b[38;5;167m│\u001b[0m\u001b[38;5;167m \u001b[0m\u001b[38;5;167m📊 No Aggregations Run\u001b[0m\u001b[38;5;167m                                                                                         \u001b[0m\u001b[38;5;167m \u001b[0m\u001b[38;5;167m│\u001b[0m\n",
       "\u001b[38;5;167m│\u001b[0m\u001b[38;5;167m                                                                                                                 \u001b[0m\u001b[38;5;167m│\u001b[0m\n",
       "\u001b[38;5;167m╰─────────────────────────────────────────────────────────────────────────────────────────────────────────────────╯\u001b[0m\n"
      ]
     },
     "metadata": {},
     "output_type": "display_data"
    },
    {
     "data": {
      "text/html": [
       "<pre style=\"white-space:pre;overflow-x:auto;line-height:normal;font-family:Menlo,'DejaVu Sans Mono',consolas,'Courier New',monospace\"><span style=\"color: #c0c0c0; text-decoration-color: #c0c0c0\">╭──────────────────────────────────────────────────</span> 📚 Sources <span style=\"color: #c0c0c0; text-decoration-color: #c0c0c0\">───────────────────────────────────────────────────╮</span>\n",
       "<span style=\"color: #c0c0c0; text-decoration-color: #c0c0c0\">│                                                                                                                 │</span>\n",
       "<span style=\"color: #c0c0c0; text-decoration-color: #c0c0c0\">│  - object_id='e4cdfa6c-5861-4e6d-908c-178b620c6c05' collection='ArxivPapersDemo'                                │</span>\n",
       "<span style=\"color: #c0c0c0; text-decoration-color: #c0c0c0\">│  - object_id='a4aa4ce4-3e55-4055-ad38-7fcd941d6063' collection='ArxivPapersDemo'                                │</span>\n",
       "<span style=\"color: #c0c0c0; text-decoration-color: #c0c0c0\">│                                                                                                                 │</span>\n",
       "<span style=\"color: #c0c0c0; text-decoration-color: #c0c0c0\">╰─────────────────────────────────────────────────────────────────────────────────────────────────────────────────╯</span>\n",
       "</pre>\n"
      ],
      "text/plain": [
       "\u001b[37m╭─\u001b[0m\u001b[37m─────────────────────────────────────────────────\u001b[0m 📚 Sources \u001b[37m──────────────────────────────────────────────────\u001b[0m\u001b[37m─╮\u001b[0m\n",
       "\u001b[37m│\u001b[0m\u001b[37m                                                                                                                 \u001b[0m\u001b[37m│\u001b[0m\n",
       "\u001b[37m│\u001b[0m\u001b[37m \u001b[0m\u001b[37m - object_id='e4cdfa6c-5861-4e6d-908c-178b620c6c05' collection='ArxivPapersDemo'\u001b[0m\u001b[37m                               \u001b[0m\u001b[37m \u001b[0m\u001b[37m│\u001b[0m\n",
       "\u001b[37m│\u001b[0m\u001b[37m \u001b[0m\u001b[37m - object_id='a4aa4ce4-3e55-4055-ad38-7fcd941d6063' collection='ArxivPapersDemo'\u001b[0m\u001b[37m                               \u001b[0m\u001b[37m \u001b[0m\u001b[37m│\u001b[0m\n",
       "\u001b[37m│\u001b[0m\u001b[37m                                                                                                                 \u001b[0m\u001b[37m│\u001b[0m\n",
       "\u001b[37m╰─────────────────────────────────────────────────────────────────────────────────────────────────────────────────╯\u001b[0m\n"
      ]
     },
     "metadata": {},
     "output_type": "display_data"
    },
    {
     "name": "stdout",
     "output_type": "stream",
     "text": [
      "\n",
      "\n"
     ]
    },
    {
     "data": {
      "text/html": [
       "<pre style=\"white-space:pre;overflow-x:auto;line-height:normal;font-family:Menlo,'DejaVu Sans Mono',consolas,'Courier New',monospace\"><span style=\"font-style: italic\">   📊 Usage Statistics    </span>\n",
       "┌────────────────┬───────┐\n",
       "│ LLM Requests:  │ 4     │\n",
       "│ Input Tokens:  │ 10066 │\n",
       "│ Output Tokens: │ 507   │\n",
       "│ Total Tokens:  │ 10573 │\n",
       "└────────────────┴───────┘\n",
       "</pre>\n"
      ],
      "text/plain": [
       "\u001b[3m   📊 Usage Statistics    \u001b[0m\n",
       "┌────────────────┬───────┐\n",
       "│ LLM Requests:  │ 4     │\n",
       "│ Input Tokens:  │ 10066 │\n",
       "│ Output Tokens: │ 507   │\n",
       "│ Total Tokens:  │ 10573 │\n",
       "└────────────────┴───────┘\n"
      ]
     },
     "metadata": {},
     "output_type": "display_data"
    },
    {
     "data": {
      "text/html": [
       "<pre style=\"white-space:pre;overflow-x:auto;line-height:normal;font-family:Menlo,'DejaVu Sans Mono',consolas,'Courier New',monospace\">\n",
       "<span style=\"color: #008080; text-decoration-color: #008080; font-weight: bold\">Total Time Taken:</span><span style=\"color: #008080; text-decoration-color: #008080\"> </span><span style=\"color: #008080; text-decoration-color: #008080; font-weight: bold\">12.</span><span style=\"color: #008080; text-decoration-color: #008080\">79s</span>\n",
       "</pre>\n"
      ],
      "text/plain": [
       "\n",
       "\u001b[1;36mTotal Time Taken:\u001b[0m\u001b[36m \u001b[0m\u001b[1;36m12.\u001b[0m\u001b[36m79s\u001b[0m\n"
      ]
     },
     "metadata": {},
     "output_type": "display_data"
    }
   ],
   "source": [
    "followup_response = qa.run(\n",
    "    query=\"Can you select one or two of these papers and explain them in simple terms? I am not a data scientist.\", context=response\n",
    ")\n",
    "\n",
    "followup_response.display()"
   ]
  },
  {
   "cell_type": "markdown",
   "metadata": {},
   "source": [
    "Read more about the [Query Agent](https://weaviate.io/blog/query-agent) on our blog."
   ]
  },
  {
   "cell_type": "markdown",
   "metadata": {},
   "source": [
    "## Bonus: Current limitations"
   ]
  },
  {
   "cell_type": "markdown",
   "metadata": {},
   "source": [
    "Remember that the Transformation Agent is being asked to update data objects for us. So, be very careful with the instructions you provide.\n",
    "\n",
    "And currently, it is in technical preview. Do not use it in a production environment (*yet* 😉).\n",
    "\n",
    "- Do not run multiple agents at the same time - this can cause conflicts (race conditions).\n",
    "- There is a limit of 10,000 operations per day per Weaviate Cloud organization."
   ]
  },
  {
   "cell_type": "code",
   "execution_count": 41,
   "metadata": {},
   "outputs": [
    {
     "data": {
      "text/plain": [
       "5"
      ]
     },
     "execution_count": 41,
     "metadata": {},
     "output_type": "execute_result"
    }
   ],
   "source": [
    "from weaviate.classes.config import Configure, Property, DataType\n",
    "\n",
    "collection_name = \"ArxivPapersDemo\"\n",
    "\n",
    "# Can delete the collection if you would like to (re)start fresh\n",
    "client.collections.delete(collection_name)\n",
    "\n",
    "client.collections.create(\n",
    "    collection_name,\n",
    "    description=\"A dataset that lists research paper titles and abstracts\",\n",
    "    properties=[\n",
    "        Property(name=\"title\", data_type=DataType.TEXT),\n",
    "        Property(name=\"abstract\", data_type=DataType.TEXT),\n",
    "    ],\n",
    "    vectorizer_config=[\n",
    "        Configure.NamedVectors.text2vec_weaviate(\n",
    "            name=\"default\",\n",
    "            source_properties=[\"title\", \"abstract\"],\n",
    "        )\n",
    "    ]\n",
    ")\n",
    "\n",
    "papers_collection = client.collections.get(collection_name)\n",
    "columns = papers_dataset[0][\"properties\"].keys()\n",
    "\n",
    "with papers_collection.batch.fixed_size(100) as batch:\n",
    "    for i, item in enumerate(papers_dataset):\n",
    "        if i < 5:\n",
    "            properties = {col: item[\"properties\"][col] for col in columns}\n",
    "            batch.add_object(properties=properties)\n",
    "\n",
    "\n",
    "if papers_collection.batch.failed_objects:\n",
    "    for fo in papers_collection.batch.failed_objects[:3]:\n",
    "        print(fo.message)\n",
    "        print(fo.object_)\n",
    "\n",
    "len(papers_collection)"
   ]
  },
  {
   "cell_type": "code",
   "execution_count": 42,
   "metadata": {},
   "outputs": [
    {
     "name": "stdout",
     "output_type": "stream",
     "text": [
      "[TransformationResponse(workflow_id='TransformationWorkflow-ca697ed94ac4bc7e0291f59ea255c506'), TransformationResponse(workflow_id='TransformationWorkflow-13a30b14320af54f2e01c0e4b231d1ab'), TransformationResponse(workflow_id='TransformationWorkflow-8a4147bfa2644661491db6f94aecce32')]\n"
     ]
    }
   ],
   "source": [
    "from weaviate.agents.transformation import TransformationAgent\n",
    "\n",
    "responses = []\n",
    "new_languages = [\"spanish\", \"german\", \"italian\"]\n",
    "\n",
    "for lang in new_languages:\n",
    "\n",
    "    prompt_task = f\"\"\"\n",
    "    Create a {lang} version of the abstract\n",
    "    \"\"\"\n",
    "\n",
    "    task = Operations.append_property(\n",
    "        property_name=f\"test_{lang}_abstract\",\n",
    "        data_type=DataType.TEXT,\n",
    "        view_properties=[\"abstract\"],\n",
    "        instruction=prompt_task,\n",
    "    )\n",
    "\n",
    "    ta = TransformationAgent(\n",
    "        client=client,\n",
    "        collection=collection_name,\n",
    "        operations=[task],\n",
    "    )\n",
    "\n",
    "    ta_response = ta.update_all()\n",
    "    responses.append(ta_response)\n",
    "\n",
    "print(responses)"
   ]
  },
  {
   "cell_type": "code",
   "execution_count": 43,
   "metadata": {},
   "outputs": [
    {
     "name": "stdout",
     "output_type": "stream",
     "text": [
      "Waiting... Elapsed time: 4.16 seconds\n",
      "Waiting... Elapsed time: 14.79 seconds\n",
      "Waiting... Elapsed time: 25.40 seconds\n",
      "Waiting... Elapsed time: 36.00 seconds\n",
      "Waiting... Elapsed time: 46.49 seconds\n",
      "Total time: 49.02 seconds\n",
      "{'workflow_id': 'TransformationWorkflow-ca697ed94ac4bc7e0291f59ea255c506', 'status': {'batch_count': 1, 'end_time': '2025-03-25 15:10:44', 'start_time': '2025-03-25 15:09:55', 'state': 'completed', 'total_duration': 49.018744, 'total_items': 5}}\n",
      "Total time: 52.80 seconds\n",
      "{'workflow_id': 'TransformationWorkflow-13a30b14320af54f2e01c0e4b231d1ab', 'status': {'batch_count': 1, 'end_time': '2025-03-25 15:10:49', 'start_time': '2025-03-25 15:09:57', 'state': 'completed', 'total_duration': 52.80279, 'total_items': 5}}\n",
      "Waiting... Elapsed time: 61.78 seconds\n",
      "Total time: 62.41 seconds\n",
      "{'workflow_id': 'TransformationWorkflow-8a4147bfa2644661491db6f94aecce32', 'status': {'batch_count': 1, 'end_time': '2025-03-25 15:11:00', 'start_time': '2025-03-25 15:09:58', 'state': 'completed', 'total_duration': 62.410281, 'total_items': 5}}\n"
     ]
    }
   ],
   "source": [
    "for r in responses:\n",
    "    get_ta_status(agent_instance=ta, workflow_id=r.workflow_id)"
   ]
  },
  {
   "cell_type": "markdown",
   "metadata": {},
   "source": [
    "If these operations worked perfectly, all objects should have all new properties (`test_spanish_abstract`, `test_german_abstract`, `test_italian_abstract`). "
   ]
  },
  {
   "cell_type": "code",
   "execution_count": null,
   "metadata": {},
   "outputs": [
    {
     "name": "stdout",
     "output_type": "stream",
     "text": [
      "Property abstract found in object UUID: 3122f2e1-2f2d-4e00-96e9-aac8fcda8beb, adding to list\n",
      "Property title found in object UUID: 3122f2e1-2f2d-4e00-96e9-aac8fcda8beb, adding to list\n",
      "Property test_german_abstract found in object UUID: 3122f2e1-2f2d-4e00-96e9-aac8fcda8beb, adding to list\n",
      "Property test_spanish_abstract found in object UUID: 3122f2e1-2f2d-4e00-96e9-aac8fcda8beb, adding to list\n",
      "Property test_italian_abstract found in object UUID: 3122f2e1-2f2d-4e00-96e9-aac8fcda8beb, adding to list\n",
      "Property test_german_abstract is empty in object UUID: 3122f2e1-2f2d-4e00-96e9-aac8fcda8beb\n",
      "Property test_german_abstract is empty in object UUID: a4904568-9a07-4fc0-a414-ff460326af50\n",
      "Property test_german_abstract is empty in object UUID: e611c73a-a90f-4fdb-bd46-7db235e73528\n"
     ]
    }
   ],
   "source": [
    "response = papers_collection.query.fetch_objects(\n",
    "    limit=50\n",
    ")\n",
    "\n",
    "properties = []\n",
    "for o in response.objects:\n",
    "    for p in properties:\n",
    "        if o.properties[p] is None or o.properties[p] == \"\":\n",
    "            print(f\"Property {p} is empty in object UUID: {o.uuid}\")"
   ]
  },
  {
   "cell_type": "markdown",
   "metadata": {},
   "source": [
    "But since we have very few objects, multiple objects worked on the same object at the same time. \n",
    "\n",
    "This shouldn't happen much in a real-world scenario, but it's something to keep in mind."
   ]
  },
  {
   "cell_type": "markdown",
   "metadata": {},
   "source": [
    "## Further resources\n",
    "\n",
    "- Blog: [\"Introducing the Weaviate Transformation Agent\"](https://weaviate.io/blog/transformation-agent)\n",
    "- Documentation: [Weaviate Transformation Agent](https://weaviate.io/developers/agents/transformation)"
   ]
  },
  {
   "cell_type": "markdown",
   "metadata": {},
   "source": []
  }
 ],
 "metadata": {
  "kernelspec": {
   "display_name": ".venv",
   "language": "python",
   "name": "python3"
  },
  "language_info": {
   "codemirror_mode": {
    "name": "ipython",
    "version": 3
   },
   "file_extension": ".py",
   "mimetype": "text/x-python",
   "name": "python",
   "nbconvert_exporter": "python",
   "pygments_lexer": "ipython3",
   "version": "3.12.4"
  }
 },
 "nbformat": 4,
 "nbformat_minor": 2
}
