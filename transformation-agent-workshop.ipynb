{
 "cells": [
  {
   "cell_type": "markdown",
   "metadata": {},
   "source": [
    "# Weaviate Transformation Agent - Workshop\n",
    "\n",
    "<a target=\"_blank\" href=\"https://colab.research.google.com/github/weaviate-tutorials/intro-to-weaviate-agents/blob/main/transformation-agent-workshop.ipynb\">\n",
    "  <img src=\"https://colab.research.google.com/assets/colab-badge.svg\" alt=\"Open In Colab\"/>\n",
    "</a>\n",
    "\n",
    "### Prerequisites\n",
    "\n",
    "1. Log in to [Weaviate Cloud](https://console.weaviate.cloud) account (sign up if you don't have one yet)\n",
    "1. Create a Weaviate Cloud [Sandbox](https://weaviate.io/developers/wcs/manage-clusters/create#sandbox-clusters) instance\n",
    "1. Go to the 'Embedding' tab (on the left column) and enable `Weaviate Embeddings`\n",
    "1. Take note of the `REST Endpoint` and a `Admin` `API Key`. \n",
    "1. Update `WEAVIATE_CLOUD_URL` with the `REST Endpoint` and `WEAVIATE_API_KEY` with the `Admin` `API Key`.\n",
    "    - (Option 1): **If using Google Colab**\n",
    "        - Set the values in the \"Secrets\" tab in the left column.\n",
    "        <img src=\"./img/colab_secrets.png\" alt=\"Update the .env file\" width=\"400\"/>\n",
    "    - (Option 2): **Using an environment with a copy of the repository**\n",
    "        - Update the values the `.env` file in the root directory of this repository.\n",
    "        - Make sure to restart the Jupyter notebook after updating & saving the `.env` file.\n",
    "        "
   ]
  },
  {
   "cell_type": "markdown",
   "metadata": {},
   "source": [
    "Load our secrets (Weaviate URL & API key)"
   ]
  },
  {
   "cell_type": "code",
   "execution_count": null,
   "metadata": {},
   "outputs": [],
   "source": [
    "def is_colab():\n",
    "    \"\"\"Check if the current notebook is running in Google Colab.\"\"\"\n",
    "    try:\n",
    "        import google.colab\n",
    "        return True\n",
    "    except ImportError:\n",
    "        return False\n",
    "\n",
    "\n",
    "if is_colab():\n",
    "    from google.colab import userdata\n",
    "    weaviate_url = userdata.get('WEAVIATE_CLOUD_URL')\n",
    "    weaviate_api_key = userdata.get('WEAVIATE_CLOUD_API_KEY')\n",
    "    print(\"Running in Colab, secrets retrieved. URL:\", weaviate_url)\n",
    "\n",
    "else:\n",
    "    import os\n",
    "    import dotenv\n",
    "\n",
    "    dotenv.load_dotenv()\n",
    "\n",
    "    # Remember to Update the .env file & RESTART the kernel (if running a local environment)\n",
    "    weaviate_url = os.getenv(\"WEAVIATE_CLOUD_URL\")\n",
    "    weaviate_api_key = os.getenv(\"WEAVIATE_CLOUD_API_KEY\")"
   ]
  },
  {
   "cell_type": "code",
   "execution_count": null,
   "metadata": {},
   "outputs": [],
   "source": [
    "# If in Colab, install the packages:\n",
    "\n",
    "!pip install weaviate-client[agents] datasets"
   ]
  },
  {
   "cell_type": "markdown",
   "metadata": {},
   "source": [
    "## Introduction"
   ]
  },
  {
   "cell_type": "markdown",
   "metadata": {},
   "source": [
    "### Agenda\n",
    "\n",
    "Let's talk about:\n",
    "- What the Transformation Agent is\n",
    "- What you can do with the Transformation Agent\n",
    "- Some tips & tricks\n",
    "- How to get started"
   ]
  },
  {
   "cell_type": "markdown",
   "metadata": {},
   "source": [
    "### About the Transformation Agent\n",
    "\n",
    "The *Weaviate Transformation Agent* is \n",
    "\n",
    "- A cloud-based service \n",
    "- for transforming your data in a Weaviate instance\n",
    "- available for Weaviate Cloud users"
   ]
  },
  {
   "cell_type": "markdown",
   "metadata": {},
   "source": [
    "**And** it is: in technical preview (do **not** use in production)\n",
    "\n",
    "<center><img src=\"img/agents_tech_preview.png\" width=\"60%\"></center>\n",
    "\n",
    "> ⚠️ The Weaviate Transformation Agent modifies data objects in Weaviate. **While the Agent is in technical preview, do not use it in a production environment.** \n",
    "> \n",
    "> The Agent may not work as expected, and the data in your Weaviate instance may be affected in unexpected ways."
   ]
  },
  {
   "cell_type": "markdown",
   "metadata": {},
   "source": [
    "**What the Transformation Agent is**\n",
    "\n",
    "<center><img src=\"img/ta_obj.png\" width=\"60%\"></center>"
   ]
  },
  {
   "cell_type": "markdown",
   "metadata": {},
   "source": [
    "The `TransformationAgent` can modify objects in a Weaviate collection to add new properties or update existing properties."
   ]
  },
  {
   "cell_type": "markdown",
   "metadata": {},
   "source": [
    "**What you can do with the Transformation Agent**\n",
    "\n",
    "<center><img src=\"img/ta_overview.png\" width=\"60%\"></center>"
   ]
  },
  {
   "cell_type": "markdown",
   "metadata": {},
   "source": [
    "Provide instructions to the `TransformationAgent` using natural language, and other required parameters. "
   ]
  },
  {
   "cell_type": "markdown",
   "metadata": {},
   "source": [
    "## Preparation"
   ]
  },
  {
   "cell_type": "markdown",
   "metadata": {},
   "source": [
    "Here, we are going to use the [**Weaviate/ArxivPapers**](https://huggingface.co/datasets/weaviate/agents/viewer/query-agent-ecommerce) dataset. \n",
    "\n",
    "It includes titles and abstracts of a few research papers.\n",
    "\n",
    "First, we load the dataset & add it to Weaviate."
   ]
  },
  {
   "cell_type": "markdown",
   "metadata": {},
   "source": [
    "### Load dataset"
   ]
  },
  {
   "cell_type": "code",
   "execution_count": null,
   "metadata": {},
   "outputs": [],
   "source": [
    "from datasets import load_dataset\n",
    "\n",
    "papers_dataset = load_dataset(\"weaviate/agents\", \"transformation-agent-papers\", split=\"train\")"
   ]
  },
  {
   "cell_type": "code",
   "execution_count": null,
   "metadata": {},
   "outputs": [],
   "source": [
    "print(papers_dataset.shape)\n",
    "print(papers_dataset[0][\"properties\"].keys())"
   ]
  },
  {
   "cell_type": "code",
   "execution_count": null,
   "metadata": {},
   "outputs": [],
   "source": [
    "for k, v in papers_dataset[0][\"properties\"].items():\n",
    "    if len(v) > 100:\n",
    "        v = v[:100] + \"...\"\n",
    "    print(f\"{k}: {v}\")"
   ]
  },
  {
   "cell_type": "markdown",
   "metadata": {},
   "source": [
    "Iterate through the data"
   ]
  },
  {
   "cell_type": "code",
   "execution_count": null,
   "metadata": {},
   "outputs": [],
   "source": [
    "columns = papers_dataset[0][\"properties\"].keys()\n",
    "\n",
    "for i, item in enumerate(papers_dataset):\n",
    "    if i < 2:\n",
    "        properties = {\n",
    "            col: item[\"properties\"][col] for col in columns\n",
    "        }\n",
    "        print(properties)"
   ]
  },
  {
   "cell_type": "markdown",
   "metadata": {},
   "source": [
    "### Ingest data into Weaviate"
   ]
  },
  {
   "cell_type": "markdown",
   "metadata": {},
   "source": [
    "#### Connect to Weaviate"
   ]
  },
  {
   "cell_type": "code",
   "execution_count": null,
   "metadata": {},
   "outputs": [],
   "source": [
    "weaviate_url"
   ]
  },
  {
   "cell_type": "code",
   "execution_count": null,
   "metadata": {},
   "outputs": [],
   "source": [
    "import weaviate\n",
    "from weaviate.classes.init import Auth\n",
    "\n",
    "client = weaviate.connect_to_weaviate_cloud(\n",
    "    cluster_url=weaviate_url, auth_credentials=Auth.api_key(weaviate_api_key)\n",
    ")\n",
    "\n",
    "assert client.is_ready()"
   ]
  },
  {
   "cell_type": "markdown",
   "metadata": {},
   "source": [
    "#### Set up a collection"
   ]
  },
  {
   "cell_type": "markdown",
   "metadata": {},
   "source": [
    "**Important:** Make sure to enable 'Embeddings' in the Weaviate Cloud console. \n",
    "\n",
    "[See above](#prerequisites)"
   ]
  },
  {
   "cell_type": "code",
   "execution_count": null,
   "metadata": {},
   "outputs": [],
   "source": [
    "from weaviate.classes.config import Configure, Property, DataType\n",
    "\n",
    "collection_name = \"ArxivPapersDemo\"\n",
    "\n",
    "# Can delete the collection if you would like to (re)start fresh\n",
    "client.collections.delete(collection_name)\n",
    "\n",
    "if client.collections.exists(collection_name):\n",
    "    # For re-running this tutorial, do nothing\n",
    "    pass\n",
    "else:\n",
    "    client.collections.create(\n",
    "        collection_name,\n",
    "        description=\"A dataset that lists research paper titles and abstracts\",\n",
    "        properties=[\n",
    "            Property(name=\"title\", data_type=DataType.TEXT),\n",
    "            Property(name=\"abstract\", data_type=DataType.TEXT),\n",
    "        ],\n",
    "        vectorizer_config=[\n",
    "            Configure.NamedVectors.text2vec_weaviate(\n",
    "                name=\"default\",\n",
    "                source_properties=[\"title\", \"abstract\"],\n",
    "            )\n",
    "        ]\n",
    "    )"
   ]
  },
  {
   "cell_type": "markdown",
   "metadata": {},
   "source": [
    "#### Add data to Weaviate"
   ]
  },
  {
   "cell_type": "markdown",
   "metadata": {},
   "source": [
    "We loop through the data and add it to Weaviate. \n",
    "\n",
    "For the demo/workshop, we add only a few rows for speed and simplicity."
   ]
  },
  {
   "cell_type": "code",
   "execution_count": null,
   "metadata": {},
   "outputs": [],
   "source": [
    "papers_collection = client.collections.get(collection_name)\n",
    "columns = papers_dataset[0][\"properties\"].keys()\n",
    "\n",
    "with papers_collection.batch.fixed_size(100) as batch:\n",
    "    for i, item in enumerate(papers_dataset):\n",
    "        if i < 50:\n",
    "            properties = {col: item[\"properties\"][col] for col in columns}\n",
    "            batch.add_object(properties=properties)\n",
    "\n",
    "\n",
    "if papers_collection.batch.failed_objects:\n",
    "    for fo in papers_collection.batch.failed_objects[:3]:\n",
    "        print(fo.message)\n",
    "        print(fo.object_)"
   ]
  },
  {
   "cell_type": "code",
   "execution_count": null,
   "metadata": {},
   "outputs": [],
   "source": [
    "len(papers_collection)"
   ]
  },
  {
   "cell_type": "markdown",
   "metadata": {},
   "source": [
    "#### Inspect the collection \n",
    "\n"
   ]
  },
  {
   "cell_type": "code",
   "execution_count": null,
   "metadata": {},
   "outputs": [],
   "source": [
    "response = papers_collection.query.fetch_objects(\n",
    "    limit=3,\n",
    "    include_vector=True\n",
    ")\n",
    "\n",
    "for o in response.objects:\n",
    "    for k, v in o.properties.items():\n",
    "        print(f\"{k}: {v[:50]}\")\n",
    "    print()\n",
    "    print(o.vector[\"default\"][:10])  # No need to print the entire vector"
   ]
  },
  {
   "cell_type": "markdown",
   "metadata": {},
   "source": [
    "**Alternative: Use the `Explorer` cloud tool**\n",
    "\n",
    "On Weaviate Cloud Console, click on the `Explorer` tab on the left column.\n",
    "\n",
    "When you click on each object, you should see 2 properties:\n",
    "- `title`\n",
    "- `abstract`\n",
    "\n",
    "As well as its `vectors`"
   ]
  },
  {
   "cell_type": "markdown",
   "metadata": {},
   "source": [
    "## Using the original dataset:\n"
   ]
  },
  {
   "cell_type": "markdown",
   "metadata": {},
   "source": [
    "### Can you find what you need?\n",
    "\n",
    "Can you find papers about a specific topic (e.g. machine learning)?"
   ]
  },
  {
   "cell_type": "code",
   "execution_count": null,
   "metadata": {},
   "outputs": [],
   "source": [
    "response = papers_collection.query.near_text(\n",
    "    query=\"machine learning\",\n",
    "    limit=5\n",
    ")\n",
    "\n",
    "for o in response.objects:\n",
    "    print(o.properties[\"title\"])"
   ]
  },
  {
   "cell_type": "markdown",
   "metadata": {},
   "source": [
    "Can you filter only for papers with a particular main topic? (e.g. classification)"
   ]
  },
  {
   "cell_type": "code",
   "execution_count": null,
   "metadata": {},
   "outputs": [],
   "source": [
    "## ???\n",
    "## Not sure if we actually can do this with the current data"
   ]
  },
  {
   "cell_type": "markdown",
   "metadata": {},
   "source": [
    "### Does your data meet your needs?\n",
    "\n",
    "What if: \n",
    "- The data is in the wrong language?\n",
    "- Each abstract is too long?\n",
    "\n",
    "Would you want to perform a RAG query each time?\n",
    "\n",
    "\n"
   ]
  },
  {
   "cell_type": "markdown",
   "metadata": {},
   "source": [
    "## Try the Weaviate Transformation Agent "
   ]
  },
  {
   "cell_type": "markdown",
   "metadata": {},
   "source": [
    "### Task 1: Create a `topics` property"
   ]
  },
  {
   "cell_type": "markdown",
   "metadata": {},
   "source": [
    "Define the operation(s) that you want to perform on the data."
   ]
  },
  {
   "cell_type": "code",
   "execution_count": null,
   "metadata": {},
   "outputs": [],
   "source": [
    "prompt_create_topics = \"\"\"\n",
    "Create a list of topic tags based on the abstract.\n",
    "Topics should be distinct from each other. Provide a maximum of 5 topics.\n",
    "Group similar topics under one topic tag.\n",
    "\"\"\""
   ]
  },
  {
   "cell_type": "code",
   "execution_count": null,
   "metadata": {},
   "outputs": [],
   "source": [
    "from weaviate.agents.classes import Operations\n",
    "\n",
    "add_topics = Operations.append_property(\n",
    "    property_name=\"topics\",             # Property to create\n",
    "    data_type=DataType.TEXT_ARRAY,      # Data type of the property\n",
    "    view_properties=[\"abstract\"],       # Existing properties to view for the operation\n",
    "    instruction=prompt_create_topics,   # Instruction to the Transformation Agent\n",
    ")"
   ]
  },
  {
   "cell_type": "markdown",
   "metadata": {},
   "source": [
    "Instantiate the agent & start the operations"
   ]
  },
  {
   "cell_type": "code",
   "execution_count": null,
   "metadata": {},
   "outputs": [],
   "source": [
    "from weaviate.agents.transformation import TransformationAgent\n",
    "\n",
    "ta = TransformationAgent(\n",
    "    client=client,              # Weaviate client object\n",
    "    collection=collection_name, # Collection name\n",
    "    operations=[add_topics]     # List of transform operations\n",
    ")\n",
    "\n",
    "ta_response = ta.update_all()"
   ]
  },
  {
   "cell_type": "markdown",
   "metadata": {},
   "source": [
    "What does the response look like?"
   ]
  },
  {
   "cell_type": "code",
   "execution_count": null,
   "metadata": {},
   "outputs": [],
   "source": [
    "ta_response"
   ]
  },
  {
   "cell_type": "markdown",
   "metadata": {},
   "source": [
    "The response contains the unique `workflow_id` of the operations. \n",
    "\n",
    "This does not mean that the operations are finished!\n",
    "\n",
    "**The Transformation Agent is asynchronous**. You can check the status of the operation using the `workflow_id`."
   ]
  },
  {
   "cell_type": "code",
   "execution_count": null,
   "metadata": {},
   "outputs": [],
   "source": [
    "ta.get_status(workflow_id=ta_response.workflow_id)"
   ]
  },
  {
   "cell_type": "markdown",
   "metadata": {},
   "source": [
    "We can periodically check if the operation is done"
   ]
  },
  {
   "cell_type": "code",
   "execution_count": null,
   "metadata": {},
   "outputs": [],
   "source": [
    "def get_ta_status(agent_instance, workflow_id):\n",
    "    # Rough code to check the status of the TA workflow\n",
    "    import time\n",
    "    from datetime import datetime\n",
    "\n",
    "    while True:\n",
    "        status = agent_instance.get_status(workflow_id=workflow_id)\n",
    "\n",
    "        if status[\"status\"][\"state\"] != \"running\":\n",
    "            break\n",
    "\n",
    "        # Calculate elapsed time from start_time\n",
    "        start = datetime.strptime(status[\"status\"][\"start_time\"], \"%Y-%m-%d %H:%M:%S\")\n",
    "        elapsed = (datetime.now() - start).total_seconds()\n",
    "\n",
    "        print(f\"Waiting... Elapsed time: {elapsed:.2f} seconds\")\n",
    "        time.sleep(10)\n",
    "\n",
    "    # Calculate total time\n",
    "    if status[\"status\"][\"total_duration\"]:\n",
    "        total = status[\"status\"][\"total_duration\"]\n",
    "    else:\n",
    "        start = datetime.strptime(status[\"status\"][\"start_time\"], \"%Y-%m-%d %H:%M:%S\")\n",
    "        end = datetime.now() if not status[\"status\"][\"end_time\"] else datetime.strptime(status[\"status\"][\"end_time\"], \"%Y-%m-%d %H:%M:%S\")\n",
    "        total = (end - start).total_seconds()\n",
    "\n",
    "    print(f\"Total time: {total:.2f} seconds\")\n",
    "    print(status)"
   ]
  },
  {
   "cell_type": "code",
   "execution_count": null,
   "metadata": {},
   "outputs": [],
   "source": [
    "get_ta_status(agent_instance=ta, workflow_id=ta_response.workflow_id)"
   ]
  },
  {
   "cell_type": "markdown",
   "metadata": {},
   "source": [
    "**How the Transformation Agent works**\n",
    "\n",
    "<center><img src=\"img/ta_schematic.png\" width=\"60%\"></center>\n",
    "\n",
    "The `TransformationAgent` connects to your Weaviate Cloud instance, and uses LLMs to follow these instructions."
   ]
  },
  {
   "cell_type": "markdown",
   "metadata": {},
   "source": [
    "When the operation is complete - let's see what we can do with the data:"
   ]
  },
  {
   "cell_type": "code",
   "execution_count": null,
   "metadata": {},
   "outputs": [],
   "source": [
    "from weaviate.classes.query import Metrics\n",
    "\n",
    "response = papers_collection.aggregate.over_all(\n",
    "    return_metrics=Metrics(\"topics\").text(\n",
    "        top_occurrences_count=True,\n",
    "        top_occurrences_value=True,\n",
    "        min_occurrences=10\n",
    "    )\n",
    ")\n",
    "\n",
    "for t in response.properties[\"topics\"].top_occurrences:\n",
    "    print(t)"
   ]
  },
  {
   "cell_type": "markdown",
   "metadata": {},
   "source": [
    "Try to filter for papers with particular topics:"
   ]
  },
  {
   "cell_type": "code",
   "execution_count": null,
   "metadata": {},
   "outputs": [],
   "source": [
    "from weaviate.classes.query import Filter\n",
    "\n",
    "response = papers_collection.query.fetch_objects(\n",
    "    limit=3,\n",
    "    filters=Filter.by_property(\"topics\").like(\"*machine*\")\n",
    ")\n",
    "\n",
    "for o in response.objects:\n",
    "    print(o.properties[\"title\"])"
   ]
  },
  {
   "cell_type": "markdown",
   "metadata": {},
   "source": [
    "Inspect an object again:"
   ]
  },
  {
   "cell_type": "code",
   "execution_count": null,
   "metadata": {},
   "outputs": [],
   "source": [
    "response = papers_collection.query.fetch_objects(\n",
    "    limit=3,\n",
    ")\n",
    "\n",
    "for o in response.objects:\n",
    "    for k, v in o.properties.items():\n",
    "        print(f\"{k}: {v[:50]}\")\n",
    "    print()"
   ]
  },
  {
   "cell_type": "markdown",
   "metadata": {},
   "source": [
    "### Task 2: Perform multiple operations\n",
    "\n",
    "- Add a `paper_type` property (e.g. `survey`, `method`, `resource`)\n",
    "- Add a boolean property `relevant_to_rag` (True/False)"
   ]
  },
  {
   "cell_type": "code",
   "execution_count": null,
   "metadata": {},
   "outputs": [],
   "source": [
    "prompt_paper_type = \"\"\"\n",
    "Determine the primary type of paper based on the abstract. Assign exactly one of the following categories that best represents the paper's main contribution:\n",
    "\n",
    "'survey':   Comprehensive review or meta-analysis of existing work in a field\n",
    "'model':    Introduction of a new predictive model, statistical method, or algorithmic approach\n",
    "'system':   Description of a new data pipeline, workflow, framework, or system architecture\n",
    "'analysis': Focused on insights derived from analyzing data\n",
    "'resource': Introduction of a new dataset, benchmark, or tool for data science\n",
    "'other':    None of the above\n",
    "\"\"\"\n",
    "\n",
    "add_paper_type = Operations.append_property(\n",
    "      property_name=\"paper_type\",\n",
    "      data_type=DataType.TEXT,\n",
    "      view_properties=[\"abstract\"],\n",
    "      instruction=prompt_paper_type,\n",
    ")"
   ]
  },
  {
   "cell_type": "code",
   "execution_count": null,
   "metadata": {},
   "outputs": [],
   "source": [
    "prompt_about_classification = \"\"\"\n",
    "Based on the abstract, determine whether the paper is\n",
    "primarily about the machine field of classification.\n",
    "\n",
    "Do not include papers that are obliquely, or vaguely about classification.\n",
    "\"\"\"\n",
    "\n",
    "add_about_classification_bool = Operations.append_property(\n",
    "    property_name=\"about_classification\",\n",
    "    data_type=DataType.BOOL,\n",
    "    view_properties=[\"abstract\"],\n",
    "    instruction=prompt_about_classification,\n",
    ")"
   ]
  },
  {
   "cell_type": "code",
   "execution_count": null,
   "metadata": {},
   "outputs": [],
   "source": [
    "prompt_add_french_title_suffix = \"\"\"\n",
    "Update the title to ensure that it contains the French translation of itself in parantheses, after the original title.\n",
    "\"\"\"\n",
    "\n",
    "update_title = Operations.update_property(\n",
    "    property_name=\"title\",\n",
    "    view_properties=[\"title\"],\n",
    "    instruction=prompt_add_french_title_suffix,\n",
    ")"
   ]
  },
  {
   "cell_type": "code",
   "execution_count": null,
   "metadata": {},
   "outputs": [],
   "source": [
    "from weaviate.agents.transformation import TransformationAgent\n",
    "\n",
    "ta = TransformationAgent(\n",
    "    client=client,\n",
    "    collection=collection_name,\n",
    "    operations=[\n",
    "        update_title,\n",
    "        add_paper_type,\n",
    "        add_about_classification_bool\n",
    "    ],\n",
    ")\n",
    "\n",
    "ta_response = ta.update_all()"
   ]
  },
  {
   "cell_type": "markdown",
   "metadata": {},
   "source": [
    "Note that this still returns one object, with one workflow ID, even though we are performing multiple operations."
   ]
  },
  {
   "cell_type": "code",
   "execution_count": null,
   "metadata": {},
   "outputs": [],
   "source": [
    "ta.get_status(workflow_id=ta_response.workflow_id)"
   ]
  },
  {
   "cell_type": "markdown",
   "metadata": {},
   "source": [
    "Let's monitor the operation as before:"
   ]
  },
  {
   "cell_type": "code",
   "execution_count": null,
   "metadata": {},
   "outputs": [],
   "source": [
    "get_ta_status(agent_instance=ta, workflow_id=ta_response.workflow_id)"
   ]
  },
  {
   "cell_type": "markdown",
   "metadata": {},
   "source": [
    "And again, inspect a few transformed objects:"
   ]
  },
  {
   "cell_type": "code",
   "execution_count": null,
   "metadata": {},
   "outputs": [],
   "source": [
    "response = papers_collection.query.fetch_objects(\n",
    "    limit=3,\n",
    ")\n",
    "\n",
    "for o in response.objects:\n",
    "    for k, v in o.properties.items():\n",
    "        if type(v) == str:\n",
    "            if len(v) > 50:\n",
    "                v = v[:50] + \"...\"\n",
    "        print(f\"{k}: {v}\")\n",
    "    print()"
   ]
  },
  {
   "cell_type": "markdown",
   "metadata": {},
   "source": [
    "We see it did, in fact, perform all the specified transformation operations."
   ]
  },
  {
   "cell_type": "markdown",
   "metadata": {},
   "source": [
    "We can now use these improved properties to perform new queries. \n",
    "\n",
    "- e.g. what paper types do we have?"
   ]
  },
  {
   "cell_type": "code",
   "execution_count": null,
   "metadata": {},
   "outputs": [],
   "source": [
    "from weaviate.classes.query import Metrics\n",
    "\n",
    "response = papers_collection.aggregate.over_all(\n",
    "    return_metrics=Metrics(\"paper_type\").text(\n",
    "        top_occurrences_count=True,\n",
    "        top_occurrences_value=True,\n",
    "        min_occurrences=10\n",
    "    )\n",
    ")\n",
    "\n",
    "for t in response.properties[\"paper_type\"].top_occurrences:\n",
    "    print(t)"
   ]
  },
  {
   "cell_type": "markdown",
   "metadata": {},
   "source": [
    "How many objects are about classifications?"
   ]
  },
  {
   "cell_type": "code",
   "execution_count": null,
   "metadata": {},
   "outputs": [],
   "source": [
    "from weaviate.classes.query import Filter\n",
    "\n",
    "response = papers_collection.aggregate.over_all(\n",
    "    filters=Filter.by_property(\"about_classification\").equal(True),\n",
    ")\n",
    "\n",
    "response.total_count"
   ]
  },
  {
   "cell_type": "code",
   "execution_count": null,
   "metadata": {},
   "outputs": [],
   "source": [
    "from weaviate.classes.query import Filter\n",
    "\n",
    "response = papers_collection.query.fetch_objects(\n",
    "    filters=Filter.by_property(\"about_classification\").equal(True),\n",
    "    limit=10\n",
    ")\n",
    "\n",
    "for o in response.objects:\n",
    "    print(o.properties[\"title\"])"
   ]
  },
  {
   "cell_type": "markdown",
   "metadata": {},
   "source": [
    "What about intersections of multiple properties?"
   ]
  },
  {
   "cell_type": "code",
   "execution_count": null,
   "metadata": {},
   "outputs": [],
   "source": [
    "from weaviate.classes.query import Filter\n",
    "\n",
    "response = papers_collection.aggregate.over_all(\n",
    "    filters=(\n",
    "        Filter.by_property(\"paper_type\").equal(\"model\") &\n",
    "        Filter.by_property(\"about_classification\").equal(True)\n",
    "    )\n",
    ")\n",
    "\n",
    "response.total_count"
   ]
  },
  {
   "cell_type": "markdown",
   "metadata": {},
   "source": [
    "Let's take a look at a few:"
   ]
  },
  {
   "cell_type": "code",
   "execution_count": null,
   "metadata": {},
   "outputs": [],
   "source": [
    "from weaviate.classes.query import Filter\n",
    "\n",
    "response = papers_collection.query.near_text(\n",
    "    query=\"vector\",\n",
    "    filters=(\n",
    "        Filter.by_property(\"paper_type\").equal(\"model\") &\n",
    "        Filter.by_property(\"about_classification\").equal(True)\n",
    "    )\n",
    ")\n",
    "\n",
    "for o in response.objects:\n",
    "    print(o.properties[\"title\"])"
   ]
  },
  {
   "cell_type": "markdown",
   "metadata": {},
   "source": [
    "## Bonus: Use the Query Agent"
   ]
  },
  {
   "cell_type": "markdown",
   "metadata": {},
   "source": [
    "The Weaviate [Query Agent](https://weaviate.io/developers/agents/query) is another agentic service on Weaviate Cloud. The Query Agent allows you to query your Weaviate instance using natural language."
   ]
  },
  {
   "cell_type": "code",
   "execution_count": null,
   "metadata": {},
   "outputs": [],
   "source": [
    "from weaviate.agents.query import QueryAgent\n",
    "\n",
    "qa = QueryAgent(\n",
    "    client=client, collections=[collection_name]\n",
    ")"
   ]
  },
  {
   "cell_type": "markdown",
   "metadata": {},
   "source": [
    "Now, we can just tell the Query Agent to do the hard & boring stuff (syntax lookup!) for us."
   ]
  },
  {
   "cell_type": "code",
   "execution_count": null,
   "metadata": {},
   "outputs": [],
   "source": [
    "# Perform a query\n",
    "response = qa.run(\n",
    "    \"\"\"\n",
    "    Find papers that are about classification. Tell me about some of them.\n",
    "    Hint: There is a property called 'about_classification' that you can use.\n",
    "    \"\"\",\n",
    ")\n",
    "\n",
    "# Print the response\n",
    "response.display()"
   ]
  },
  {
   "cell_type": "code",
   "execution_count": null,
   "metadata": {},
   "outputs": [],
   "source": [
    "# Perform a query\n",
    "response = qa.run(\n",
    "    \"\"\"\n",
    "    How many papers are primarily about models?\n",
    "\n",
    "    Hint: There is a property called 'paper_type' where the available values are: 'survey', 'model', 'system', 'analysis', 'resource', 'other'.\n",
    "    \"\"\"\n",
    ")\n",
    "\n",
    "# Print the response\n",
    "response.display()"
   ]
  },
  {
   "cell_type": "markdown",
   "metadata": {},
   "source": [
    "We can even ask it follow-up queries:"
   ]
  },
  {
   "cell_type": "code",
   "execution_count": null,
   "metadata": {},
   "outputs": [],
   "source": [
    "followup_response = qa.run(\n",
    "    query=\"Can you select one or two of these papers and explain them in simple terms? I am not a data scientist.\", context=response\n",
    ")\n",
    "\n",
    "followup_response.display()"
   ]
  },
  {
   "cell_type": "markdown",
   "metadata": {},
   "source": [
    "Read more about the [Query Agent](https://weaviate.io/blog/query-agent) on our blog."
   ]
  },
  {
   "cell_type": "markdown",
   "metadata": {},
   "source": [
    "## Bonus: Current limitations"
   ]
  },
  {
   "cell_type": "markdown",
   "metadata": {},
   "source": [
    "Remember that the Transformation Agent is being asked to update data objects for us. So, be very careful with the instructions you provide.\n",
    "\n",
    "And currently, it is in technical preview. Do not use it in a production environment (*yet* 😉).\n",
    "\n",
    "- Do not run multiple agents at the same time - this can cause conflicts (race conditions).\n",
    "- There is a limit of 10,000 operations per day per Weaviate Cloud organization."
   ]
  },
  {
   "cell_type": "code",
   "execution_count": null,
   "metadata": {},
   "outputs": [],
   "source": [
    "from weaviate.classes.config import Configure, Property, DataType\n",
    "\n",
    "collection_name = \"ArxivPapersDemo\"\n",
    "\n",
    "# Can delete the collection if you would like to (re)start fresh\n",
    "client.collections.delete(collection_name)\n",
    "\n",
    "client.collections.create(\n",
    "    collection_name,\n",
    "    description=\"A dataset that lists research paper titles and abstracts\",\n",
    "    properties=[\n",
    "        Property(name=\"title\", data_type=DataType.TEXT),\n",
    "        Property(name=\"abstract\", data_type=DataType.TEXT),\n",
    "    ],\n",
    "    vectorizer_config=[\n",
    "        Configure.NamedVectors.text2vec_weaviate(\n",
    "            name=\"default\",\n",
    "            source_properties=[\"title\", \"abstract\"],\n",
    "        )\n",
    "    ]\n",
    ")\n",
    "\n",
    "papers_collection = client.collections.get(collection_name)\n",
    "columns = papers_dataset[0][\"properties\"].keys()\n",
    "\n",
    "with papers_collection.batch.fixed_size(100) as batch:\n",
    "    for i, item in enumerate(papers_dataset):\n",
    "        if i < 5:\n",
    "            properties = {col: item[\"properties\"][col] for col in columns}\n",
    "            batch.add_object(properties=properties)\n",
    "\n",
    "\n",
    "if papers_collection.batch.failed_objects:\n",
    "    for fo in papers_collection.batch.failed_objects[:3]:\n",
    "        print(fo.message)\n",
    "        print(fo.object_)\n",
    "\n",
    "len(papers_collection)"
   ]
  },
  {
   "cell_type": "code",
   "execution_count": null,
   "metadata": {},
   "outputs": [],
   "source": [
    "from weaviate.agents.transformation import TransformationAgent\n",
    "\n",
    "responses = []\n",
    "new_languages = [\"spanish\", \"german\", \"italian\"]\n",
    "\n",
    "for lang in new_languages:\n",
    "\n",
    "    prompt_task = f\"\"\"\n",
    "    Create a {lang} version of the abstract\n",
    "    \"\"\"\n",
    "\n",
    "    task = Operations.append_property(\n",
    "        property_name=f\"test_{lang}_abstract\",\n",
    "        data_type=DataType.TEXT,\n",
    "        view_properties=[\"abstract\"],\n",
    "        instruction=prompt_task,\n",
    "    )\n",
    "\n",
    "    ta = TransformationAgent(\n",
    "        client=client,\n",
    "        collection=collection_name,\n",
    "        operations=[task],\n",
    "    )\n",
    "\n",
    "    ta_response = ta.update_all()\n",
    "    responses.append(ta_response)\n",
    "\n",
    "print(responses)"
   ]
  },
  {
   "cell_type": "code",
   "execution_count": null,
   "metadata": {},
   "outputs": [],
   "source": [
    "for r in responses:\n",
    "    get_ta_status(agent_instance=ta, workflow_id=r.workflow_id)"
   ]
  },
  {
   "cell_type": "markdown",
   "metadata": {},
   "source": [
    "If these operations worked perfectly, all objects should have all new properties (`test_spanish_abstract`, `test_german_abstract`, `test_italian_abstract`). "
   ]
  },
  {
   "cell_type": "code",
   "execution_count": null,
   "metadata": {},
   "outputs": [],
   "source": [
    "response = papers_collection.query.fetch_objects(\n",
    "    limit=50\n",
    ")\n",
    "\n",
    "properties = []\n",
    "for o in response.objects:\n",
    "    for p in properties:\n",
    "        if o.properties[p] is None or o.properties[p] == \"\":\n",
    "            print(f\"Property {p} is empty in object UUID: {o.uuid}\")"
   ]
  },
  {
   "cell_type": "markdown",
   "metadata": {},
   "source": [
    "But since we have very few objects, multiple objects worked on the same object at the same time. \n",
    "\n",
    "This shouldn't happen much in a real-world scenario, but it's something to keep in mind."
   ]
  },
  {
   "cell_type": "markdown",
   "metadata": {},
   "source": [
    "## Further resources\n",
    "\n",
    "- Blog: [\"Introducing the Weaviate Transformation Agent\"](https://weaviate.io/blog/transformation-agent)\n",
    "- Documentation: [Weaviate Transformation Agent](https://weaviate.io/developers/agents/transformation)"
   ]
  },
  {
   "cell_type": "markdown",
   "metadata": {},
   "source": []
  }
 ],
 "metadata": {
  "kernelspec": {
   "display_name": ".venv",
   "language": "python",
   "name": "python3"
  },
  "language_info": {
   "codemirror_mode": {
    "name": "ipython",
    "version": 3
   },
   "file_extension": ".py",
   "mimetype": "text/x-python",
   "name": "python",
   "nbconvert_exporter": "python",
   "pygments_lexer": "ipython3",
   "version": "3.12.4"
  }
 },
 "nbformat": 4,
 "nbformat_minor": 2
}
