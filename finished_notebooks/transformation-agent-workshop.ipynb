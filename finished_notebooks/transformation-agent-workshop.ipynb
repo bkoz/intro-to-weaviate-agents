{
 "cells": [
  {
   "cell_type": "markdown",
   "metadata": {},
   "source": [
    "# Weaviate Transformation Agent - Workshop\n",
    "\n",
    "<a target=\"_blank\" href=\"https://colab.research.google.com/github/weaviate-tutorials/intro-to-weaviate-agents/blob/main/transformation-agent-workshop.ipynb\">\n",
    "  <img src=\"https://colab.research.google.com/assets/colab-badge.svg\" alt=\"Open In Colab\"/>\n",
    "</a>\n",
    "\n",
    "### Prerequisites\n",
    "\n",
    "1. Log in to [Weaviate Cloud](https://console.weaviate.cloud) account (sign up if you don't have one yet)\n",
    "1. Create a Weaviate Cloud [Sandbox](https://weaviate.io/developers/wcs/manage-clusters/create#sandbox-clusters) instance\n",
    "1. Go to the 'Embedding' tab (on the left column) and enable `Weaviate Embeddings`\n",
    "1. Take note of the `REST Endpoint` and a `Admin` `API Key`. \n",
    "1. Update `WEAVIATE_CLOUD_URL` with the `REST Endpoint` and `WEAVIATE_API_KEY` with the `Admin` `API Key`.\n",
    "    - (Option 1): **If using Google Colab**\n",
    "        - Set the values in the \"Secrets\" tab in the left column.\n",
    "        \n",
    "        <img src=\"../img/colab_secrets.png\" alt=\"Update the .env file\" width=\"400\"/>\n",
    "    - (Option 2): **Using an environment with a copy of the repository**\n",
    "        - Update the values the `.env` file in the root directory of this repository.\n",
    "        - Make sure to restart the Jupyter notebook after updating & saving the `.env` file.\n",
    "        "
   ]
  },
  {
   "cell_type": "markdown",
   "metadata": {},
   "source": [
    "Load our secrets (Weaviate URL & API key)"
   ]
  },
  {
   "cell_type": "code",
   "execution_count": 1,
   "metadata": {},
   "outputs": [],
   "source": [
    "def is_colab():\n",
    "    \"\"\"Check if the current notebook is running in Google Colab.\"\"\"\n",
    "    try:\n",
    "        import google.colab\n",
    "        return True\n",
    "    except ImportError:\n",
    "        return False\n",
    "\n",
    "\n",
    "if is_colab():\n",
    "    from google.colab import userdata\n",
    "    weaviate_url = userdata.get('WEAVIATE_CLOUD_URL')\n",
    "    weaviate_api_key = userdata.get('WEAVIATE_CLOUD_API_KEY')\n",
    "    print(\"Running in Colab, secrets retrieved. URL:\", weaviate_url)\n",
    "\n",
    "else:\n",
    "    import os\n",
    "    import dotenv\n",
    "\n",
    "    dotenv.load_dotenv()\n",
    "\n",
    "    # Remember to Update the .env file & RESTART the kernel (if running a local environment)\n",
    "    weaviate_url = os.getenv(\"WEAVIATE_CLOUD_URL\")\n",
    "    weaviate_api_key = os.getenv(\"WEAVIATE_CLOUD_API_KEY\")"
   ]
  },
  {
   "cell_type": "code",
   "execution_count": 2,
   "metadata": {},
   "outputs": [],
   "source": [
    "# If in Colab, install required packages like so:\n",
    "# !pip install  -Uqq weaviate-client[agents] datasets\n",
    "\n",
    "# Otherwise, run the following command in your terminal:\n",
    "# \"pip install -r requirements.txt\""
   ]
  },
  {
   "cell_type": "markdown",
   "metadata": {},
   "source": [
    "## Introduction"
   ]
  },
  {
   "cell_type": "markdown",
   "metadata": {},
   "source": [
    "### Agenda\n",
    "\n",
    "Let's talk about:\n",
    "- What the Transformation Agent is\n",
    "- What you can do with the Transformation Agent\n",
    "- Some tips & tricks\n",
    "- How to get started"
   ]
  },
  {
   "cell_type": "markdown",
   "metadata": {},
   "source": [
    "### About the Transformation Agent\n",
    "\n",
    "The *Weaviate Transformation Agent* is \n",
    "\n",
    "- A cloud-based service \n",
    "- for transforming your data in a Weaviate instance\n",
    "- available for Weaviate Cloud users"
   ]
  },
  {
   "cell_type": "markdown",
   "metadata": {},
   "source": [
    "**And** it is: in technical preview (do **not** use in production)\n",
    "\n",
    "<center><img src=\"../img/agents_tech_preview.png\" width=\"60%\"></center>\n",
    "\n",
    "> ⚠️ The Weaviate Transformation Agent modifies data objects in Weaviate. **While the Agent is in technical preview, do not use it in a production environment.** \n",
    "> \n",
    "> The Agent may not work as expected, and the data in your Weaviate instance may be affected in unexpected ways."
   ]
  },
  {
   "cell_type": "markdown",
   "metadata": {},
   "source": [
    "**What the Transformation Agent is**\n",
    "\n",
    "<center><img src=\"../img/ta_obj.png\" width=\"60%\"></center>"
   ]
  },
  {
   "cell_type": "markdown",
   "metadata": {},
   "source": [
    "The `TransformationAgent` can modify objects in a Weaviate collection to add new properties or update existing properties."
   ]
  },
  {
   "cell_type": "markdown",
   "metadata": {},
   "source": [
    "**What you can do with the Transformation Agent**\n",
    "\n",
    "<center><img src=\"../img/ta_overview.png\" width=\"60%\"></center>"
   ]
  },
  {
   "cell_type": "markdown",
   "metadata": {},
   "source": [
    "Provide instructions to the `TransformationAgent` using natural language, and other required parameters. "
   ]
  },
  {
   "cell_type": "markdown",
   "metadata": {},
   "source": [
    "## Preparation"
   ]
  },
  {
   "cell_type": "markdown",
   "metadata": {},
   "source": [
    "Here, we are going to use the [**Weaviate/ArxivPapers**](https://huggingface.co/datasets/weaviate/agents/viewer/query-agent-ecommerce) dataset. \n",
    "\n",
    "It includes titles and abstracts of a few research papers.\n",
    "\n",
    "First, we load the dataset & add it to Weaviate."
   ]
  },
  {
   "cell_type": "markdown",
   "metadata": {},
   "source": [
    "### Load dataset"
   ]
  },
  {
   "cell_type": "code",
   "execution_count": 3,
   "metadata": {},
   "outputs": [],
   "source": [
    "from datasets import load_dataset\n",
    "\n",
    "papers_dataset = load_dataset(\"weaviate/agents\", \"transformation-agent-papers\", split=\"train\")"
   ]
  },
  {
   "cell_type": "code",
   "execution_count": 4,
   "metadata": {},
   "outputs": [
    {
     "name": "stdout",
     "output_type": "stream",
     "text": [
      "(2000, 2)\n",
      "dict_keys(['abstract', 'title'])\n"
     ]
    }
   ],
   "source": [
    "print(papers_dataset.shape)\n",
    "print(papers_dataset[0][\"properties\"].keys())"
   ]
  },
  {
   "cell_type": "code",
   "execution_count": 5,
   "metadata": {},
   "outputs": [
    {
     "name": "stdout",
     "output_type": "stream",
     "text": [
      "abstract:   Astronomy is increasingly encountering two fundamental truths: (1) The field\n",
      "is faced with the tas...\n",
      "title: Discussion on \"Techniques for Massive-Data Machine Learning in\n",
      "  Astronomy\" by A. Gray\n"
     ]
    }
   ],
   "source": [
    "for k, v in papers_dataset[0][\"properties\"].items():\n",
    "    if len(v) > 100:\n",
    "        v = v[:100] + \"...\"\n",
    "    print(f\"{k}: {v}\")"
   ]
  },
  {
   "cell_type": "markdown",
   "metadata": {},
   "source": [
    "Iterate through the data"
   ]
  },
  {
   "cell_type": "code",
   "execution_count": 6,
   "metadata": {},
   "outputs": [
    {
     "name": "stdout",
     "output_type": "stream",
     "text": [
      "{'abstract': \"  Astronomy is increasingly encountering two fundamental truths: (1) The field\\nis faced with the task of extracting useful information from extremely large,\\ncomplex, and high dimensional datasets; (2) The techniques of astroinformatics\\nand astrostatistics are the only way to make this tractable, and bring the\\nrequired level of sophistication to the analysis. Thus, an approach which\\nprovides these tools in a way that scales to these datasets is not just\\ndesirable, it is vital. The expertise required spans not just astronomy, but\\nalso computer science, statistics, and informatics. As a computer scientist and\\nexpert in machine learning, Alex's contribution of expertise and a large number\\nof fast algorithms designed to scale to large datasets, is extremely welcome.\\nWe focus in this discussion on the questions raised by the practical\\napplication of these algorithms to real astronomical datasets. That is, what is\\nneeded to maximally leverage their potential to improve the science return?\\nThis is not a trivial task. While computing and statistical expertise are\\nrequired, so is astronomical expertise. Precedent has shown that, to-date, the\\ncollaborations most productive in producing astronomical science results (e.g,\\nthe Sloan Digital Sky Survey), have either involved astronomers expert in\\ncomputer science and/or statistics, or astronomers involved in close, long-term\\ncollaborations with experts in those fields. This does not mean that the\\nastronomers are giving the most important input, but simply that their input is\\ncrucial in guiding the effort in the most fruitful directions, and coping with\\nthe issues raised by real data. Thus, the tools must be useable and\\nunderstandable by those whose primary expertise is not computing or statistics,\\neven though they may have quite extensive knowledge of those fields.\\n\", 'title': 'Discussion on \"Techniques for Massive-Data Machine Learning in\\n  Astronomy\" by A. Gray'}\n",
      "{'abstract': '  In this paper, we introduce elements of probabilistic model that is suitable\\nfor modeling of learning algorithms in biologically plausible artificial neural\\nnetworks framework. Model is based on two of the main concepts in quantum\\nphysics - a density matrix and the Born rule. As an example, we will show that\\nproposed probabilistic interpretation is suitable for modeling of on-line\\nlearning algorithms for PSA, which are preferably realized by a parallel\\nhardware based on very simple computational units. Proposed concept (model) can\\nbe used in the context of improving algorithm convergence speed, learning\\nfactor choice, or input signal scale robustness. We are going to see how the\\nBorn rule and the Hebbian learning rule are connected\\n', 'title': 'Probabilistic Approach to Neural Networks Computation Based on Quantum\\n  Probability Model Probabilistic Principal Subspace Analysis Example'}\n"
     ]
    }
   ],
   "source": [
    "columns = papers_dataset[0][\"properties\"].keys()\n",
    "\n",
    "for i, item in enumerate(papers_dataset):\n",
    "    if i < 2:\n",
    "        properties = {\n",
    "            col: item[\"properties\"][col] for col in columns\n",
    "        }\n",
    "        print(properties)"
   ]
  },
  {
   "cell_type": "markdown",
   "metadata": {},
   "source": [
    "### Ingest data into Weaviate"
   ]
  },
  {
   "cell_type": "markdown",
   "metadata": {},
   "source": [
    "#### Connect to Weaviate"
   ]
  },
  {
   "cell_type": "code",
   "execution_count": 7,
   "metadata": {},
   "outputs": [
    {
     "data": {
      "text/plain": [
       "'https://1ree7zierqqrwwnif6b6ug.c0.europe-west3.gcp.weaviate.cloud'"
      ]
     },
     "execution_count": 7,
     "metadata": {},
     "output_type": "execute_result"
    }
   ],
   "source": [
    "weaviate_url"
   ]
  },
  {
   "cell_type": "code",
   "execution_count": 8,
   "metadata": {},
   "outputs": [
    {
     "name": "stderr",
     "output_type": "stream",
     "text": [
      "/Users/jphwang/code/demo-code/weaviate-agents/transformation/.venv/lib/python3.12/site-packages/weaviate/warnings.py:340: UserWarning: Con006: You're using the sync client in an async context. This usage is discouraged to avoid blocking your async event loop with sync I/O calls.\n",
      "            We encourage you to update your code to use the async client instead when running inside async def functions!\n",
      "  warnings.warn(\n"
     ]
    }
   ],
   "source": [
    "import weaviate\n",
    "from weaviate.classes.init import Auth\n",
    "\n",
    "client = weaviate.connect_to_weaviate_cloud(\n",
    "    cluster_url=weaviate_url, auth_credentials=Auth.api_key(weaviate_api_key)\n",
    ")\n",
    "\n",
    "assert client.is_ready()"
   ]
  },
  {
   "cell_type": "markdown",
   "metadata": {},
   "source": [
    "#### Set up a collection"
   ]
  },
  {
   "cell_type": "markdown",
   "metadata": {},
   "source": [
    "**Important:** Make sure to enable 'Embeddings' in the Weaviate Cloud console. \n",
    "\n",
    "[See above](#prerequisites)"
   ]
  },
  {
   "cell_type": "code",
   "execution_count": null,
   "metadata": {},
   "outputs": [],
   "source": [
    "# Hint: https://weaviate.io/developers/weaviate/manage-data/collections#define-named-vectors\n",
    "\n",
    "from weaviate.classes.config import Configure, Property, DataType\n",
    "\n",
    "collection_name = \"ArxivPapersDemo\"\n",
    "\n",
    "# Can delete the collection if you would like to (re)start fresh\n",
    "client.collections.delete(collection_name)\n",
    "\n",
    "if client.collections.exists(collection_name):\n",
    "    # For re-running this tutorial, do nothing\n",
    "    pass\n",
    "else:\n",
    "    client.collections.create(\n",
    "        collection_name,\n",
    "        description=\"A dataset that lists research paper titles and abstracts\",\n",
    "        properties=[\n",
    "            Property(name=\"title\", data_type=DataType.TEXT),\n",
    "            Property(name=\"abstract\", data_type=DataType.TEXT),\n",
    "        ],\n",
    "        vectorizer_config=[\n",
    "            Configure.NamedVectors.text2vec_weaviate(\n",
    "                name=\"default\",\n",
    "                source_properties=[\"title\", \"abstract\"],\n",
    "            )\n",
    "        ]\n",
    "    )"
   ]
  },
  {
   "cell_type": "markdown",
   "metadata": {},
   "source": [
    "#### Add data to Weaviate"
   ]
  },
  {
   "cell_type": "markdown",
   "metadata": {},
   "source": [
    "We loop through the data and add it to Weaviate. \n",
    "\n",
    "For the demo/workshop, we add only a few rows for speed and simplicity."
   ]
  },
  {
   "cell_type": "code",
   "execution_count": null,
   "metadata": {},
   "outputs": [],
   "source": [
    "papers_collection = client.collections.get(collection_name)\n",
    "columns = papers_dataset[0][\"properties\"].keys()\n",
    "\n",
    "\n",
    "# Hint: https://weaviate.io/developers/weaviate/manage-data/import#basic-import\n",
    "with papers_collection.batch.fixed_size(100) as batch:\n",
    "    for i, item in enumerate(papers_dataset):\n",
    "        if i < 50:\n",
    "            properties = {col: item[\"properties\"][col] for col in columns}\n",
    "            batch.add_object(properties=properties)\n",
    "\n",
    "\n",
    "if papers_collection.batch.failed_objects:\n",
    "    for fo in papers_collection.batch.failed_objects[:3]:\n",
    "        print(fo.message)\n",
    "        print(fo.object_)"
   ]
  },
  {
   "cell_type": "code",
   "execution_count": 11,
   "metadata": {},
   "outputs": [
    {
     "data": {
      "text/plain": [
       "50"
      ]
     },
     "execution_count": 11,
     "metadata": {},
     "output_type": "execute_result"
    }
   ],
   "source": [
    "len(papers_collection)"
   ]
  },
  {
   "cell_type": "markdown",
   "metadata": {},
   "source": [
    "#### Inspect the collection \n",
    "\n"
   ]
  },
  {
   "cell_type": "code",
   "execution_count": null,
   "metadata": {},
   "outputs": [
    {
     "name": "stdout",
     "output_type": "stream",
     "text": [
      "abstract:   We consider finite horizon Markov decision proce\n",
      "title: Mean-Variance Optimization in Markov Decision Proc\n",
      "\n",
      "[-0.0181732177734375, -0.03717041015625, 0.0040740966796875, 0.006504058837890625, -0.0855712890625, 0.049957275390625, 0.00616455078125, -0.003971099853515625, -0.00991058349609375, -0.0213775634765625]\n",
      "abstract:   We propose a new approach to value function appr\n",
      "title: Predictive State Temporal Difference Learning\n",
      "\n",
      "[-0.0650634765625, -0.040313720703125, 0.0125732421875, 0.0020351409912109375, -0.06591796875, 0.037384033203125, 0.06390380859375, 0.056365966796875, 0.0447998046875, -0.01021575927734375]\n",
      "abstract:   We study the problem of dynamic spectrum sensing\n",
      "title: Algorithms for Dynamic Spectrum Access with Learni\n",
      "\n",
      "[-0.0162200927734375, -0.0203399658203125, 0.031494140625, 0.0002772808074951172, -0.05853271484375, -0.030029296875, 0.05706787109375, -0.07281494140625, 0.0119476318359375, 0.0028362274169921875]\n"
     ]
    }
   ],
   "source": [
    "# Hint: https://weaviate.io/developers/weaviate/search/basics#limit-returned-objects\n",
    "response = papers_collection.query.fetch_objects(\n",
    "    limit=3,\n",
    "    include_vector=True\n",
    ")\n",
    "\n",
    "for o in response.objects:\n",
    "    for k, v in o.properties.items():\n",
    "        print(f\"{k}: {v[:50]}\")\n",
    "    print()\n",
    "    print(o.vector[\"default\"][:10])  # No need to print the entire vector"
   ]
  },
  {
   "cell_type": "markdown",
   "metadata": {},
   "source": [
    "**Alternative: Use the `Explorer` cloud tool**\n",
    "\n",
    "On Weaviate Cloud Console, click on the `Explorer` tab on the left column.\n",
    "\n",
    "When you click on each object, you should see 2 properties:\n",
    "- `title`\n",
    "- `abstract`\n",
    "\n",
    "As well as its `vectors`"
   ]
  },
  {
   "cell_type": "markdown",
   "metadata": {},
   "source": [
    "## Using the original dataset:\n"
   ]
  },
  {
   "cell_type": "markdown",
   "metadata": {},
   "source": [
    "### Can you find what you need?\n",
    "\n",
    "Can you find papers about a specific topic (e.g. machine learning)?"
   ]
  },
  {
   "cell_type": "code",
   "execution_count": null,
   "metadata": {},
   "outputs": [
    {
     "name": "stdout",
     "output_type": "stream",
     "text": [
      "Probabilistic Approach to Neural Networks Computation Based on Quantum\n",
      "  Probability Model Probabilistic Principal Subspace Analysis Example\n",
      "Efficient Bayes-Adaptive Reinforcement Learning using Sample-Based\n",
      "  Search\n",
      "Discussion on \"Techniques for Massive-Data Machine Learning in\n",
      "  Astronomy\" by A. Gray\n",
      "Transfer Learning Using Feature Selection\n",
      "Bayesian Active Learning for Classification and Preference Learning\n"
     ]
    }
   ],
   "source": [
    "# https://weaviate.io/developers/weaviate/search/similarity#search-with-text\n",
    "response = papers_collection.query.near_text(\n",
    "    # STUDENT TODO: Can you think of a semantic search query to find papers about a topic?\n",
    "    # (Note: It may be very difficult / impossible!)\n",
    "    query=\"machine learning\",\n",
    "    limit=5\n",
    ")\n",
    "\n",
    "for o in response.objects:\n",
    "    print(o.properties[\"title\"])"
   ]
  },
  {
   "cell_type": "markdown",
   "metadata": {},
   "source": [
    "Can you filter only for papers with a particular main topic? (e.g. classification)"
   ]
  },
  {
   "cell_type": "code",
   "execution_count": null,
   "metadata": {},
   "outputs": [],
   "source": [
    "# Hint: https://weaviate.io/developers/weaviate/search/filters\n",
    "from weaviate.classes.query import Filter\n",
    "\n",
    "response = papers_collection.query.fetch_objects(\n",
    "    limit=3,\n",
    "    ## STUDENT TODO: Can you think of a filter that will only return papers about classification?\n",
    "    # (Note: It may be very difficult / impossible!)\n",
    "    filters=(\n",
    "        Filter.by_property(\"abstract\").like(\"*classification*\") |\n",
    "        Filter.by_property(\"title\").like(\"*classification*\")\n",
    "    )\n",
    ")\n",
    "\n",
    "for o in response.objects:\n",
    "    print(o.properties[\"title\"])"
   ]
  },
  {
   "cell_type": "markdown",
   "metadata": {},
   "source": [
    "### Does your data meet your needs?\n",
    "\n",
    "What if: \n",
    "- The data is in the wrong language?\n",
    "- Each abstract is too long?\n",
    "\n",
    "Would you want to perform a RAG query each time?\n",
    "\n",
    "\n"
   ]
  },
  {
   "cell_type": "markdown",
   "metadata": {},
   "source": [
    "## Try the Weaviate Transformation Agent "
   ]
  },
  {
   "cell_type": "markdown",
   "metadata": {},
   "source": [
    "### Task 1: Create a `topics` property"
   ]
  },
  {
   "cell_type": "markdown",
   "metadata": {},
   "source": [
    "Define the operation(s) that you want to perform on the data."
   ]
  },
  {
   "cell_type": "code",
   "execution_count": 15,
   "metadata": {},
   "outputs": [],
   "source": [
    "prompt_create_topics = \"\"\"\n",
    "Create a list of topic tags based on the abstract.\n",
    "Topics should be distinct from each other. Provide a maximum of 5 topics.\n",
    "Group similar topics under one topic tag.\n",
    "\"\"\""
   ]
  },
  {
   "cell_type": "code",
   "execution_count": null,
   "metadata": {},
   "outputs": [],
   "source": [
    "# Hint: https://weaviate.io/developers/agents/transformation/usage#define-transformation-operations\n",
    "from weaviate.agents.classes import Operations\n",
    "\n",
    "add_topics = Operations.append_property(\n",
    "    property_name=\"topics\",             # Property to create\n",
    "    data_type=DataType.TEXT_ARRAY,      # Data type of the property\n",
    "    view_properties=[\"abstract\"],       # Existing properties to view for the operation\n",
    "    instruction=prompt_create_topics,   # Instruction to the Transformation Agent\n",
    ")"
   ]
  },
  {
   "cell_type": "markdown",
   "metadata": {},
   "source": [
    "Instantiate the agent & start the operations"
   ]
  },
  {
   "cell_type": "code",
   "execution_count": null,
   "metadata": {},
   "outputs": [],
   "source": [
    "# Hint: https://weaviate.io/developers/agents/transformation/usage#start-the-transformation-operations\n",
    "from weaviate.agents.transformation import TransformationAgent\n",
    "\n",
    "ta = TransformationAgent(\n",
    "    client=client,              # Weaviate client object\n",
    "    collection=collection_name, # Collection name\n",
    "    operations=[add_topics]     # List of transform operations\n",
    ")\n",
    "\n",
    "ta_response = ta.update_all()"
   ]
  },
  {
   "cell_type": "markdown",
   "metadata": {},
   "source": [
    "What does the response look like?"
   ]
  },
  {
   "cell_type": "code",
   "execution_count": 18,
   "metadata": {},
   "outputs": [
    {
     "data": {
      "text/plain": [
       "TransformationResponse(workflow_id='TransformationWorkflow-a40cb09222d53c5448420d65183456f4')"
      ]
     },
     "execution_count": 18,
     "metadata": {},
     "output_type": "execute_result"
    }
   ],
   "source": [
    "ta_response"
   ]
  },
  {
   "cell_type": "markdown",
   "metadata": {},
   "source": [
    "The response contains the unique `workflow_id` of the operations. \n",
    "\n",
    "This does not mean that the operations are finished!\n",
    "\n",
    "**The Transformation Agent is asynchronous**. You can check the status of the operation using the `workflow_id`."
   ]
  },
  {
   "cell_type": "code",
   "execution_count": 19,
   "metadata": {},
   "outputs": [
    {
     "data": {
      "text/plain": [
       "{'workflow_id': 'TransformationWorkflow-a40cb09222d53c5448420d65183456f4',\n",
       " 'status': {'batch_count': 0,\n",
       "  'end_time': None,\n",
       "  'start_time': '2025-03-25 15:47:49',\n",
       "  'state': 'running',\n",
       "  'total_duration': None,\n",
       "  'total_items': 0}}"
      ]
     },
     "execution_count": 19,
     "metadata": {},
     "output_type": "execute_result"
    }
   ],
   "source": [
    "ta.get_status(workflow_id=ta_response.workflow_id)"
   ]
  },
  {
   "cell_type": "markdown",
   "metadata": {},
   "source": [
    "We can periodically check if the operation is done"
   ]
  },
  {
   "cell_type": "code",
   "execution_count": 20,
   "metadata": {},
   "outputs": [],
   "source": [
    "def get_ta_status(agent_instance, workflow_id):\n",
    "    # Rough code to check the status of the TA workflow\n",
    "    import time\n",
    "    from datetime import datetime\n",
    "\n",
    "    while True:\n",
    "        status = agent_instance.get_status(workflow_id=workflow_id)\n",
    "\n",
    "        if status[\"status\"][\"state\"] != \"running\":\n",
    "            break\n",
    "\n",
    "        # Calculate elapsed time from start_time\n",
    "        start = datetime.strptime(status[\"status\"][\"start_time\"], \"%Y-%m-%d %H:%M:%S\")\n",
    "        elapsed = (datetime.now() - start).total_seconds()\n",
    "\n",
    "        print(f\"Waiting... Elapsed time: {elapsed:.2f} seconds\")\n",
    "        time.sleep(10)\n",
    "\n",
    "    # Calculate total time\n",
    "    if status[\"status\"][\"total_duration\"]:\n",
    "        total = status[\"status\"][\"total_duration\"]\n",
    "    else:\n",
    "        start = datetime.strptime(status[\"status\"][\"start_time\"], \"%Y-%m-%d %H:%M:%S\")\n",
    "        end = datetime.now() if not status[\"status\"][\"end_time\"] else datetime.strptime(status[\"status\"][\"end_time\"], \"%Y-%m-%d %H:%M:%S\")\n",
    "        total = (end - start).total_seconds()\n",
    "\n",
    "    print(f\"Total time: {total:.2f} seconds\")\n",
    "    print(status)"
   ]
  },
  {
   "cell_type": "code",
   "execution_count": 21,
   "metadata": {},
   "outputs": [
    {
     "name": "stdout",
     "output_type": "stream",
     "text": [
      "Waiting... Elapsed time: 2.04 seconds\n",
      "Waiting... Elapsed time: 12.60 seconds\n",
      "Waiting... Elapsed time: 23.09 seconds\n",
      "Total time: 28.92 seconds\n",
      "{'workflow_id': 'TransformationWorkflow-a40cb09222d53c5448420d65183456f4', 'status': {'batch_count': 1, 'end_time': '2025-03-25 15:48:18', 'start_time': '2025-03-25 15:47:49', 'state': 'completed', 'total_duration': 28.917139, 'total_items': 50}}\n"
     ]
    }
   ],
   "source": [
    "get_ta_status(agent_instance=ta, workflow_id=ta_response.workflow_id)"
   ]
  },
  {
   "cell_type": "markdown",
   "metadata": {},
   "source": [
    "**How the Transformation Agent works**\n",
    "\n",
    "<center><img src=\"../img/ta_schematic.png\" width=\"60%\"></center>\n",
    "\n",
    "The `TransformationAgent` connects to your Weaviate Cloud instance, and uses LLMs to follow these instructions."
   ]
  },
  {
   "cell_type": "markdown",
   "metadata": {},
   "source": [
    "When the operation is complete - let's see what we can do with the data:"
   ]
  },
  {
   "cell_type": "code",
   "execution_count": 22,
   "metadata": {},
   "outputs": [
    {
     "name": "stdout",
     "output_type": "stream",
     "text": [
      "TopOccurrence(count=36, value='Machine Learning')\n",
      "TopOccurrence(count=8, value='Computer Science')\n",
      "TopOccurrence(count=7, value='Data Analysis')\n",
      "TopOccurrence(count=7, value='Statistics')\n",
      "TopOccurrence(count=6, value='Optimization')\n",
      "TopOccurrence(count=5, value='Algorithms')\n",
      "TopOccurrence(count=5, value='Artificial Intelligence')\n",
      "TopOccurrence(count=5, value='Mathematics')\n",
      "TopOccurrence(count=4, value='Classification')\n",
      "TopOccurrence(count=4, value='Reinforcement Learning')\n"
     ]
    }
   ],
   "source": [
    "from weaviate.classes.query import Metrics\n",
    "\n",
    "response = papers_collection.aggregate.over_all(\n",
    "    return_metrics=Metrics(\"topics\").text(\n",
    "        top_occurrences_count=True,\n",
    "        top_occurrences_value=True,\n",
    "        min_occurrences=10\n",
    "    )\n",
    ")\n",
    "\n",
    "for t in response.properties[\"topics\"].top_occurrences:\n",
    "    print(t)"
   ]
  },
  {
   "cell_type": "markdown",
   "metadata": {},
   "source": [
    "Try to filter for papers with particular topics:"
   ]
  },
  {
   "cell_type": "code",
   "execution_count": null,
   "metadata": {},
   "outputs": [
    {
     "name": "stdout",
     "output_type": "stream",
     "text": [
      "Bayesian and L1 Approaches to Sparse Unsupervised Learning\n",
      "Adapting to Non-stationarity with Growing Expert Ensembles\n",
      "Probabilistic Approach to Neural Networks Computation Based on Quantum\n",
      "  Probability Model Probabilistic Principal Subspace Analysis Example\n"
     ]
    }
   ],
   "source": [
    "# Hint: https://weaviate.io/developers/weaviate/search/filters\n",
    "from weaviate.classes.query import Filter\n",
    "\n",
    "response = papers_collection.query.fetch_objects(\n",
    "    limit=3,\n",
    "    filters=Filter.by_property(\"topics\").like(\"*machine*\")\n",
    ")\n",
    "\n",
    "for o in response.objects:\n",
    "    print(o.properties[\"title\"])"
   ]
  },
  {
   "cell_type": "markdown",
   "metadata": {},
   "source": [
    "Inspect an object again:"
   ]
  },
  {
   "cell_type": "code",
   "execution_count": 24,
   "metadata": {},
   "outputs": [
    {
     "name": "stdout",
     "output_type": "stream",
     "text": [
      "abstract:   We consider finite horizon Markov decision proce\n",
      "title: Mean-Variance Optimization in Markov Decision Proc\n",
      "topics: ['Markov Decision Processes', 'Performance Measures', 'Pseudopolynomial Algorithms', 'Optimization', 'Computational Complexity']\n",
      "\n",
      "abstract:   We propose a new approach to value function appr\n",
      "topics: ['Reinforcement Learning', 'Subspace Identification', 'Machine Learning', 'Value Function Approximation', 'Predictive State Temporal Difference']\n",
      "title: Predictive State Temporal Difference Learning\n",
      "\n",
      "abstract:   We study the problem of dynamic spectrum sensing\n",
      "title: Algorithms for Dynamic Spectrum Access with Learni\n",
      "topics: ['Cognitive Radio', 'Markov Decision Process', 'Wireless Communication', 'Machine Learning', 'Statistics']\n",
      "\n"
     ]
    }
   ],
   "source": [
    "response = papers_collection.query.fetch_objects(\n",
    "    limit=3,\n",
    ")\n",
    "\n",
    "for o in response.objects:\n",
    "    for k, v in o.properties.items():\n",
    "        print(f\"{k}: {v[:50]}\")\n",
    "    print()"
   ]
  },
  {
   "cell_type": "markdown",
   "metadata": {},
   "source": [
    "### Task 2: Perform multiple operations\n",
    "\n",
    "- Add a `paper_type` property (e.g. `survey`, `method`, `resource`)\n",
    "- Add a boolean property `relevant_to_rag` (True/False)"
   ]
  },
  {
   "cell_type": "code",
   "execution_count": null,
   "metadata": {},
   "outputs": [],
   "source": [
    "prompt_paper_type = \"\"\"\n",
    "Determine the primary type of paper based on the abstract. Assign exactly one of the following categories that best represents the paper's main contribution:\n",
    "\n",
    "'survey':   Comprehensive review or meta-analysis of existing work in a field\n",
    "'model':    Introduction of a new predictive model, statistical method, or algorithmic approach\n",
    "'system':   Description of a new data pipeline, workflow, framework, or system architecture\n",
    "'analysis': Focused on insights derived from analyzing data\n",
    "'resource': Introduction of a new dataset, benchmark, or tool for data science\n",
    "'other':    None of the above\n",
    "\"\"\"\n",
    "\n",
    "add_paper_type = Operations.append_property(\n",
    "      ## STUDENT TODO: Can you complete defining the following operation code?\n",
    "      property_name=\"paper_type\",\n",
    "      data_type=DataType.TEXT,\n",
    "      view_properties=[\"abstract\"],\n",
    "      instruction=prompt_paper_type,\n",
    ")"
   ]
  },
  {
   "cell_type": "code",
   "execution_count": null,
   "metadata": {},
   "outputs": [],
   "source": [
    "prompt_about_classification = \"\"\"\n",
    "Based on the abstract, determine whether the paper is\n",
    "primarily about the machine field of classification.\n",
    "\n",
    "Do not include papers that are obliquely, or vaguely about classification.\n",
    "\"\"\"\n",
    "\n",
    "add_about_classification_bool = Operations.append_property(\n",
    "    ## STUDENT TODO: Can you complete defining the following operation code?\n",
    "    property_name=\"about_classification\",\n",
    "    data_type=DataType.BOOL,\n",
    "    view_properties=[\"abstract\"],\n",
    "    instruction=prompt_about_classification,\n",
    ")"
   ]
  },
  {
   "cell_type": "code",
   "execution_count": null,
   "metadata": {},
   "outputs": [],
   "source": [
    "prompt_add_french_title_suffix = \"\"\"\n",
    "Update the title to ensure that it contains the French translation of itself in parantheses, after the original title.\n",
    "\"\"\"\n",
    "\n",
    "update_title = Operations.update_property(\n",
    "    ## STUDENT TODO: Can you complete defining the following operation code?\n",
    "    property_name=\"title\",\n",
    "    view_properties=[\"title\"],\n",
    "    instruction=prompt_add_french_title_suffix,\n",
    ")"
   ]
  },
  {
   "cell_type": "code",
   "execution_count": null,
   "metadata": {},
   "outputs": [],
   "source": [
    "from weaviate.agents.transformation import TransformationAgent\n",
    "\n",
    "ta = TransformationAgent(\n",
    "    client=client,\n",
    "    ## STUDENT TODO: Can you complete defining the following agent definition\n",
    "    collection=collection_name,\n",
    "    operations=[\n",
    "        update_title,\n",
    "        add_paper_type,\n",
    "        add_about_classification_bool\n",
    "    ],\n",
    ")\n",
    "\n",
    "ta_response = ta.update_all()"
   ]
  },
  {
   "cell_type": "markdown",
   "metadata": {},
   "source": [
    "Note that this still returns one object, with one workflow ID, even though we are performing multiple operations."
   ]
  },
  {
   "cell_type": "code",
   "execution_count": null,
   "metadata": {},
   "outputs": [
    {
     "data": {
      "text/plain": [
       "{'workflow_id': 'TransformationWorkflow-b9ff4ff1e9ece12fb74d8c5edb113777',\n",
       " 'status': {'batch_count': 0,\n",
       "  'end_time': None,\n",
       "  'start_time': '2025-03-25 15:48:24',\n",
       "  'state': 'running',\n",
       "  'total_duration': None,\n",
       "  'total_items': 0}}"
      ]
     },
     "execution_count": 29,
     "metadata": {},
     "output_type": "execute_result"
    }
   ],
   "source": [
    "## STUDENT TODO: Do you remember how to fetch the status of the TA workflow?\n",
    "ta.get_status(workflow_id=ta_response.workflow_id)"
   ]
  },
  {
   "cell_type": "markdown",
   "metadata": {},
   "source": [
    "Let's monitor the operation as before:"
   ]
  },
  {
   "cell_type": "code",
   "execution_count": 30,
   "metadata": {},
   "outputs": [
    {
     "name": "stdout",
     "output_type": "stream",
     "text": [
      "Waiting... Elapsed time: 1.64 seconds\n",
      "Waiting... Elapsed time: 12.13 seconds\n",
      "Total time: 16.51 seconds\n",
      "{'workflow_id': 'TransformationWorkflow-b9ff4ff1e9ece12fb74d8c5edb113777', 'status': {'batch_count': 1, 'end_time': '2025-03-25 15:48:40', 'start_time': '2025-03-25 15:48:24', 'state': 'completed', 'total_duration': 16.509024, 'total_items': 50}}\n"
     ]
    }
   ],
   "source": [
    "get_ta_status(agent_instance=ta, workflow_id=ta_response.workflow_id)"
   ]
  },
  {
   "cell_type": "markdown",
   "metadata": {},
   "source": [
    "And again, inspect a few transformed objects:"
   ]
  },
  {
   "cell_type": "code",
   "execution_count": 31,
   "metadata": {},
   "outputs": [
    {
     "name": "stdout",
     "output_type": "stream",
     "text": [
      "abstract:   We consider finite horizon Markov decision proce...\n",
      "title: Mean-Variance Optimization in Markov Decision Proc...\n",
      "topics: ['Markov Decision Processes', 'Performance Measures', 'Pseudopolynomial Algorithms', 'Optimization', 'Computational Complexity']\n",
      "paper_type: analysis\n",
      "about_classification: False\n",
      "\n",
      "abstract:   We propose a new approach to value function appr...\n",
      "topics: ['Reinforcement Learning', 'Subspace Identification', 'Machine Learning', 'Value Function Approximation', 'Predictive State Temporal Difference']\n",
      "paper_type: model\n",
      "title: Predictive State Temporal Difference Learning (App...\n",
      "about_classification: False\n",
      "\n",
      "abstract:   We study the problem of dynamic spectrum sensing...\n",
      "title: Algorithms for Dynamic Spectrum Access with Learni...\n",
      "topics: ['Cognitive Radio', 'Markov Decision Process', 'Wireless Communication', 'Machine Learning', 'Statistics']\n",
      "paper_type: model\n",
      "about_classification: False\n",
      "\n"
     ]
    }
   ],
   "source": [
    "response = papers_collection.query.fetch_objects(\n",
    "    limit=3,\n",
    ")\n",
    "\n",
    "for o in response.objects:\n",
    "    for k, v in o.properties.items():\n",
    "        if type(v) == str:\n",
    "            if len(v) > 50:\n",
    "                v = v[:50] + \"...\"\n",
    "        print(f\"{k}: {v}\")\n",
    "    print()"
   ]
  },
  {
   "cell_type": "markdown",
   "metadata": {},
   "source": [
    "We see it did, in fact, perform all the specified transformation operations."
   ]
  },
  {
   "cell_type": "markdown",
   "metadata": {},
   "source": [
    "We can now use these improved properties to perform new queries. \n",
    "\n",
    "- e.g. what paper types do we have?"
   ]
  },
  {
   "cell_type": "code",
   "execution_count": null,
   "metadata": {},
   "outputs": [
    {
     "name": "stdout",
     "output_type": "stream",
     "text": [
      "TopOccurrence(count=32, value='model')\n",
      "TopOccurrence(count=16, value='analysis')\n",
      "TopOccurrence(count=1, value='other')\n"
     ]
    }
   ],
   "source": [
    "# https://weaviate.io/developers/weaviate/search/aggregate#aggregate-text-properties\n",
    "from weaviate.classes.query import Metrics\n",
    "\n",
    "response = papers_collection.aggregate.over_all(\n",
    "    return_metrics=Metrics(\"paper_type\").text(\n",
    "        top_occurrences_count=True,\n",
    "        top_occurrences_value=True,\n",
    "        min_occurrences=10\n",
    "    )\n",
    ")\n",
    "\n",
    "for t in response.properties[\"paper_type\"].top_occurrences:\n",
    "    print(t)"
   ]
  },
  {
   "cell_type": "markdown",
   "metadata": {},
   "source": [
    "How many objects are about classifications?"
   ]
  },
  {
   "cell_type": "code",
   "execution_count": null,
   "metadata": {},
   "outputs": [
    {
     "data": {
      "text/plain": [
       "11"
      ]
     },
     "execution_count": 33,
     "metadata": {},
     "output_type": "execute_result"
    }
   ],
   "source": [
    "# Hint: https://weaviate.io/developers/weaviate/search/aggregate#filter-results\n",
    "from weaviate.classes.query import Filter\n",
    "\n",
    "response = papers_collection.aggregate.over_all(\n",
    "    filters=Filter.by_property(\"about_classification\").equal(True),\n",
    ")\n",
    "\n",
    "response.total_count"
   ]
  },
  {
   "cell_type": "code",
   "execution_count": 34,
   "metadata": {},
   "outputs": [
    {
     "name": "stdout",
     "output_type": "stream",
     "text": [
      "Transfer Learning Using Feature Selection (Apprentissage transfert à l'aide de la sélection de caractéristiques)\n",
      "Using a Kernel Adatron for Object Classification with RCS Data (Utiliser un Adatron pour la classification d'objets avec des données RCS)\n",
      "Bayesian Active Learning for Classification and Preference Learning (Apprentissage Actif Bayésien pour la Classification et l'Apprentissage des Préférences)\n",
      "Fast Inference in Sparse Coding Algorithms with Applications to Object (Inférence rapide dans les algorithmes de codage parcime avec applications à la reconnaissance d'objets)\n",
      "An Explicit Nonlinear Mapping for Manifold Learning (Une Carte Non Linéaire Explicite pour l'Apprentissage de la Variété)\n",
      "Bayesian Active Distance Metric Learning\n",
      "Mutual information for the selection of relevant variables in spectrometric nonlinear modelling (Information mutuelle pour la sélection de variables pertinentes dans le modélisation non linéaire spectrométrique)\n",
      "Optimizing F-measure: A Tale of Two Approaches (Optimiser la mesure F : L'histoire de deux approches)\n",
      "A Stochastic Gradient Method with an Exponential Convergence Rate for Finite Training Sets (Une méthode de gradient stochastique avec un taux de convergence exponentiel pour les ensembles d entraînement finis)\n",
      "Distribution-Specific Agnostic Boosting\n"
     ]
    }
   ],
   "source": [
    "from weaviate.classes.query import Filter\n",
    "\n",
    "response = papers_collection.query.fetch_objects(\n",
    "    filters=Filter.by_property(\"about_classification\").equal(True),\n",
    "    limit=10\n",
    ")\n",
    "\n",
    "for o in response.objects:\n",
    "    print(o.properties[\"title\"])"
   ]
  },
  {
   "cell_type": "markdown",
   "metadata": {},
   "source": [
    "What about intersections of multiple properties?"
   ]
  },
  {
   "cell_type": "code",
   "execution_count": 35,
   "metadata": {},
   "outputs": [
    {
     "data": {
      "text/plain": [
       "7"
      ]
     },
     "execution_count": 35,
     "metadata": {},
     "output_type": "execute_result"
    }
   ],
   "source": [
    "from weaviate.classes.query import Filter\n",
    "\n",
    "response = papers_collection.aggregate.over_all(\n",
    "    filters=(\n",
    "        Filter.by_property(\"paper_type\").equal(\"model\") &\n",
    "        Filter.by_property(\"about_classification\").equal(True)\n",
    "    )\n",
    ")\n",
    "\n",
    "response.total_count"
   ]
  },
  {
   "cell_type": "markdown",
   "metadata": {},
   "source": [
    "Let's take a look at a few:"
   ]
  },
  {
   "cell_type": "code",
   "execution_count": 36,
   "metadata": {},
   "outputs": [
    {
     "name": "stdout",
     "output_type": "stream",
     "text": [
      "Using a Kernel Adatron for Object Classification with RCS Data (Utiliser un Adatron pour la classification d'objets avec des données RCS)\n",
      "Fast Inference in Sparse Coding Algorithms with Applications to Object (Inférence rapide dans les algorithmes de codage parcime avec applications à la reconnaissance d'objets)\n",
      "A Stochastic Gradient Method with an Exponential Convergence Rate for Finite Training Sets (Une méthode de gradient stochastique avec un taux de convergence exponentiel pour les ensembles d entraînement finis)\n",
      "Distribution-Specific Agnostic Boosting\n",
      "Bayesian Active Distance Metric Learning\n",
      "An Explicit Nonlinear Mapping for Manifold Learning (Une Carte Non Linéaire Explicite pour l'Apprentissage de la Variété)\n",
      "Bayesian Active Learning for Classification and Preference Learning (Apprentissage Actif Bayésien pour la Classification et l'Apprentissage des Préférences)\n"
     ]
    }
   ],
   "source": [
    "from weaviate.classes.query import Filter\n",
    "\n",
    "response = papers_collection.query.near_text(\n",
    "    query=\"vector\",\n",
    "    filters=(\n",
    "        Filter.by_property(\"paper_type\").equal(\"model\") &\n",
    "        Filter.by_property(\"about_classification\").equal(True)\n",
    "    )\n",
    ")\n",
    "\n",
    "for o in response.objects:\n",
    "    print(o.properties[\"title\"])"
   ]
  },
  {
   "cell_type": "markdown",
   "metadata": {},
   "source": [
    "## Bonus: Use the Query Agent"
   ]
  },
  {
   "cell_type": "markdown",
   "metadata": {},
   "source": [
    "The Weaviate [Query Agent](https://weaviate.io/developers/agents/query) is another agentic service on Weaviate Cloud. The Query Agent allows you to query your Weaviate instance using natural language."
   ]
  },
  {
   "cell_type": "code",
   "execution_count": null,
   "metadata": {},
   "outputs": [],
   "source": [
    "# Hint: https://weaviate.io/developers/agents/query/usage#1-instantiate-the-query-agent\n",
    "from weaviate.agents.query import QueryAgent\n",
    "\n",
    "qa = QueryAgent(\n",
    "    client=client, collections=[collection_name]\n",
    ")"
   ]
  },
  {
   "cell_type": "markdown",
   "metadata": {},
   "source": [
    "Now, we can just tell the Query Agent to do the hard & boring stuff (syntax lookup!) for us."
   ]
  },
  {
   "cell_type": "code",
   "execution_count": null,
   "metadata": {},
   "outputs": [
    {
     "data": {
      "text/html": [
       "<pre style=\"white-space:pre;overflow-x:auto;line-height:normal;font-family:Menlo,'DejaVu Sans Mono',consolas,'Courier New',monospace\">╭─────────────────────────────────────────────── 🔍 Original Query ───────────────────────────────────────────────╮\n",
       "│                                                                                                                 │\n",
       "│                                                                                                                 │\n",
       "│     Find papers that are about classification. Tell me about some of them.                                      │\n",
       "│     Hint: There is a property called 'about_classification' that you can use.                                   │\n",
       "│                                                                                                                 │\n",
       "│                                                                                                                 │\n",
       "╰─────────────────────────────────────────────────────────────────────────────────────────────────────────────────╯\n",
       "</pre>\n"
      ],
      "text/plain": [
       "╭─────────────────────────────────────────────── 🔍 Original Query ───────────────────────────────────────────────╮\n",
       "│                                                                                                                 │\n",
       "│                                                                                                                 │\n",
       "│     Find papers that are about classification. Tell me about some of them.                                      │\n",
       "│     Hint: There is a property called 'about_classification' that you can use.                                   │\n",
       "│                                                                                                                 │\n",
       "│                                                                                                                 │\n",
       "╰─────────────────────────────────────────────────────────────────────────────────────────────────────────────────╯\n"
      ]
     },
     "metadata": {},
     "output_type": "display_data"
    },
    {
     "data": {
      "text/html": [
       "<pre style=\"white-space:pre;overflow-x:auto;line-height:normal;font-family:Menlo,'DejaVu Sans Mono',consolas,'Courier New',monospace\"><span style=\"color: #008080; text-decoration-color: #008080\">╭────────────────────────────────────────────────</span> 📝 Final Answer <span style=\"color: #008080; text-decoration-color: #008080\">────────────────────────────────────────────────╮</span>\n",
       "<span style=\"color: #008080; text-decoration-color: #008080\">│                                                                                                                 │</span>\n",
       "<span style=\"color: #008080; text-decoration-color: #008080\">│ Several papers focus on classification across various domains:                                                  │</span>\n",
       "<span style=\"color: #008080; text-decoration-color: #008080\">│                                                                                                                 │</span>\n",
       "<span style=\"color: #008080; text-decoration-color: #008080\">│ 1. **Using Genetic Algorithms for Texts Classification Problems:** This paper discusses the automation of       │</span>\n",
       "<span style=\"color: #008080; text-decoration-color: #008080\">│ knowledge extraction through data mining, emphasizing classification and clustering. It introduces genetic      │</span>\n",
       "<span style=\"color: #008080; text-decoration-color: #008080\">│ algorithms as a tool for text classification, facilitating the organization of text into predefined classes and │</span>\n",
       "<span style=\"color: #008080; text-decoration-color: #008080\">│ chaotic clustering to group related elements based on similarity ([Source 1]).                                  │</span>\n",
       "<span style=\"color: #008080; text-decoration-color: #008080\">│                                                                                                                 │</span>\n",
       "<span style=\"color: #008080; text-decoration-color: #008080\">│ 2. **Bayesian Active Learning for Classification and Preference Learning:** This paper explores active learning │</span>\n",
       "<span style=\"color: #008080; text-decoration-color: #008080\">│ in the context of classification using nonparametric models like the Gaussian Process Classifier. It aims to    │</span>\n",
       "<span style=\"color: #008080; text-decoration-color: #008080\">│ optimize information gain for classification problems and extends to preference learning by reformulating       │</span>\n",
       "<span style=\"color: #008080; text-decoration-color: #008080\">│ binary preference learning ([Source 2]).                                                                        │</span>\n",
       "<span style=\"color: #008080; text-decoration-color: #008080\">│                                                                                                                 │</span>\n",
       "<span style=\"color: #008080; text-decoration-color: #008080\">│ 3. **Using a Kernel Adatron for Object Classification with RCS Data:** This work applies support vector         │</span>\n",
       "<span style=\"color: #008080; text-decoration-color: #008080\">│ machines for object classification using radar cross-section data, achieving impressive accuracy across various │</span>\n",
       "<span style=\"color: #008080; text-decoration-color: #008080\">│ object shapes. It compares the effectiveness of SVMs and Bayesian approaches, highlighting the speed advantage  │</span>\n",
       "<span style=\"color: #008080; text-decoration-color: #008080\">│ of SVMs ([Source 3]).                                                                                           │</span>\n",
       "<span style=\"color: #008080; text-decoration-color: #008080\">│                                                                                                                 │</span>\n",
       "<span style=\"color: #008080; text-decoration-color: #008080\">│ 4. **Optimizing F-measure: A Tale of Two Approaches:** This paper investigates two methods for optimizing the   │</span>\n",
       "<span style=\"color: #008080; text-decoration-color: #008080\">│ F-measure in classification with imbalanced datasets. It covers empirical utility maximization and              │</span>\n",
       "<span style=\"color: #008080; text-decoration-color: #008080\">│ decision-theoretic approaches, providing insights into when each method is advantageous ([Source 4]).           │</span>\n",
       "<span style=\"color: #008080; text-decoration-color: #008080\">│                                                                                                                 │</span>\n",
       "<span style=\"color: #008080; text-decoration-color: #008080\">│ 5. **Bayesian Active Distance Metric Learning:** This paper presents a Bayesian framework for improving the     │</span>\n",
       "<span style=\"color: #008080; text-decoration-color: #008080\">│ precision of distance metrics in classification tasks. By employing active learning strategies, it refines the  │</span>\n",
       "<span style=\"color: #008080; text-decoration-color: #008080\">│ classification process and identifies informative training examples ([Source 5]).                               │</span>\n",
       "<span style=\"color: #008080; text-decoration-color: #008080\">│                                                                                                                 │</span>\n",
       "<span style=\"color: #008080; text-decoration-color: #008080\">╰─────────────────────────────────────────────────────────────────────────────────────────────────────────────────╯</span>\n",
       "</pre>\n"
      ],
      "text/plain": [
       "\u001b[36m╭─\u001b[0m\u001b[36m───────────────────────────────────────────────\u001b[0m 📝 Final Answer \u001b[36m───────────────────────────────────────────────\u001b[0m\u001b[36m─╮\u001b[0m\n",
       "\u001b[36m│\u001b[0m\u001b[36m                                                                                                                 \u001b[0m\u001b[36m│\u001b[0m\n",
       "\u001b[36m│\u001b[0m\u001b[36m \u001b[0m\u001b[36mSeveral papers focus on classification across various domains: \u001b[0m\u001b[36m                                                \u001b[0m\u001b[36m \u001b[0m\u001b[36m│\u001b[0m\n",
       "\u001b[36m│\u001b[0m\u001b[36m \u001b[0m\u001b[36m                                                                                                               \u001b[0m\u001b[36m \u001b[0m\u001b[36m│\u001b[0m\n",
       "\u001b[36m│\u001b[0m\u001b[36m \u001b[0m\u001b[36m1. **Using Genetic Algorithms for Texts Classification Problems:** This paper discusses the automation of \u001b[0m\u001b[36m     \u001b[0m\u001b[36m \u001b[0m\u001b[36m│\u001b[0m\n",
       "\u001b[36m│\u001b[0m\u001b[36m \u001b[0m\u001b[36mknowledge extraction through data mining, emphasizing classification and clustering. It introduces genetic \u001b[0m\u001b[36m    \u001b[0m\u001b[36m \u001b[0m\u001b[36m│\u001b[0m\n",
       "\u001b[36m│\u001b[0m\u001b[36m \u001b[0m\u001b[36malgorithms as a tool for text classification, facilitating the organization of text into predefined classes and\u001b[0m\u001b[36m \u001b[0m\u001b[36m│\u001b[0m\n",
       "\u001b[36m│\u001b[0m\u001b[36m \u001b[0m\u001b[36mchaotic clustering to group related elements based on similarity ([Source 1]).\u001b[0m\u001b[36m                                 \u001b[0m\u001b[36m \u001b[0m\u001b[36m│\u001b[0m\n",
       "\u001b[36m│\u001b[0m\u001b[36m \u001b[0m\u001b[36m                                                                                                               \u001b[0m\u001b[36m \u001b[0m\u001b[36m│\u001b[0m\n",
       "\u001b[36m│\u001b[0m\u001b[36m \u001b[0m\u001b[36m2. **Bayesian Active Learning for Classification and Preference Learning:** This paper explores active learning\u001b[0m\u001b[36m \u001b[0m\u001b[36m│\u001b[0m\n",
       "\u001b[36m│\u001b[0m\u001b[36m \u001b[0m\u001b[36min the context of classification using nonparametric models like the Gaussian Process Classifier. It aims to \u001b[0m\u001b[36m  \u001b[0m\u001b[36m \u001b[0m\u001b[36m│\u001b[0m\n",
       "\u001b[36m│\u001b[0m\u001b[36m \u001b[0m\u001b[36moptimize information gain for classification problems and extends to preference learning by reformulating \u001b[0m\u001b[36m     \u001b[0m\u001b[36m \u001b[0m\u001b[36m│\u001b[0m\n",
       "\u001b[36m│\u001b[0m\u001b[36m \u001b[0m\u001b[36mbinary preference learning ([Source 2]).\u001b[0m\u001b[36m                                                                       \u001b[0m\u001b[36m \u001b[0m\u001b[36m│\u001b[0m\n",
       "\u001b[36m│\u001b[0m\u001b[36m \u001b[0m\u001b[36m                                                                                                               \u001b[0m\u001b[36m \u001b[0m\u001b[36m│\u001b[0m\n",
       "\u001b[36m│\u001b[0m\u001b[36m \u001b[0m\u001b[36m3. **Using a Kernel Adatron for Object Classification with RCS Data:** This work applies support vector \u001b[0m\u001b[36m       \u001b[0m\u001b[36m \u001b[0m\u001b[36m│\u001b[0m\n",
       "\u001b[36m│\u001b[0m\u001b[36m \u001b[0m\u001b[36mmachines for object classification using radar cross-section data, achieving impressive accuracy across various\u001b[0m\u001b[36m \u001b[0m\u001b[36m│\u001b[0m\n",
       "\u001b[36m│\u001b[0m\u001b[36m \u001b[0m\u001b[36mobject shapes. It compares the effectiveness of SVMs and Bayesian approaches, highlighting the speed advantage \u001b[0m\u001b[36m \u001b[0m\u001b[36m│\u001b[0m\n",
       "\u001b[36m│\u001b[0m\u001b[36m \u001b[0m\u001b[36mof SVMs ([Source 3]).\u001b[0m\u001b[36m                                                                                          \u001b[0m\u001b[36m \u001b[0m\u001b[36m│\u001b[0m\n",
       "\u001b[36m│\u001b[0m\u001b[36m \u001b[0m\u001b[36m                                                                                                               \u001b[0m\u001b[36m \u001b[0m\u001b[36m│\u001b[0m\n",
       "\u001b[36m│\u001b[0m\u001b[36m \u001b[0m\u001b[36m4. **Optimizing F-measure: A Tale of Two Approaches:** This paper investigates two methods for optimizing the \u001b[0m\u001b[36m \u001b[0m\u001b[36m \u001b[0m\u001b[36m│\u001b[0m\n",
       "\u001b[36m│\u001b[0m\u001b[36m \u001b[0m\u001b[36mF-measure in classification with imbalanced datasets. It covers empirical utility maximization and \u001b[0m\u001b[36m            \u001b[0m\u001b[36m \u001b[0m\u001b[36m│\u001b[0m\n",
       "\u001b[36m│\u001b[0m\u001b[36m \u001b[0m\u001b[36mdecision-theoretic approaches, providing insights into when each method is advantageous ([Source 4]).\u001b[0m\u001b[36m          \u001b[0m\u001b[36m \u001b[0m\u001b[36m│\u001b[0m\n",
       "\u001b[36m│\u001b[0m\u001b[36m \u001b[0m\u001b[36m                                                                                                               \u001b[0m\u001b[36m \u001b[0m\u001b[36m│\u001b[0m\n",
       "\u001b[36m│\u001b[0m\u001b[36m \u001b[0m\u001b[36m5. **Bayesian Active Distance Metric Learning:** This paper presents a Bayesian framework for improving the \u001b[0m\u001b[36m   \u001b[0m\u001b[36m \u001b[0m\u001b[36m│\u001b[0m\n",
       "\u001b[36m│\u001b[0m\u001b[36m \u001b[0m\u001b[36mprecision of distance metrics in classification tasks. By employing active learning strategies, it refines the \u001b[0m\u001b[36m \u001b[0m\u001b[36m│\u001b[0m\n",
       "\u001b[36m│\u001b[0m\u001b[36m \u001b[0m\u001b[36mclassification process and identifies informative training examples ([Source 5]).\u001b[0m\u001b[36m                              \u001b[0m\u001b[36m \u001b[0m\u001b[36m│\u001b[0m\n",
       "\u001b[36m│\u001b[0m\u001b[36m                                                                                                                 \u001b[0m\u001b[36m│\u001b[0m\n",
       "\u001b[36m╰─────────────────────────────────────────────────────────────────────────────────────────────────────────────────╯\u001b[0m\n"
      ]
     },
     "metadata": {},
     "output_type": "display_data"
    },
    {
     "data": {
      "text/html": [
       "<pre style=\"white-space:pre;overflow-x:auto;line-height:normal;font-family:Menlo,'DejaVu Sans Mono',consolas,'Courier New',monospace\"><span style=\"color: #c0c0c0; text-decoration-color: #c0c0c0\">╭───────────────────────────────────────────</span> 🔭 Searches Executed 1/1 <span style=\"color: #c0c0c0; text-decoration-color: #c0c0c0\">────────────────────────────────────────────╮</span>\n",
       "<span style=\"color: #c0c0c0; text-decoration-color: #c0c0c0\">│                                                                                                                 │</span>\n",
       "<span style=\"color: #c0c0c0; text-decoration-color: #c0c0c0\">│ </span><span style=\"color: #800080; text-decoration-color: #800080; font-weight: bold\">QueryResultWithCollection</span><span style=\"color: #c0c0c0; text-decoration-color: #c0c0c0; font-weight: bold\">(</span><span style=\"color: #c0c0c0; text-decoration-color: #c0c0c0\">                                                                                      │</span>\n",
       "<span style=\"color: #c0c0c0; text-decoration-color: #c0c0c0\">│     </span><span style=\"color: #808000; text-decoration-color: #808000\">queries</span><span style=\"color: #c0c0c0; text-decoration-color: #c0c0c0\">=</span><span style=\"color: #c0c0c0; text-decoration-color: #c0c0c0; font-weight: bold\">[</span><span style=\"color: #008000; text-decoration-color: #008000\">'classification'</span><span style=\"color: #c0c0c0; text-decoration-color: #c0c0c0; font-weight: bold\">]</span><span style=\"color: #c0c0c0; text-decoration-color: #c0c0c0\">,                                                                                 │</span>\n",
       "<span style=\"color: #c0c0c0; text-decoration-color: #c0c0c0\">│     </span><span style=\"color: #808000; text-decoration-color: #808000\">filters</span><span style=\"color: #c0c0c0; text-decoration-color: #c0c0c0\">=</span><span style=\"color: #c0c0c0; text-decoration-color: #c0c0c0; font-weight: bold\">[</span><span style=\"color: #c0c0c0; text-decoration-color: #c0c0c0\">                                                                                                   │</span>\n",
       "<span style=\"color: #c0c0c0; text-decoration-color: #c0c0c0\">│         </span><span style=\"color: #c0c0c0; text-decoration-color: #c0c0c0; font-weight: bold\">[</span><span style=\"color: #c0c0c0; text-decoration-color: #c0c0c0\">                                                                                                       │</span>\n",
       "<span style=\"color: #c0c0c0; text-decoration-color: #c0c0c0\">│             </span><span style=\"color: #800080; text-decoration-color: #800080; font-weight: bold\">BooleanPropertyFilter</span><span style=\"color: #c0c0c0; text-decoration-color: #c0c0c0; font-weight: bold\">(</span><span style=\"color: #c0c0c0; text-decoration-color: #c0c0c0\">                                                                              │</span>\n",
       "<span style=\"color: #c0c0c0; text-decoration-color: #c0c0c0\">│                 </span><span style=\"color: #808000; text-decoration-color: #808000\">property_name</span><span style=\"color: #c0c0c0; text-decoration-color: #c0c0c0\">=</span><span style=\"color: #008000; text-decoration-color: #008000\">'about_classification'</span><span style=\"color: #c0c0c0; text-decoration-color: #c0c0c0\">,                                                           │</span>\n",
       "<span style=\"color: #c0c0c0; text-decoration-color: #c0c0c0\">│                 </span><span style=\"color: #808000; text-decoration-color: #808000\">operator</span><span style=\"color: #c0c0c0; text-decoration-color: #c0c0c0\">=</span><span style=\"color: #c0c0c0; text-decoration-color: #c0c0c0; font-weight: bold\">&lt;</span><span style=\"color: #ff00ff; text-decoration-color: #ff00ff; font-weight: bold\">ComparisonOperator.EQUALS:</span><span style=\"color: #000000; text-decoration-color: #000000\"> </span><span style=\"color: #008000; text-decoration-color: #008000\">'='</span><span style=\"color: #c0c0c0; text-decoration-color: #c0c0c0; font-weight: bold\">&gt;</span><span style=\"color: #c0c0c0; text-decoration-color: #c0c0c0\">,                                                      │</span>\n",
       "<span style=\"color: #c0c0c0; text-decoration-color: #c0c0c0\">│                 </span><span style=\"color: #808000; text-decoration-color: #808000\">value</span><span style=\"color: #c0c0c0; text-decoration-color: #c0c0c0\">=</span><span style=\"color: #00ff00; text-decoration-color: #00ff00; font-style: italic\">True</span><span style=\"color: #c0c0c0; text-decoration-color: #c0c0c0\">                                                                                      │</span>\n",
       "<span style=\"color: #c0c0c0; text-decoration-color: #c0c0c0\">│             </span><span style=\"color: #c0c0c0; text-decoration-color: #c0c0c0; font-weight: bold\">)</span><span style=\"color: #c0c0c0; text-decoration-color: #c0c0c0\">                                                                                                   │</span>\n",
       "<span style=\"color: #c0c0c0; text-decoration-color: #c0c0c0\">│         </span><span style=\"color: #c0c0c0; text-decoration-color: #c0c0c0; font-weight: bold\">]</span><span style=\"color: #c0c0c0; text-decoration-color: #c0c0c0\">                                                                                                       │</span>\n",
       "<span style=\"color: #c0c0c0; text-decoration-color: #c0c0c0\">│     </span><span style=\"color: #c0c0c0; text-decoration-color: #c0c0c0; font-weight: bold\">]</span><span style=\"color: #c0c0c0; text-decoration-color: #c0c0c0\">,                                                                                                          │</span>\n",
       "<span style=\"color: #c0c0c0; text-decoration-color: #c0c0c0\">│     </span><span style=\"color: #808000; text-decoration-color: #808000\">filter_operators</span><span style=\"color: #c0c0c0; text-decoration-color: #c0c0c0\">=</span><span style=\"color: #008000; text-decoration-color: #008000\">'AND'</span><span style=\"color: #c0c0c0; text-decoration-color: #c0c0c0\">,                                                                                     │</span>\n",
       "<span style=\"color: #c0c0c0; text-decoration-color: #c0c0c0\">│     </span><span style=\"color: #808000; text-decoration-color: #808000\">collection</span><span style=\"color: #c0c0c0; text-decoration-color: #c0c0c0\">=</span><span style=\"color: #008000; text-decoration-color: #008000\">'ArxivPapersDemo'</span><span style=\"color: #c0c0c0; text-decoration-color: #c0c0c0\">                                                                                │</span>\n",
       "<span style=\"color: #c0c0c0; text-decoration-color: #c0c0c0\">│ </span><span style=\"color: #c0c0c0; text-decoration-color: #c0c0c0; font-weight: bold\">)</span><span style=\"color: #c0c0c0; text-decoration-color: #c0c0c0\">                                                                                                               │</span>\n",
       "<span style=\"color: #c0c0c0; text-decoration-color: #c0c0c0\">│                                                                                                                 │</span>\n",
       "<span style=\"color: #c0c0c0; text-decoration-color: #c0c0c0\">╰─────────────────────────────────────────────────────────────────────────────────────────────────────────────────╯</span>\n",
       "</pre>\n"
      ],
      "text/plain": [
       "\u001b[37m╭─\u001b[0m\u001b[37m──────────────────────────────────────────\u001b[0m 🔭 Searches Executed 1/1 \u001b[37m───────────────────────────────────────────\u001b[0m\u001b[37m─╮\u001b[0m\n",
       "\u001b[37m│\u001b[0m\u001b[37m                                                                                                                 \u001b[0m\u001b[37m│\u001b[0m\n",
       "\u001b[37m│\u001b[0m\u001b[37m \u001b[0m\u001b[1;35mQueryResultWithCollection\u001b[0m\u001b[1;37m(\u001b[0m\u001b[37m                                                                                     \u001b[0m\u001b[37m \u001b[0m\u001b[37m│\u001b[0m\n",
       "\u001b[37m│\u001b[0m\u001b[37m \u001b[0m\u001b[37m    \u001b[0m\u001b[33mqueries\u001b[0m\u001b[37m=\u001b[0m\u001b[1;37m[\u001b[0m\u001b[32m'classification'\u001b[0m\u001b[1;37m]\u001b[0m\u001b[37m,\u001b[0m\u001b[37m                                                                                \u001b[0m\u001b[37m \u001b[0m\u001b[37m│\u001b[0m\n",
       "\u001b[37m│\u001b[0m\u001b[37m \u001b[0m\u001b[37m    \u001b[0m\u001b[33mfilters\u001b[0m\u001b[37m=\u001b[0m\u001b[1;37m[\u001b[0m\u001b[37m                                                                                                  \u001b[0m\u001b[37m \u001b[0m\u001b[37m│\u001b[0m\n",
       "\u001b[37m│\u001b[0m\u001b[37m \u001b[0m\u001b[37m        \u001b[0m\u001b[1;37m[\u001b[0m\u001b[37m                                                                                                      \u001b[0m\u001b[37m \u001b[0m\u001b[37m│\u001b[0m\n",
       "\u001b[37m│\u001b[0m\u001b[37m \u001b[0m\u001b[37m            \u001b[0m\u001b[1;35mBooleanPropertyFilter\u001b[0m\u001b[1;37m(\u001b[0m\u001b[37m                                                                             \u001b[0m\u001b[37m \u001b[0m\u001b[37m│\u001b[0m\n",
       "\u001b[37m│\u001b[0m\u001b[37m \u001b[0m\u001b[37m                \u001b[0m\u001b[33mproperty_name\u001b[0m\u001b[37m=\u001b[0m\u001b[32m'about_classification'\u001b[0m\u001b[37m,\u001b[0m\u001b[37m                                                          \u001b[0m\u001b[37m \u001b[0m\u001b[37m│\u001b[0m\n",
       "\u001b[37m│\u001b[0m\u001b[37m \u001b[0m\u001b[37m                \u001b[0m\u001b[33moperator\u001b[0m\u001b[37m=\u001b[0m\u001b[1;37m<\u001b[0m\u001b[1;95mComparisonOperator.EQUALS:\u001b[0m\u001b[39m \u001b[0m\u001b[32m'='\u001b[0m\u001b[1;37m>\u001b[0m\u001b[37m,\u001b[0m\u001b[37m                                                     \u001b[0m\u001b[37m \u001b[0m\u001b[37m│\u001b[0m\n",
       "\u001b[37m│\u001b[0m\u001b[37m \u001b[0m\u001b[37m                \u001b[0m\u001b[33mvalue\u001b[0m\u001b[37m=\u001b[0m\u001b[3;92mTrue\u001b[0m\u001b[37m                                                                                     \u001b[0m\u001b[37m \u001b[0m\u001b[37m│\u001b[0m\n",
       "\u001b[37m│\u001b[0m\u001b[37m \u001b[0m\u001b[37m            \u001b[0m\u001b[1;37m)\u001b[0m\u001b[37m                                                                                                  \u001b[0m\u001b[37m \u001b[0m\u001b[37m│\u001b[0m\n",
       "\u001b[37m│\u001b[0m\u001b[37m \u001b[0m\u001b[37m        \u001b[0m\u001b[1;37m]\u001b[0m\u001b[37m                                                                                                      \u001b[0m\u001b[37m \u001b[0m\u001b[37m│\u001b[0m\n",
       "\u001b[37m│\u001b[0m\u001b[37m \u001b[0m\u001b[37m    \u001b[0m\u001b[1;37m]\u001b[0m\u001b[37m,\u001b[0m\u001b[37m                                                                                                         \u001b[0m\u001b[37m \u001b[0m\u001b[37m│\u001b[0m\n",
       "\u001b[37m│\u001b[0m\u001b[37m \u001b[0m\u001b[37m    \u001b[0m\u001b[33mfilter_operators\u001b[0m\u001b[37m=\u001b[0m\u001b[32m'AND'\u001b[0m\u001b[37m,\u001b[0m\u001b[37m                                                                                    \u001b[0m\u001b[37m \u001b[0m\u001b[37m│\u001b[0m\n",
       "\u001b[37m│\u001b[0m\u001b[37m \u001b[0m\u001b[37m    \u001b[0m\u001b[33mcollection\u001b[0m\u001b[37m=\u001b[0m\u001b[32m'ArxivPapersDemo'\u001b[0m\u001b[37m                                                                               \u001b[0m\u001b[37m \u001b[0m\u001b[37m│\u001b[0m\n",
       "\u001b[37m│\u001b[0m\u001b[37m \u001b[0m\u001b[1;37m)\u001b[0m\u001b[37m                                                                                                              \u001b[0m\u001b[37m \u001b[0m\u001b[37m│\u001b[0m\n",
       "\u001b[37m│\u001b[0m\u001b[37m                                                                                                                 \u001b[0m\u001b[37m│\u001b[0m\n",
       "\u001b[37m╰─────────────────────────────────────────────────────────────────────────────────────────────────────────────────╯\u001b[0m\n"
      ]
     },
     "metadata": {},
     "output_type": "display_data"
    },
    {
     "data": {
      "text/html": [
       "<pre style=\"white-space:pre;overflow-x:auto;line-height:normal;font-family:Menlo,'DejaVu Sans Mono',consolas,'Courier New',monospace\"><span style=\"color: #d75f5f; text-decoration-color: #d75f5f\">╭─────────────────────────────────────────────────────────────────────────────────────────────────────────────────╮</span>\n",
       "<span style=\"color: #d75f5f; text-decoration-color: #d75f5f\">│                                                                                                                 │</span>\n",
       "<span style=\"color: #d75f5f; text-decoration-color: #d75f5f\">│ 📊 No Aggregations Run                                                                                          │</span>\n",
       "<span style=\"color: #d75f5f; text-decoration-color: #d75f5f\">│                                                                                                                 │</span>\n",
       "<span style=\"color: #d75f5f; text-decoration-color: #d75f5f\">╰─────────────────────────────────────────────────────────────────────────────────────────────────────────────────╯</span>\n",
       "</pre>\n"
      ],
      "text/plain": [
       "\u001b[38;5;167m╭─────────────────────────────────────────────────────────────────────────────────────────────────────────────────╮\u001b[0m\n",
       "\u001b[38;5;167m│\u001b[0m\u001b[38;5;167m                                                                                                                 \u001b[0m\u001b[38;5;167m│\u001b[0m\n",
       "\u001b[38;5;167m│\u001b[0m\u001b[38;5;167m \u001b[0m\u001b[38;5;167m📊 No Aggregations Run\u001b[0m\u001b[38;5;167m                                                                                         \u001b[0m\u001b[38;5;167m \u001b[0m\u001b[38;5;167m│\u001b[0m\n",
       "\u001b[38;5;167m│\u001b[0m\u001b[38;5;167m                                                                                                                 \u001b[0m\u001b[38;5;167m│\u001b[0m\n",
       "\u001b[38;5;167m╰─────────────────────────────────────────────────────────────────────────────────────────────────────────────────╯\u001b[0m\n"
      ]
     },
     "metadata": {},
     "output_type": "display_data"
    },
    {
     "data": {
      "text/html": [
       "<pre style=\"white-space:pre;overflow-x:auto;line-height:normal;font-family:Menlo,'DejaVu Sans Mono',consolas,'Courier New',monospace\"><span style=\"color: #c0c0c0; text-decoration-color: #c0c0c0\">╭──────────────────────────────────────────────────</span> 📚 Sources <span style=\"color: #c0c0c0; text-decoration-color: #c0c0c0\">───────────────────────────────────────────────────╮</span>\n",
       "<span style=\"color: #c0c0c0; text-decoration-color: #c0c0c0\">│                                                                                                                 │</span>\n",
       "<span style=\"color: #c0c0c0; text-decoration-color: #c0c0c0\">│  - object_id='e800ea6c-7966-4ebf-84bd-ff16e938b24c' collection='ArxivPapersDemo'                                │</span>\n",
       "<span style=\"color: #c0c0c0; text-decoration-color: #c0c0c0\">│  - object_id='a0d6770c-3ff1-47b3-99d3-9aade7d3ea98' collection='ArxivPapersDemo'                                │</span>\n",
       "<span style=\"color: #c0c0c0; text-decoration-color: #c0c0c0\">│  - object_id='4a736360-77d6-4828-bee1-53b56fba56a7' collection='ArxivPapersDemo'                                │</span>\n",
       "<span style=\"color: #c0c0c0; text-decoration-color: #c0c0c0\">│  - object_id='bd2d5650-c890-4cf2-bf6b-6f5e980f050a' collection='ArxivPapersDemo'                                │</span>\n",
       "<span style=\"color: #c0c0c0; text-decoration-color: #c0c0c0\">│  - object_id='a9baddda-eda6-435b-ad57-2c05541764f0' collection='ArxivPapersDemo'                                │</span>\n",
       "<span style=\"color: #c0c0c0; text-decoration-color: #c0c0c0\">│                                                                                                                 │</span>\n",
       "<span style=\"color: #c0c0c0; text-decoration-color: #c0c0c0\">╰─────────────────────────────────────────────────────────────────────────────────────────────────────────────────╯</span>\n",
       "</pre>\n"
      ],
      "text/plain": [
       "\u001b[37m╭─\u001b[0m\u001b[37m─────────────────────────────────────────────────\u001b[0m 📚 Sources \u001b[37m──────────────────────────────────────────────────\u001b[0m\u001b[37m─╮\u001b[0m\n",
       "\u001b[37m│\u001b[0m\u001b[37m                                                                                                                 \u001b[0m\u001b[37m│\u001b[0m\n",
       "\u001b[37m│\u001b[0m\u001b[37m \u001b[0m\u001b[37m - object_id='e800ea6c-7966-4ebf-84bd-ff16e938b24c' collection='ArxivPapersDemo'\u001b[0m\u001b[37m                               \u001b[0m\u001b[37m \u001b[0m\u001b[37m│\u001b[0m\n",
       "\u001b[37m│\u001b[0m\u001b[37m \u001b[0m\u001b[37m - object_id='a0d6770c-3ff1-47b3-99d3-9aade7d3ea98' collection='ArxivPapersDemo'\u001b[0m\u001b[37m                               \u001b[0m\u001b[37m \u001b[0m\u001b[37m│\u001b[0m\n",
       "\u001b[37m│\u001b[0m\u001b[37m \u001b[0m\u001b[37m - object_id='4a736360-77d6-4828-bee1-53b56fba56a7' collection='ArxivPapersDemo'\u001b[0m\u001b[37m                               \u001b[0m\u001b[37m \u001b[0m\u001b[37m│\u001b[0m\n",
       "\u001b[37m│\u001b[0m\u001b[37m \u001b[0m\u001b[37m - object_id='bd2d5650-c890-4cf2-bf6b-6f5e980f050a' collection='ArxivPapersDemo'\u001b[0m\u001b[37m                               \u001b[0m\u001b[37m \u001b[0m\u001b[37m│\u001b[0m\n",
       "\u001b[37m│\u001b[0m\u001b[37m \u001b[0m\u001b[37m - object_id='a9baddda-eda6-435b-ad57-2c05541764f0' collection='ArxivPapersDemo'\u001b[0m\u001b[37m                               \u001b[0m\u001b[37m \u001b[0m\u001b[37m│\u001b[0m\n",
       "\u001b[37m│\u001b[0m\u001b[37m                                                                                                                 \u001b[0m\u001b[37m│\u001b[0m\n",
       "\u001b[37m╰─────────────────────────────────────────────────────────────────────────────────────────────────────────────────╯\u001b[0m\n"
      ]
     },
     "metadata": {},
     "output_type": "display_data"
    },
    {
     "name": "stdout",
     "output_type": "stream",
     "text": [
      "\n",
      "\n"
     ]
    },
    {
     "data": {
      "text/html": [
       "<pre style=\"white-space:pre;overflow-x:auto;line-height:normal;font-family:Menlo,'DejaVu Sans Mono',consolas,'Courier New',monospace\"><span style=\"font-style: italic\">   📊 Usage Statistics   </span>\n",
       "┌────────────────┬──────┐\n",
       "│ LLM Requests:  │ 3    │\n",
       "│ Input Tokens:  │ 5962 │\n",
       "│ Output Tokens: │ 444  │\n",
       "│ Total Tokens:  │ 6406 │\n",
       "└────────────────┴──────┘\n",
       "</pre>\n"
      ],
      "text/plain": [
       "\u001b[3m   📊 Usage Statistics   \u001b[0m\n",
       "┌────────────────┬──────┐\n",
       "│ LLM Requests:  │ 3    │\n",
       "│ Input Tokens:  │ 5962 │\n",
       "│ Output Tokens: │ 444  │\n",
       "│ Total Tokens:  │ 6406 │\n",
       "└────────────────┴──────┘\n"
      ]
     },
     "metadata": {},
     "output_type": "display_data"
    },
    {
     "data": {
      "text/html": [
       "<pre style=\"white-space:pre;overflow-x:auto;line-height:normal;font-family:Menlo,'DejaVu Sans Mono',consolas,'Courier New',monospace\">\n",
       "<span style=\"color: #008080; text-decoration-color: #008080; font-weight: bold\">Total Time Taken:</span><span style=\"color: #008080; text-decoration-color: #008080\"> </span><span style=\"color: #008080; text-decoration-color: #008080; font-weight: bold\">7.</span><span style=\"color: #008080; text-decoration-color: #008080\">67s</span>\n",
       "</pre>\n"
      ],
      "text/plain": [
       "\n",
       "\u001b[1;36mTotal Time Taken:\u001b[0m\u001b[36m \u001b[0m\u001b[1;36m7.\u001b[0m\u001b[36m67s\u001b[0m\n"
      ]
     },
     "metadata": {},
     "output_type": "display_data"
    }
   ],
   "source": [
    "# Hint: https://weaviate.io/developers/agents/query/usage#2-perform-queries\n",
    "response = qa.run(\n",
    "    \"\"\"\n",
    "    Find papers that are about classification. Tell me about some of them.\n",
    "    Hint: There is a property called 'about_classification' that you can use.\n",
    "    \"\"\",\n",
    ")\n",
    "\n",
    "# Print the response\n",
    "response.display()"
   ]
  },
  {
   "cell_type": "code",
   "execution_count": 39,
   "metadata": {},
   "outputs": [
    {
     "data": {
      "text/html": [
       "<pre style=\"white-space:pre;overflow-x:auto;line-height:normal;font-family:Menlo,'DejaVu Sans Mono',consolas,'Courier New',monospace\">╭─────────────────────────────────────────────── 🔍 Original Query ───────────────────────────────────────────────╮\n",
       "│                                                                                                                 │\n",
       "│                                                                                                                 │\n",
       "│     How many papers are primarily about models?                                                                 │\n",
       "│                                                                                                                 │\n",
       "│     Hint: There is a property called 'paper_type' where the available values are: 'survey', 'model', 'system',  │\n",
       "│ 'analysis', 'resource', 'other'.                                                                                │\n",
       "│                                                                                                                 │\n",
       "│                                                                                                                 │\n",
       "╰─────────────────────────────────────────────────────────────────────────────────────────────────────────────────╯\n",
       "</pre>\n"
      ],
      "text/plain": [
       "╭─────────────────────────────────────────────── 🔍 Original Query ───────────────────────────────────────────────╮\n",
       "│                                                                                                                 │\n",
       "│                                                                                                                 │\n",
       "│     How many papers are primarily about models?                                                                 │\n",
       "│                                                                                                                 │\n",
       "│     Hint: There is a property called 'paper_type' where the available values are: 'survey', 'model', 'system',  │\n",
       "│ 'analysis', 'resource', 'other'.                                                                                │\n",
       "│                                                                                                                 │\n",
       "│                                                                                                                 │\n",
       "╰─────────────────────────────────────────────────────────────────────────────────────────────────────────────────╯\n"
      ]
     },
     "metadata": {},
     "output_type": "display_data"
    },
    {
     "data": {
      "text/html": [
       "<pre style=\"white-space:pre;overflow-x:auto;line-height:normal;font-family:Menlo,'DejaVu Sans Mono',consolas,'Courier New',monospace\"><span style=\"color: #008080; text-decoration-color: #008080\">╭────────────────────────────────────────────────</span> 📝 Final Answer <span style=\"color: #008080; text-decoration-color: #008080\">────────────────────────────────────────────────╮</span>\n",
       "<span style=\"color: #008080; text-decoration-color: #008080\">│                                                                                                                 │</span>\n",
       "<span style=\"color: #008080; text-decoration-color: #008080\">│ There are 32 papers that are primarily about models. This is determined based on the property 'paper_type'      │</span>\n",
       "<span style=\"color: #008080; text-decoration-color: #008080\">│ where the value is 'model'.                                                                                     │</span>\n",
       "<span style=\"color: #008080; text-decoration-color: #008080\">│                                                                                                                 │</span>\n",
       "<span style=\"color: #008080; text-decoration-color: #008080\">╰─────────────────────────────────────────────────────────────────────────────────────────────────────────────────╯</span>\n",
       "</pre>\n"
      ],
      "text/plain": [
       "\u001b[36m╭─\u001b[0m\u001b[36m───────────────────────────────────────────────\u001b[0m 📝 Final Answer \u001b[36m───────────────────────────────────────────────\u001b[0m\u001b[36m─╮\u001b[0m\n",
       "\u001b[36m│\u001b[0m\u001b[36m                                                                                                                 \u001b[0m\u001b[36m│\u001b[0m\n",
       "\u001b[36m│\u001b[0m\u001b[36m \u001b[0m\u001b[36mThere are 32 papers that are primarily about models. This is determined based on the property 'paper_type' \u001b[0m\u001b[36m    \u001b[0m\u001b[36m \u001b[0m\u001b[36m│\u001b[0m\n",
       "\u001b[36m│\u001b[0m\u001b[36m \u001b[0m\u001b[36mwhere the value is 'model'.\u001b[0m\u001b[36m                                                                                    \u001b[0m\u001b[36m \u001b[0m\u001b[36m│\u001b[0m\n",
       "\u001b[36m│\u001b[0m\u001b[36m                                                                                                                 \u001b[0m\u001b[36m│\u001b[0m\n",
       "\u001b[36m╰─────────────────────────────────────────────────────────────────────────────────────────────────────────────────╯\u001b[0m\n"
      ]
     },
     "metadata": {},
     "output_type": "display_data"
    },
    {
     "data": {
      "text/html": [
       "<pre style=\"white-space:pre;overflow-x:auto;line-height:normal;font-family:Menlo,'DejaVu Sans Mono',consolas,'Courier New',monospace\"><span style=\"color: #d75f5f; text-decoration-color: #d75f5f\">╭─────────────────────────────────────────────────────────────────────────────────────────────────────────────────╮</span>\n",
       "<span style=\"color: #d75f5f; text-decoration-color: #d75f5f\">│                                                                                                                 │</span>\n",
       "<span style=\"color: #d75f5f; text-decoration-color: #d75f5f\">│ 🔭 No Searches Run                                                                                              │</span>\n",
       "<span style=\"color: #d75f5f; text-decoration-color: #d75f5f\">│                                                                                                                 │</span>\n",
       "<span style=\"color: #d75f5f; text-decoration-color: #d75f5f\">╰─────────────────────────────────────────────────────────────────────────────────────────────────────────────────╯</span>\n",
       "</pre>\n"
      ],
      "text/plain": [
       "\u001b[38;5;167m╭─────────────────────────────────────────────────────────────────────────────────────────────────────────────────╮\u001b[0m\n",
       "\u001b[38;5;167m│\u001b[0m\u001b[38;5;167m                                                                                                                 \u001b[0m\u001b[38;5;167m│\u001b[0m\n",
       "\u001b[38;5;167m│\u001b[0m\u001b[38;5;167m \u001b[0m\u001b[38;5;167m🔭 No Searches Run\u001b[0m\u001b[38;5;167m                                                                                             \u001b[0m\u001b[38;5;167m \u001b[0m\u001b[38;5;167m│\u001b[0m\n",
       "\u001b[38;5;167m│\u001b[0m\u001b[38;5;167m                                                                                                                 \u001b[0m\u001b[38;5;167m│\u001b[0m\n",
       "\u001b[38;5;167m╰─────────────────────────────────────────────────────────────────────────────────────────────────────────────────╯\u001b[0m\n"
      ]
     },
     "metadata": {},
     "output_type": "display_data"
    },
    {
     "data": {
      "text/html": [
       "<pre style=\"white-space:pre;overflow-x:auto;line-height:normal;font-family:Menlo,'DejaVu Sans Mono',consolas,'Courier New',monospace\"><span style=\"color: #c0c0c0; text-decoration-color: #c0c0c0\">╭────────────────────────────────────────────</span> 📊 Aggregations Run 1/1 <span style=\"color: #c0c0c0; text-decoration-color: #c0c0c0\">────────────────────────────────────────────╮</span>\n",
       "<span style=\"color: #c0c0c0; text-decoration-color: #c0c0c0\">│                                                                                                                 │</span>\n",
       "<span style=\"color: #c0c0c0; text-decoration-color: #c0c0c0\">│ </span><span style=\"color: #800080; text-decoration-color: #800080; font-weight: bold\">AggregationResultWithCollection</span><span style=\"color: #c0c0c0; text-decoration-color: #c0c0c0; font-weight: bold\">(</span><span style=\"color: #c0c0c0; text-decoration-color: #c0c0c0\">                                                                                │</span>\n",
       "<span style=\"color: #c0c0c0; text-decoration-color: #c0c0c0\">│     </span><span style=\"color: #808000; text-decoration-color: #808000\">search_query</span><span style=\"color: #c0c0c0; text-decoration-color: #c0c0c0\">=</span><span style=\"color: #800080; text-decoration-color: #800080; font-style: italic\">None</span><span style=\"color: #c0c0c0; text-decoration-color: #c0c0c0\">,                                                                                          │</span>\n",
       "<span style=\"color: #c0c0c0; text-decoration-color: #c0c0c0\">│     </span><span style=\"color: #808000; text-decoration-color: #808000\">groupby_property</span><span style=\"color: #c0c0c0; text-decoration-color: #c0c0c0\">=</span><span style=\"color: #800080; text-decoration-color: #800080; font-style: italic\">None</span><span style=\"color: #c0c0c0; text-decoration-color: #c0c0c0\">,                                                                                      │</span>\n",
       "<span style=\"color: #c0c0c0; text-decoration-color: #c0c0c0\">│     </span><span style=\"color: #808000; text-decoration-color: #808000\">aggregations</span><span style=\"color: #c0c0c0; text-decoration-color: #c0c0c0\">=</span><span style=\"color: #c0c0c0; text-decoration-color: #c0c0c0; font-weight: bold\">[</span><span style=\"color: #c0c0c0; text-decoration-color: #c0c0c0\">                                                                                              │</span>\n",
       "<span style=\"color: #c0c0c0; text-decoration-color: #c0c0c0\">│         </span><span style=\"color: #800080; text-decoration-color: #800080; font-weight: bold\">IntegerPropertyAggregation</span><span style=\"color: #c0c0c0; text-decoration-color: #c0c0c0; font-weight: bold\">(</span><span style=\"color: #808000; text-decoration-color: #808000\">property_name</span><span style=\"color: #c0c0c0; text-decoration-color: #c0c0c0\">=</span><span style=\"color: #008000; text-decoration-color: #008000\">'paper_type'</span><span style=\"color: #c0c0c0; text-decoration-color: #c0c0c0\">, </span><span style=\"color: #808000; text-decoration-color: #808000\">metrics</span><span style=\"color: #c0c0c0; text-decoration-color: #c0c0c0\">=</span><span style=\"color: #c0c0c0; text-decoration-color: #c0c0c0; font-weight: bold\">&lt;</span><span style=\"color: #ff00ff; text-decoration-color: #ff00ff; font-weight: bold\">NumericMetrics.COUNT:</span><span style=\"color: #000000; text-decoration-color: #000000\"> </span><span style=\"color: #008000; text-decoration-color: #008000\">'COUNT'</span><span style=\"color: #000000; text-decoration-color: #000000\">&gt;</span><span style=\"color: #000000; text-decoration-color: #000000; font-weight: bold\">)</span><span style=\"color: #c0c0c0; text-decoration-color: #c0c0c0\">         │</span>\n",
       "<span style=\"color: #c0c0c0; text-decoration-color: #c0c0c0\">│ </span><span style=\"color: #000000; text-decoration-color: #000000\">    </span><span style=\"color: #000000; text-decoration-color: #000000; font-weight: bold\">]</span><span style=\"color: #000000; text-decoration-color: #000000\">,</span><span style=\"color: #c0c0c0; text-decoration-color: #c0c0c0\">                                                                                                          │</span>\n",
       "<span style=\"color: #c0c0c0; text-decoration-color: #c0c0c0\">│ </span><span style=\"color: #000000; text-decoration-color: #000000\">    </span><span style=\"color: #808000; text-decoration-color: #808000\">filters</span><span style=\"color: #000000; text-decoration-color: #000000\">=</span><span style=\"color: #000000; text-decoration-color: #000000; font-weight: bold\">[</span><span style=\"color: #c0c0c0; text-decoration-color: #c0c0c0\">                                                                                                   │</span>\n",
       "<span style=\"color: #c0c0c0; text-decoration-color: #c0c0c0\">│ </span><span style=\"color: #000000; text-decoration-color: #000000\">        </span><span style=\"color: #800080; text-decoration-color: #800080; font-weight: bold\">TextPropertyFilter</span><span style=\"color: #000000; text-decoration-color: #000000; font-weight: bold\">(</span><span style=\"color: #c0c0c0; text-decoration-color: #c0c0c0\">                                                                                     │</span>\n",
       "<span style=\"color: #c0c0c0; text-decoration-color: #c0c0c0\">│ </span><span style=\"color: #000000; text-decoration-color: #000000\">            </span><span style=\"color: #808000; text-decoration-color: #808000\">property_name</span><span style=\"color: #000000; text-decoration-color: #000000\">=</span><span style=\"color: #008000; text-decoration-color: #008000\">'paper_type'</span><span style=\"color: #000000; text-decoration-color: #000000\">,</span><span style=\"color: #c0c0c0; text-decoration-color: #c0c0c0\">                                                                         │</span>\n",
       "<span style=\"color: #c0c0c0; text-decoration-color: #c0c0c0\">│ </span><span style=\"color: #000000; text-decoration-color: #000000\">            </span><span style=\"color: #808000; text-decoration-color: #808000\">operator</span><span style=\"color: #000000; text-decoration-color: #000000\">=&lt;ComparisonOperator.EQUALS: </span><span style=\"color: #008000; text-decoration-color: #008000\">'='</span><span style=\"color: #c0c0c0; text-decoration-color: #c0c0c0; font-weight: bold\">&gt;</span><span style=\"color: #c0c0c0; text-decoration-color: #c0c0c0\">,                                                          │</span>\n",
       "<span style=\"color: #c0c0c0; text-decoration-color: #c0c0c0\">│             </span><span style=\"color: #808000; text-decoration-color: #808000\">value</span><span style=\"color: #c0c0c0; text-decoration-color: #c0c0c0\">=</span><span style=\"color: #008000; text-decoration-color: #008000\">'model'</span><span style=\"color: #c0c0c0; text-decoration-color: #c0c0c0\">                                                                                       │</span>\n",
       "<span style=\"color: #c0c0c0; text-decoration-color: #c0c0c0\">│         </span><span style=\"color: #c0c0c0; text-decoration-color: #c0c0c0; font-weight: bold\">)</span><span style=\"color: #c0c0c0; text-decoration-color: #c0c0c0\">                                                                                                       │</span>\n",
       "<span style=\"color: #c0c0c0; text-decoration-color: #c0c0c0\">│     </span><span style=\"color: #c0c0c0; text-decoration-color: #c0c0c0; font-weight: bold\">]</span><span style=\"color: #c0c0c0; text-decoration-color: #c0c0c0\">,                                                                                                          │</span>\n",
       "<span style=\"color: #c0c0c0; text-decoration-color: #c0c0c0\">│     </span><span style=\"color: #808000; text-decoration-color: #808000\">collection</span><span style=\"color: #c0c0c0; text-decoration-color: #c0c0c0\">=</span><span style=\"color: #008000; text-decoration-color: #008000\">'ArxivPapersDemo'</span><span style=\"color: #c0c0c0; text-decoration-color: #c0c0c0\">                                                                                │</span>\n",
       "<span style=\"color: #c0c0c0; text-decoration-color: #c0c0c0\">│ </span><span style=\"color: #c0c0c0; text-decoration-color: #c0c0c0; font-weight: bold\">)</span><span style=\"color: #c0c0c0; text-decoration-color: #c0c0c0\">                                                                                                               │</span>\n",
       "<span style=\"color: #c0c0c0; text-decoration-color: #c0c0c0\">│                                                                                                                 │</span>\n",
       "<span style=\"color: #c0c0c0; text-decoration-color: #c0c0c0\">╰─────────────────────────────────────────────────────────────────────────────────────────────────────────────────╯</span>\n",
       "</pre>\n"
      ],
      "text/plain": [
       "\u001b[37m╭─\u001b[0m\u001b[37m───────────────────────────────────────────\u001b[0m 📊 Aggregations Run 1/1 \u001b[37m───────────────────────────────────────────\u001b[0m\u001b[37m─╮\u001b[0m\n",
       "\u001b[37m│\u001b[0m\u001b[37m                                                                                                                 \u001b[0m\u001b[37m│\u001b[0m\n",
       "\u001b[37m│\u001b[0m\u001b[37m \u001b[0m\u001b[1;35mAggregationResultWithCollection\u001b[0m\u001b[1;37m(\u001b[0m\u001b[37m                                                                               \u001b[0m\u001b[37m \u001b[0m\u001b[37m│\u001b[0m\n",
       "\u001b[37m│\u001b[0m\u001b[37m \u001b[0m\u001b[37m    \u001b[0m\u001b[33msearch_query\u001b[0m\u001b[37m=\u001b[0m\u001b[3;35mNone\u001b[0m\u001b[37m,\u001b[0m\u001b[37m                                                                                         \u001b[0m\u001b[37m \u001b[0m\u001b[37m│\u001b[0m\n",
       "\u001b[37m│\u001b[0m\u001b[37m \u001b[0m\u001b[37m    \u001b[0m\u001b[33mgroupby_property\u001b[0m\u001b[37m=\u001b[0m\u001b[3;35mNone\u001b[0m\u001b[37m,\u001b[0m\u001b[37m                                                                                     \u001b[0m\u001b[37m \u001b[0m\u001b[37m│\u001b[0m\n",
       "\u001b[37m│\u001b[0m\u001b[37m \u001b[0m\u001b[37m    \u001b[0m\u001b[33maggregations\u001b[0m\u001b[37m=\u001b[0m\u001b[1;37m[\u001b[0m\u001b[37m                                                                                             \u001b[0m\u001b[37m \u001b[0m\u001b[37m│\u001b[0m\n",
       "\u001b[37m│\u001b[0m\u001b[37m \u001b[0m\u001b[37m        \u001b[0m\u001b[1;35mIntegerPropertyAggregation\u001b[0m\u001b[1;37m(\u001b[0m\u001b[33mproperty_name\u001b[0m\u001b[37m=\u001b[0m\u001b[32m'paper_type'\u001b[0m\u001b[37m, \u001b[0m\u001b[33mmetrics\u001b[0m\u001b[37m=\u001b[0m\u001b[1;37m<\u001b[0m\u001b[1;95mNumericMetrics.COUNT:\u001b[0m\u001b[39m \u001b[0m\u001b[32m'COUNT'\u001b[0m\u001b[39m>\u001b[0m\u001b[1;39m)\u001b[0m\u001b[37m        \u001b[0m\u001b[37m \u001b[0m\u001b[37m│\u001b[0m\n",
       "\u001b[37m│\u001b[0m\u001b[37m \u001b[0m\u001b[39m    \u001b[0m\u001b[1;39m]\u001b[0m\u001b[39m,\u001b[0m\u001b[37m                                                                                                         \u001b[0m\u001b[37m \u001b[0m\u001b[37m│\u001b[0m\n",
       "\u001b[37m│\u001b[0m\u001b[37m \u001b[0m\u001b[39m    \u001b[0m\u001b[33mfilters\u001b[0m\u001b[39m=\u001b[0m\u001b[1;39m[\u001b[0m\u001b[37m                                                                                                  \u001b[0m\u001b[37m \u001b[0m\u001b[37m│\u001b[0m\n",
       "\u001b[37m│\u001b[0m\u001b[37m \u001b[0m\u001b[39m        \u001b[0m\u001b[1;35mTextPropertyFilter\u001b[0m\u001b[1;39m(\u001b[0m\u001b[37m                                                                                    \u001b[0m\u001b[37m \u001b[0m\u001b[37m│\u001b[0m\n",
       "\u001b[37m│\u001b[0m\u001b[37m \u001b[0m\u001b[39m            \u001b[0m\u001b[33mproperty_name\u001b[0m\u001b[39m=\u001b[0m\u001b[32m'paper_type'\u001b[0m\u001b[39m,\u001b[0m\u001b[37m                                                                        \u001b[0m\u001b[37m \u001b[0m\u001b[37m│\u001b[0m\n",
       "\u001b[37m│\u001b[0m\u001b[37m \u001b[0m\u001b[39m            \u001b[0m\u001b[33moperator\u001b[0m\u001b[39m=<ComparisonOperator.EQUALS: \u001b[0m\u001b[32m'='\u001b[0m\u001b[1;37m>\u001b[0m\u001b[37m,\u001b[0m\u001b[37m                                                         \u001b[0m\u001b[37m \u001b[0m\u001b[37m│\u001b[0m\n",
       "\u001b[37m│\u001b[0m\u001b[37m \u001b[0m\u001b[37m            \u001b[0m\u001b[33mvalue\u001b[0m\u001b[37m=\u001b[0m\u001b[32m'model'\u001b[0m\u001b[37m                                                                                      \u001b[0m\u001b[37m \u001b[0m\u001b[37m│\u001b[0m\n",
       "\u001b[37m│\u001b[0m\u001b[37m \u001b[0m\u001b[37m        \u001b[0m\u001b[1;37m)\u001b[0m\u001b[37m                                                                                                      \u001b[0m\u001b[37m \u001b[0m\u001b[37m│\u001b[0m\n",
       "\u001b[37m│\u001b[0m\u001b[37m \u001b[0m\u001b[37m    \u001b[0m\u001b[1;37m]\u001b[0m\u001b[37m,\u001b[0m\u001b[37m                                                                                                         \u001b[0m\u001b[37m \u001b[0m\u001b[37m│\u001b[0m\n",
       "\u001b[37m│\u001b[0m\u001b[37m \u001b[0m\u001b[37m    \u001b[0m\u001b[33mcollection\u001b[0m\u001b[37m=\u001b[0m\u001b[32m'ArxivPapersDemo'\u001b[0m\u001b[37m                                                                               \u001b[0m\u001b[37m \u001b[0m\u001b[37m│\u001b[0m\n",
       "\u001b[37m│\u001b[0m\u001b[37m \u001b[0m\u001b[1;37m)\u001b[0m\u001b[37m                                                                                                              \u001b[0m\u001b[37m \u001b[0m\u001b[37m│\u001b[0m\n",
       "\u001b[37m│\u001b[0m\u001b[37m                                                                                                                 \u001b[0m\u001b[37m│\u001b[0m\n",
       "\u001b[37m╰─────────────────────────────────────────────────────────────────────────────────────────────────────────────────╯\u001b[0m\n"
      ]
     },
     "metadata": {},
     "output_type": "display_data"
    },
    {
     "name": "stdout",
     "output_type": "stream",
     "text": [
      "\n",
      "\n"
     ]
    },
    {
     "data": {
      "text/html": [
       "<pre style=\"white-space:pre;overflow-x:auto;line-height:normal;font-family:Menlo,'DejaVu Sans Mono',consolas,'Courier New',monospace\"><span style=\"font-style: italic\">   📊 Usage Statistics   </span>\n",
       "┌────────────────┬──────┐\n",
       "│ LLM Requests:  │ 3    │\n",
       "│ Input Tokens:  │ 3449 │\n",
       "│ Output Tokens: │ 186  │\n",
       "│ Total Tokens:  │ 3635 │\n",
       "└────────────────┴──────┘\n",
       "</pre>\n"
      ],
      "text/plain": [
       "\u001b[3m   📊 Usage Statistics   \u001b[0m\n",
       "┌────────────────┬──────┐\n",
       "│ LLM Requests:  │ 3    │\n",
       "│ Input Tokens:  │ 3449 │\n",
       "│ Output Tokens: │ 186  │\n",
       "│ Total Tokens:  │ 3635 │\n",
       "└────────────────┴──────┘\n"
      ]
     },
     "metadata": {},
     "output_type": "display_data"
    },
    {
     "data": {
      "text/html": [
       "<pre style=\"white-space:pre;overflow-x:auto;line-height:normal;font-family:Menlo,'DejaVu Sans Mono',consolas,'Courier New',monospace\">\n",
       "<span style=\"color: #008080; text-decoration-color: #008080; font-weight: bold\">Total Time Taken:</span><span style=\"color: #008080; text-decoration-color: #008080\"> </span><span style=\"color: #008080; text-decoration-color: #008080; font-weight: bold\">5.</span><span style=\"color: #008080; text-decoration-color: #008080\">08s</span>\n",
       "</pre>\n"
      ],
      "text/plain": [
       "\n",
       "\u001b[1;36mTotal Time Taken:\u001b[0m\u001b[36m \u001b[0m\u001b[1;36m5.\u001b[0m\u001b[36m08s\u001b[0m\n"
      ]
     },
     "metadata": {},
     "output_type": "display_data"
    }
   ],
   "source": [
    "# Perform a query\n",
    "response = qa.run(\n",
    "    \"\"\"\n",
    "    How many papers are primarily about models?\n",
    "\n",
    "    Hint: There is a property called 'paper_type' where the available values are: 'survey', 'model', 'system', 'analysis', 'resource', 'other'.\n",
    "    \"\"\"\n",
    ")\n",
    "\n",
    "# Print the response\n",
    "response.display()"
   ]
  },
  {
   "cell_type": "markdown",
   "metadata": {},
   "source": [
    "We can even ask it follow-up queries:"
   ]
  },
  {
   "cell_type": "code",
   "execution_count": 40,
   "metadata": {},
   "outputs": [
    {
     "data": {
      "text/html": [
       "<pre style=\"white-space:pre;overflow-x:auto;line-height:normal;font-family:Menlo,'DejaVu Sans Mono',consolas,'Courier New',monospace\">╭─────────────────────────────────────────────── 🔍 Original Query ───────────────────────────────────────────────╮\n",
       "│                                                                                                                 │\n",
       "│ Can you select one or two of these papers and explain them in simple terms? I am not a data scientist.          │\n",
       "│                                                                                                                 │\n",
       "╰─────────────────────────────────────────────────────────────────────────────────────────────────────────────────╯\n",
       "</pre>\n"
      ],
      "text/plain": [
       "╭─────────────────────────────────────────────── 🔍 Original Query ───────────────────────────────────────────────╮\n",
       "│                                                                                                                 │\n",
       "│ Can you select one or two of these papers and explain them in simple terms? I am not a data scientist.          │\n",
       "│                                                                                                                 │\n",
       "╰─────────────────────────────────────────────────────────────────────────────────────────────────────────────────╯\n"
      ]
     },
     "metadata": {},
     "output_type": "display_data"
    },
    {
     "data": {
      "text/html": [
       "<pre style=\"white-space:pre;overflow-x:auto;line-height:normal;font-family:Menlo,'DejaVu Sans Mono',consolas,'Courier New',monospace\"><span style=\"color: #008080; text-decoration-color: #008080\">╭────────────────────────────────────────────────</span> 📝 Final Answer <span style=\"color: #008080; text-decoration-color: #008080\">────────────────────────────────────────────────╮</span>\n",
       "<span style=\"color: #008080; text-decoration-color: #008080\">│                                                                                                                 │</span>\n",
       "<span style=\"color: #008080; text-decoration-color: #008080\">│ Unfortunately, there are no detailed descriptions available for individual papers about models included in the  │</span>\n",
       "<span style=\"color: #008080; text-decoration-color: #008080\">│ data. While we know there are 32 papers primarily focused on models, we lack specific summaries or explanations │</span>\n",
       "<span style=\"color: #008080; text-decoration-color: #008080\">│ of any particular papers from this set. More information or access to the full papers would be needed to        │</span>\n",
       "<span style=\"color: #008080; text-decoration-color: #008080\">│ provide a detailed and simplified explanation suited for a non-expert.                                          │</span>\n",
       "<span style=\"color: #008080; text-decoration-color: #008080\">│                                                                                                                 │</span>\n",
       "<span style=\"color: #008080; text-decoration-color: #008080\">╰─────────────────────────────────────────────────────────────────────────────────────────────────────────────────╯</span>\n",
       "</pre>\n"
      ],
      "text/plain": [
       "\u001b[36m╭─\u001b[0m\u001b[36m───────────────────────────────────────────────\u001b[0m 📝 Final Answer \u001b[36m───────────────────────────────────────────────\u001b[0m\u001b[36m─╮\u001b[0m\n",
       "\u001b[36m│\u001b[0m\u001b[36m                                                                                                                 \u001b[0m\u001b[36m│\u001b[0m\n",
       "\u001b[36m│\u001b[0m\u001b[36m \u001b[0m\u001b[36mUnfortunately, there are no detailed descriptions available for individual papers about models included in the \u001b[0m\u001b[36m \u001b[0m\u001b[36m│\u001b[0m\n",
       "\u001b[36m│\u001b[0m\u001b[36m \u001b[0m\u001b[36mdata. While we know there are 32 papers primarily focused on models, we lack specific summaries or explanations\u001b[0m\u001b[36m \u001b[0m\u001b[36m│\u001b[0m\n",
       "\u001b[36m│\u001b[0m\u001b[36m \u001b[0m\u001b[36mof any particular papers from this set. More information or access to the full papers would be needed to \u001b[0m\u001b[36m      \u001b[0m\u001b[36m \u001b[0m\u001b[36m│\u001b[0m\n",
       "\u001b[36m│\u001b[0m\u001b[36m \u001b[0m\u001b[36mprovide a detailed and simplified explanation suited for a non-expert.\u001b[0m\u001b[36m                                         \u001b[0m\u001b[36m \u001b[0m\u001b[36m│\u001b[0m\n",
       "\u001b[36m│\u001b[0m\u001b[36m                                                                                                                 \u001b[0m\u001b[36m│\u001b[0m\n",
       "\u001b[36m╰─────────────────────────────────────────────────────────────────────────────────────────────────────────────────╯\u001b[0m\n"
      ]
     },
     "metadata": {},
     "output_type": "display_data"
    },
    {
     "data": {
      "text/html": [
       "<pre style=\"white-space:pre;overflow-x:auto;line-height:normal;font-family:Menlo,'DejaVu Sans Mono',consolas,'Courier New',monospace\"><span style=\"color: #c0c0c0; text-decoration-color: #c0c0c0\">╭───────────────────────────────────────────</span> 🔭 Searches Executed 1/1 <span style=\"color: #c0c0c0; text-decoration-color: #c0c0c0\">────────────────────────────────────────────╮</span>\n",
       "<span style=\"color: #c0c0c0; text-decoration-color: #c0c0c0\">│                                                                                                                 │</span>\n",
       "<span style=\"color: #c0c0c0; text-decoration-color: #c0c0c0\">│ </span><span style=\"color: #800080; text-decoration-color: #800080; font-weight: bold\">QueryResultWithCollection</span><span style=\"color: #c0c0c0; text-decoration-color: #c0c0c0; font-weight: bold\">(</span><span style=\"color: #c0c0c0; text-decoration-color: #c0c0c0\">                                                                                      │</span>\n",
       "<span style=\"color: #c0c0c0; text-decoration-color: #c0c0c0\">│     </span><span style=\"color: #808000; text-decoration-color: #808000\">queries</span><span style=\"color: #c0c0c0; text-decoration-color: #c0c0c0\">=</span><span style=\"color: #c0c0c0; text-decoration-color: #c0c0c0; font-weight: bold\">[</span><span style=\"color: #008000; text-decoration-color: #008000\">'models'</span><span style=\"color: #c0c0c0; text-decoration-color: #c0c0c0; font-weight: bold\">]</span><span style=\"color: #c0c0c0; text-decoration-color: #c0c0c0\">,                                                                                         │</span>\n",
       "<span style=\"color: #c0c0c0; text-decoration-color: #c0c0c0\">│     </span><span style=\"color: #808000; text-decoration-color: #808000\">filters</span><span style=\"color: #c0c0c0; text-decoration-color: #c0c0c0\">=</span><span style=\"color: #c0c0c0; text-decoration-color: #c0c0c0; font-weight: bold\">[</span><span style=\"color: #c0c0c0; text-decoration-color: #c0c0c0\">                                                                                                   │</span>\n",
       "<span style=\"color: #c0c0c0; text-decoration-color: #c0c0c0\">│         </span><span style=\"color: #c0c0c0; text-decoration-color: #c0c0c0; font-weight: bold\">[</span><span style=\"color: #c0c0c0; text-decoration-color: #c0c0c0\">                                                                                                       │</span>\n",
       "<span style=\"color: #c0c0c0; text-decoration-color: #c0c0c0\">│             </span><span style=\"color: #800080; text-decoration-color: #800080; font-weight: bold\">TextPropertyFilter</span><span style=\"color: #c0c0c0; text-decoration-color: #c0c0c0; font-weight: bold\">(</span><span style=\"color: #c0c0c0; text-decoration-color: #c0c0c0\">                                                                                 │</span>\n",
       "<span style=\"color: #c0c0c0; text-decoration-color: #c0c0c0\">│                 </span><span style=\"color: #808000; text-decoration-color: #808000\">property_name</span><span style=\"color: #c0c0c0; text-decoration-color: #c0c0c0\">=</span><span style=\"color: #008000; text-decoration-color: #008000\">'paper_type'</span><span style=\"color: #c0c0c0; text-decoration-color: #c0c0c0\">,                                                                     │</span>\n",
       "<span style=\"color: #c0c0c0; text-decoration-color: #c0c0c0\">│                 </span><span style=\"color: #808000; text-decoration-color: #808000\">operator</span><span style=\"color: #c0c0c0; text-decoration-color: #c0c0c0\">=</span><span style=\"color: #c0c0c0; text-decoration-color: #c0c0c0; font-weight: bold\">&lt;</span><span style=\"color: #ff00ff; text-decoration-color: #ff00ff; font-weight: bold\">ComparisonOperator.EQUALS:</span><span style=\"color: #000000; text-decoration-color: #000000\"> </span><span style=\"color: #008000; text-decoration-color: #008000\">'='</span><span style=\"color: #c0c0c0; text-decoration-color: #c0c0c0; font-weight: bold\">&gt;</span><span style=\"color: #c0c0c0; text-decoration-color: #c0c0c0\">,                                                      │</span>\n",
       "<span style=\"color: #c0c0c0; text-decoration-color: #c0c0c0\">│                 </span><span style=\"color: #808000; text-decoration-color: #808000\">value</span><span style=\"color: #c0c0c0; text-decoration-color: #c0c0c0\">=</span><span style=\"color: #008000; text-decoration-color: #008000\">'models'</span><span style=\"color: #c0c0c0; text-decoration-color: #c0c0c0\">                                                                                  │</span>\n",
       "<span style=\"color: #c0c0c0; text-decoration-color: #c0c0c0\">│             </span><span style=\"color: #c0c0c0; text-decoration-color: #c0c0c0; font-weight: bold\">)</span><span style=\"color: #c0c0c0; text-decoration-color: #c0c0c0\">                                                                                                   │</span>\n",
       "<span style=\"color: #c0c0c0; text-decoration-color: #c0c0c0\">│         </span><span style=\"color: #c0c0c0; text-decoration-color: #c0c0c0; font-weight: bold\">]</span><span style=\"color: #c0c0c0; text-decoration-color: #c0c0c0\">                                                                                                       │</span>\n",
       "<span style=\"color: #c0c0c0; text-decoration-color: #c0c0c0\">│     </span><span style=\"color: #c0c0c0; text-decoration-color: #c0c0c0; font-weight: bold\">]</span><span style=\"color: #c0c0c0; text-decoration-color: #c0c0c0\">,                                                                                                          │</span>\n",
       "<span style=\"color: #c0c0c0; text-decoration-color: #c0c0c0\">│     </span><span style=\"color: #808000; text-decoration-color: #808000\">filter_operators</span><span style=\"color: #c0c0c0; text-decoration-color: #c0c0c0\">=</span><span style=\"color: #008000; text-decoration-color: #008000\">'AND'</span><span style=\"color: #c0c0c0; text-decoration-color: #c0c0c0\">,                                                                                     │</span>\n",
       "<span style=\"color: #c0c0c0; text-decoration-color: #c0c0c0\">│     </span><span style=\"color: #808000; text-decoration-color: #808000\">collection</span><span style=\"color: #c0c0c0; text-decoration-color: #c0c0c0\">=</span><span style=\"color: #008000; text-decoration-color: #008000\">'ArxivPapersDemo'</span><span style=\"color: #c0c0c0; text-decoration-color: #c0c0c0\">                                                                                │</span>\n",
       "<span style=\"color: #c0c0c0; text-decoration-color: #c0c0c0\">│ </span><span style=\"color: #c0c0c0; text-decoration-color: #c0c0c0; font-weight: bold\">)</span><span style=\"color: #c0c0c0; text-decoration-color: #c0c0c0\">                                                                                                               │</span>\n",
       "<span style=\"color: #c0c0c0; text-decoration-color: #c0c0c0\">│                                                                                                                 │</span>\n",
       "<span style=\"color: #c0c0c0; text-decoration-color: #c0c0c0\">╰─────────────────────────────────────────────────────────────────────────────────────────────────────────────────╯</span>\n",
       "</pre>\n"
      ],
      "text/plain": [
       "\u001b[37m╭─\u001b[0m\u001b[37m──────────────────────────────────────────\u001b[0m 🔭 Searches Executed 1/1 \u001b[37m───────────────────────────────────────────\u001b[0m\u001b[37m─╮\u001b[0m\n",
       "\u001b[37m│\u001b[0m\u001b[37m                                                                                                                 \u001b[0m\u001b[37m│\u001b[0m\n",
       "\u001b[37m│\u001b[0m\u001b[37m \u001b[0m\u001b[1;35mQueryResultWithCollection\u001b[0m\u001b[1;37m(\u001b[0m\u001b[37m                                                                                     \u001b[0m\u001b[37m \u001b[0m\u001b[37m│\u001b[0m\n",
       "\u001b[37m│\u001b[0m\u001b[37m \u001b[0m\u001b[37m    \u001b[0m\u001b[33mqueries\u001b[0m\u001b[37m=\u001b[0m\u001b[1;37m[\u001b[0m\u001b[32m'models'\u001b[0m\u001b[1;37m]\u001b[0m\u001b[37m,\u001b[0m\u001b[37m                                                                                        \u001b[0m\u001b[37m \u001b[0m\u001b[37m│\u001b[0m\n",
       "\u001b[37m│\u001b[0m\u001b[37m \u001b[0m\u001b[37m    \u001b[0m\u001b[33mfilters\u001b[0m\u001b[37m=\u001b[0m\u001b[1;37m[\u001b[0m\u001b[37m                                                                                                  \u001b[0m\u001b[37m \u001b[0m\u001b[37m│\u001b[0m\n",
       "\u001b[37m│\u001b[0m\u001b[37m \u001b[0m\u001b[37m        \u001b[0m\u001b[1;37m[\u001b[0m\u001b[37m                                                                                                      \u001b[0m\u001b[37m \u001b[0m\u001b[37m│\u001b[0m\n",
       "\u001b[37m│\u001b[0m\u001b[37m \u001b[0m\u001b[37m            \u001b[0m\u001b[1;35mTextPropertyFilter\u001b[0m\u001b[1;37m(\u001b[0m\u001b[37m                                                                                \u001b[0m\u001b[37m \u001b[0m\u001b[37m│\u001b[0m\n",
       "\u001b[37m│\u001b[0m\u001b[37m \u001b[0m\u001b[37m                \u001b[0m\u001b[33mproperty_name\u001b[0m\u001b[37m=\u001b[0m\u001b[32m'paper_type'\u001b[0m\u001b[37m,\u001b[0m\u001b[37m                                                                    \u001b[0m\u001b[37m \u001b[0m\u001b[37m│\u001b[0m\n",
       "\u001b[37m│\u001b[0m\u001b[37m \u001b[0m\u001b[37m                \u001b[0m\u001b[33moperator\u001b[0m\u001b[37m=\u001b[0m\u001b[1;37m<\u001b[0m\u001b[1;95mComparisonOperator.EQUALS:\u001b[0m\u001b[39m \u001b[0m\u001b[32m'='\u001b[0m\u001b[1;37m>\u001b[0m\u001b[37m,\u001b[0m\u001b[37m                                                     \u001b[0m\u001b[37m \u001b[0m\u001b[37m│\u001b[0m\n",
       "\u001b[37m│\u001b[0m\u001b[37m \u001b[0m\u001b[37m                \u001b[0m\u001b[33mvalue\u001b[0m\u001b[37m=\u001b[0m\u001b[32m'models'\u001b[0m\u001b[37m                                                                                 \u001b[0m\u001b[37m \u001b[0m\u001b[37m│\u001b[0m\n",
       "\u001b[37m│\u001b[0m\u001b[37m \u001b[0m\u001b[37m            \u001b[0m\u001b[1;37m)\u001b[0m\u001b[37m                                                                                                  \u001b[0m\u001b[37m \u001b[0m\u001b[37m│\u001b[0m\n",
       "\u001b[37m│\u001b[0m\u001b[37m \u001b[0m\u001b[37m        \u001b[0m\u001b[1;37m]\u001b[0m\u001b[37m                                                                                                      \u001b[0m\u001b[37m \u001b[0m\u001b[37m│\u001b[0m\n",
       "\u001b[37m│\u001b[0m\u001b[37m \u001b[0m\u001b[37m    \u001b[0m\u001b[1;37m]\u001b[0m\u001b[37m,\u001b[0m\u001b[37m                                                                                                         \u001b[0m\u001b[37m \u001b[0m\u001b[37m│\u001b[0m\n",
       "\u001b[37m│\u001b[0m\u001b[37m \u001b[0m\u001b[37m    \u001b[0m\u001b[33mfilter_operators\u001b[0m\u001b[37m=\u001b[0m\u001b[32m'AND'\u001b[0m\u001b[37m,\u001b[0m\u001b[37m                                                                                    \u001b[0m\u001b[37m \u001b[0m\u001b[37m│\u001b[0m\n",
       "\u001b[37m│\u001b[0m\u001b[37m \u001b[0m\u001b[37m    \u001b[0m\u001b[33mcollection\u001b[0m\u001b[37m=\u001b[0m\u001b[32m'ArxivPapersDemo'\u001b[0m\u001b[37m                                                                               \u001b[0m\u001b[37m \u001b[0m\u001b[37m│\u001b[0m\n",
       "\u001b[37m│\u001b[0m\u001b[37m \u001b[0m\u001b[1;37m)\u001b[0m\u001b[37m                                                                                                              \u001b[0m\u001b[37m \u001b[0m\u001b[37m│\u001b[0m\n",
       "\u001b[37m│\u001b[0m\u001b[37m                                                                                                                 \u001b[0m\u001b[37m│\u001b[0m\n",
       "\u001b[37m╰─────────────────────────────────────────────────────────────────────────────────────────────────────────────────╯\u001b[0m\n"
      ]
     },
     "metadata": {},
     "output_type": "display_data"
    },
    {
     "data": {
      "text/html": [
       "<pre style=\"white-space:pre;overflow-x:auto;line-height:normal;font-family:Menlo,'DejaVu Sans Mono',consolas,'Courier New',monospace\"><span style=\"color: #d75f5f; text-decoration-color: #d75f5f\">╭─────────────────────────────────────────────────────────────────────────────────────────────────────────────────╮</span>\n",
       "<span style=\"color: #d75f5f; text-decoration-color: #d75f5f\">│                                                                                                                 │</span>\n",
       "<span style=\"color: #d75f5f; text-decoration-color: #d75f5f\">│ 📊 No Aggregations Run                                                                                          │</span>\n",
       "<span style=\"color: #d75f5f; text-decoration-color: #d75f5f\">│                                                                                                                 │</span>\n",
       "<span style=\"color: #d75f5f; text-decoration-color: #d75f5f\">╰─────────────────────────────────────────────────────────────────────────────────────────────────────────────────╯</span>\n",
       "</pre>\n"
      ],
      "text/plain": [
       "\u001b[38;5;167m╭─────────────────────────────────────────────────────────────────────────────────────────────────────────────────╮\u001b[0m\n",
       "\u001b[38;5;167m│\u001b[0m\u001b[38;5;167m                                                                                                                 \u001b[0m\u001b[38;5;167m│\u001b[0m\n",
       "\u001b[38;5;167m│\u001b[0m\u001b[38;5;167m \u001b[0m\u001b[38;5;167m📊 No Aggregations Run\u001b[0m\u001b[38;5;167m                                                                                         \u001b[0m\u001b[38;5;167m \u001b[0m\u001b[38;5;167m│\u001b[0m\n",
       "\u001b[38;5;167m│\u001b[0m\u001b[38;5;167m                                                                                                                 \u001b[0m\u001b[38;5;167m│\u001b[0m\n",
       "\u001b[38;5;167m╰─────────────────────────────────────────────────────────────────────────────────────────────────────────────────╯\u001b[0m\n"
      ]
     },
     "metadata": {},
     "output_type": "display_data"
    },
    {
     "data": {
      "text/html": [
       "<pre style=\"white-space:pre;overflow-x:auto;line-height:normal;font-family:Menlo,'DejaVu Sans Mono',consolas,'Courier New',monospace\"><span style=\"color: #808000; text-decoration-color: #808000\">╭──────────────────────────────────</span> ⚠️ Answer is Partial - Missing Information: <span style=\"color: #808000; text-decoration-color: #808000\">───────────────────────────────────╮</span>\n",
       "<span style=\"color: #808000; text-decoration-color: #808000\">│                                                                                                                 │</span>\n",
       "<span style=\"color: #808000; text-decoration-color: #808000\">│ - Specific descriptions or summaries of individual papers classified as 'models'.                               │</span>\n",
       "<span style=\"color: #808000; text-decoration-color: #808000\">│                                                                                                                 │</span>\n",
       "<span style=\"color: #808000; text-decoration-color: #808000\">╰─────────────────────────────────────────────────────────────────────────────────────────────────────────────────╯</span>\n",
       "</pre>\n"
      ],
      "text/plain": [
       "\u001b[33m╭─\u001b[0m\u001b[33m─────────────────────────────────\u001b[0m ⚠️ Answer is Partial - Missing Information: \u001b[33m──────────────────────────────────\u001b[0m\u001b[33m─╮\u001b[0m\n",
       "\u001b[33m│\u001b[0m\u001b[33m                                                                                                                 \u001b[0m\u001b[33m│\u001b[0m\n",
       "\u001b[33m│\u001b[0m\u001b[33m \u001b[0m\u001b[33m- Specific descriptions or summaries of individual papers classified as 'models'.\u001b[0m\u001b[33m                              \u001b[0m\u001b[33m \u001b[0m\u001b[33m│\u001b[0m\n",
       "\u001b[33m│\u001b[0m\u001b[33m                                                                                                                 \u001b[0m\u001b[33m│\u001b[0m\n",
       "\u001b[33m╰─────────────────────────────────────────────────────────────────────────────────────────────────────────────────╯\u001b[0m\n"
      ]
     },
     "metadata": {},
     "output_type": "display_data"
    },
    {
     "name": "stdout",
     "output_type": "stream",
     "text": [
      "\n",
      "\n"
     ]
    },
    {
     "data": {
      "text/html": [
       "<pre style=\"white-space:pre;overflow-x:auto;line-height:normal;font-family:Menlo,'DejaVu Sans Mono',consolas,'Courier New',monospace\"><span style=\"font-style: italic\">   📊 Usage Statistics   </span>\n",
       "┌────────────────┬──────┐\n",
       "│ LLM Requests:  │ 4    │\n",
       "│ Input Tokens:  │ 4463 │\n",
       "│ Output Tokens: │ 403  │\n",
       "│ Total Tokens:  │ 4866 │\n",
       "└────────────────┴──────┘\n",
       "</pre>\n"
      ],
      "text/plain": [
       "\u001b[3m   📊 Usage Statistics   \u001b[0m\n",
       "┌────────────────┬──────┐\n",
       "│ LLM Requests:  │ 4    │\n",
       "│ Input Tokens:  │ 4463 │\n",
       "│ Output Tokens: │ 403  │\n",
       "│ Total Tokens:  │ 4866 │\n",
       "└────────────────┴──────┘\n"
      ]
     },
     "metadata": {},
     "output_type": "display_data"
    },
    {
     "data": {
      "text/html": [
       "<pre style=\"white-space:pre;overflow-x:auto;line-height:normal;font-family:Menlo,'DejaVu Sans Mono',consolas,'Courier New',monospace\">\n",
       "<span style=\"color: #008080; text-decoration-color: #008080; font-weight: bold\">Total Time Taken:</span><span style=\"color: #008080; text-decoration-color: #008080\"> </span><span style=\"color: #008080; text-decoration-color: #008080; font-weight: bold\">10.</span><span style=\"color: #008080; text-decoration-color: #008080\">23s</span>\n",
       "</pre>\n"
      ],
      "text/plain": [
       "\n",
       "\u001b[1;36mTotal Time Taken:\u001b[0m\u001b[36m \u001b[0m\u001b[1;36m10.\u001b[0m\u001b[36m23s\u001b[0m\n"
      ]
     },
     "metadata": {},
     "output_type": "display_data"
    }
   ],
   "source": [
    "followup_response = qa.run(\n",
    "    query=\"Can you select one or two of these papers and explain them in simple terms? I am not a data scientist.\", context=response\n",
    ")\n",
    "\n",
    "followup_response.display()"
   ]
  },
  {
   "cell_type": "markdown",
   "metadata": {},
   "source": [
    "Read more about the [Query Agent](https://weaviate.io/blog/query-agent) on our blog."
   ]
  },
  {
   "cell_type": "markdown",
   "metadata": {},
   "source": [
    "## Bonus: Current limitations"
   ]
  },
  {
   "cell_type": "markdown",
   "metadata": {},
   "source": [
    "Remember that the Transformation Agent is being asked to update data objects for us. So, be very careful with the instructions you provide.\n",
    "\n",
    "And currently, it is in technical preview. Do not use it in a production environment (*yet* 😉).\n",
    "\n",
    "- Do not run multiple agents at the same time - this can cause conflicts (race conditions).\n",
    "- There is a limit of 10,000 operations per day per Weaviate Cloud organization."
   ]
  },
  {
   "cell_type": "code",
   "execution_count": 41,
   "metadata": {},
   "outputs": [
    {
     "data": {
      "text/plain": [
       "5"
      ]
     },
     "execution_count": 41,
     "metadata": {},
     "output_type": "execute_result"
    }
   ],
   "source": [
    "from weaviate.classes.config import Configure, Property, DataType\n",
    "\n",
    "collection_name = \"ArxivPapersDemo\"\n",
    "\n",
    "# Can delete the collection if you would like to (re)start fresh\n",
    "client.collections.delete(collection_name)\n",
    "\n",
    "client.collections.create(\n",
    "    collection_name,\n",
    "    description=\"A dataset that lists research paper titles and abstracts\",\n",
    "    properties=[\n",
    "        Property(name=\"title\", data_type=DataType.TEXT),\n",
    "        Property(name=\"abstract\", data_type=DataType.TEXT),\n",
    "    ],\n",
    "    vectorizer_config=[\n",
    "        Configure.NamedVectors.text2vec_weaviate(\n",
    "            name=\"default\",\n",
    "            source_properties=[\"title\", \"abstract\"],\n",
    "        )\n",
    "    ]\n",
    ")\n",
    "\n",
    "papers_collection = client.collections.get(collection_name)\n",
    "columns = papers_dataset[0][\"properties\"].keys()\n",
    "\n",
    "with papers_collection.batch.fixed_size(100) as batch:\n",
    "    for i, item in enumerate(papers_dataset):\n",
    "        if i < 5:\n",
    "            properties = {col: item[\"properties\"][col] for col in columns}\n",
    "            batch.add_object(properties=properties)\n",
    "\n",
    "\n",
    "if papers_collection.batch.failed_objects:\n",
    "    for fo in papers_collection.batch.failed_objects[:3]:\n",
    "        print(fo.message)\n",
    "        print(fo.object_)\n",
    "\n",
    "len(papers_collection)"
   ]
  },
  {
   "cell_type": "code",
   "execution_count": 42,
   "metadata": {},
   "outputs": [
    {
     "name": "stdout",
     "output_type": "stream",
     "text": [
      "[TransformationResponse(workflow_id='TransformationWorkflow-4564ffc201eefcca5145f209ce744ef8'), TransformationResponse(workflow_id='TransformationWorkflow-0608e9ce0bd8881674b282cc4ccf8813'), TransformationResponse(workflow_id='TransformationWorkflow-9719ea0dcbab0ae71700d257fe1df73a')]\n"
     ]
    }
   ],
   "source": [
    "from weaviate.agents.transformation import TransformationAgent\n",
    "\n",
    "responses = []\n",
    "new_languages = [\"spanish\", \"german\", \"italian\"]\n",
    "\n",
    "for lang in new_languages:\n",
    "\n",
    "    prompt_task = f\"\"\"\n",
    "    Create a {lang} version of the abstract\n",
    "    \"\"\"\n",
    "\n",
    "    task = Operations.append_property(\n",
    "        property_name=f\"test_{lang}_abstract\",\n",
    "        data_type=DataType.TEXT,\n",
    "        view_properties=[\"abstract\"],\n",
    "        instruction=prompt_task,\n",
    "    )\n",
    "\n",
    "    ta = TransformationAgent(\n",
    "        client=client,\n",
    "        collection=collection_name,\n",
    "        operations=[task],\n",
    "    )\n",
    "\n",
    "    ta_response = ta.update_all()\n",
    "    responses.append(ta_response)\n",
    "\n",
    "print(responses)"
   ]
  },
  {
   "cell_type": "code",
   "execution_count": 43,
   "metadata": {},
   "outputs": [
    {
     "name": "stdout",
     "output_type": "stream",
     "text": [
      "Waiting... Elapsed time: 4.12 seconds\n",
      "Total time: 12.08 seconds\n",
      "{'workflow_id': 'TransformationWorkflow-4564ffc201eefcca5145f209ce744ef8', 'status': {'batch_count': 1, 'end_time': '2025-03-25 15:49:28', 'start_time': '2025-03-25 15:49:16', 'state': 'completed', 'total_duration': 12.080793, 'total_items': 5}}\n",
      "Total time: 14.09 seconds\n",
      "{'workflow_id': 'TransformationWorkflow-0608e9ce0bd8881674b282cc4ccf8813', 'status': {'batch_count': 1, 'end_time': '2025-03-25 15:49:32', 'start_time': '2025-03-25 15:49:18', 'state': 'completed', 'total_duration': 14.088394, 'total_items': 5}}\n",
      "Total time: 14.15 seconds\n",
      "{'workflow_id': 'TransformationWorkflow-9719ea0dcbab0ae71700d257fe1df73a', 'status': {'batch_count': 1, 'end_time': '2025-03-25 15:49:33', 'start_time': '2025-03-25 15:49:19', 'state': 'completed', 'total_duration': 14.148659, 'total_items': 5}}\n"
     ]
    }
   ],
   "source": [
    "for r in responses:\n",
    "    get_ta_status(agent_instance=ta, workflow_id=r.workflow_id)"
   ]
  },
  {
   "cell_type": "markdown",
   "metadata": {},
   "source": [
    "If these operations worked perfectly, all objects should have all new properties (`test_spanish_abstract`, `test_german_abstract`, `test_italian_abstract`). "
   ]
  },
  {
   "cell_type": "code",
   "execution_count": 48,
   "metadata": {},
   "outputs": [
    {
     "name": "stdout",
     "output_type": "stream",
     "text": [
      "Found property: abstract in object UUID: 3a80e1d0-98a1-4bda-81ae-84e5877460ba\n",
      "Found property: title in object UUID: 3a80e1d0-98a1-4bda-81ae-84e5877460ba\n",
      "Found property: test_german_abstract in object UUID: 3a80e1d0-98a1-4bda-81ae-84e5877460ba\n",
      "Found property: test_spanish_abstract in object UUID: 3a80e1d0-98a1-4bda-81ae-84e5877460ba\n",
      "Found property: test_italian_abstract in object UUID: 3a80e1d0-98a1-4bda-81ae-84e5877460ba\n",
      "\n",
      "Now checking for empty properties...\n",
      "Property test_german_abstract is empty in object UUID: 8df29147-d56c-4fd9-8ed2-73442e10d368\n",
      "Property test_spanish_abstract is empty in object UUID: 8df29147-d56c-4fd9-8ed2-73442e10d368\n",
      "Property test_german_abstract is empty in object UUID: 9e8a9082-5931-4523-b021-2cd9141343f2\n"
     ]
    }
   ],
   "source": [
    "response = papers_collection.query.fetch_objects(\n",
    "    limit=50\n",
    ")\n",
    "\n",
    "properties = []\n",
    "for o in response.objects:\n",
    "    for p in o.properties:\n",
    "        if p not in properties:\n",
    "            properties.append(p)\n",
    "            print(f\"Found property: {p} in object UUID: {o.uuid}\")\n",
    "\n",
    "print(\"\\nNow checking for empty properties...\")\n",
    "for o in response.objects:\n",
    "    for p in properties:\n",
    "        if o.properties[p] is None or o.properties[p] == \"\":\n",
    "            print(f\"Property {p} is empty in object UUID: {o.uuid}\")"
   ]
  },
  {
   "cell_type": "markdown",
   "metadata": {},
   "source": [
    "But since we have very few objects, multiple objects worked on the same object at the same time. \n",
    "\n",
    "This shouldn't happen much in a real-world scenario, but it's something to keep in mind."
   ]
  },
  {
   "cell_type": "markdown",
   "metadata": {},
   "source": [
    "## Further resources\n",
    "\n",
    "- Blog: [\"Introducing the Weaviate Transformation Agent\"](https://weaviate.io/blog/transformation-agent)\n",
    "- Documentation: [Weaviate Transformation Agent](https://weaviate.io/developers/agents/transformation)"
   ]
  }
 ],
 "metadata": {
  "kernelspec": {
   "display_name": ".venv",
   "language": "python",
   "name": "python3"
  },
  "language_info": {
   "codemirror_mode": {
    "name": "ipython",
    "version": 3
   },
   "file_extension": ".py",
   "mimetype": "text/x-python",
   "name": "python",
   "nbconvert_exporter": "python",
   "pygments_lexer": "ipython3",
   "version": "3.12.4"
  }
 },
 "nbformat": 4,
 "nbformat_minor": 2
}
