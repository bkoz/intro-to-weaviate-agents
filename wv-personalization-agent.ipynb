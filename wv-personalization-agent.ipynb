{
 "cells": [
  {
   "cell_type": "markdown",
   "id": "68734366",
   "metadata": {},
   "source": [
    "# Personalization Agent Demo\n",
    "\n",
    "## Connect to the Weaviate Cloud instance\n",
    "\n",
    "> Reminder: Weaviate Agents are only available for Weaviate Cloud instances.\n",
    "\n",
    "Connect to your Weaviate instance, using credentials from the Weaviate Cloud console. Here, they are loaded from the `.env` file."
   ]
  },
  {
   "cell_type": "code",
   "execution_count": 1,
   "id": "ed1a937d",
   "metadata": {},
   "outputs": [],
   "source": [
    "from dotenv import load_dotenv\n",
    "import weaviate\n",
    "import os\n",
    "\n",
    "load_dotenv()\n",
    "\n",
    "weaviate_url = os.getenv(\"WEAVIATE_URL\")\n",
    "weaviate_api_key = os.getenv(\"WEAVIATE_API_KEY\")\n",
    "\n",
    "client = weaviate.connect_to_weaviate_cloud(\n",
    "    cluster_url=weaviate_url,\n",
    "    auth_credentials=weaviate_api_key,\n",
    ")\n",
    "\n",
    "assert client.is_ready()"
   ]
  },
  {
   "cell_type": "markdown",
   "id": "a64a5c7b",
   "metadata": {},
   "source": [
    "## Connect to the Personalization Agent\n",
    "\n",
    "You can initialize the Personalization Agent, or connect to an existing one, as shown below."
   ]
  },
  {
   "cell_type": "code",
   "execution_count": 2,
   "id": "fa8e11c4",
   "metadata": {},
   "outputs": [],
   "source": [
    "from weaviate.agents.personalization import PersonalizationAgent\n",
    "from weaviate.classes.config import DataType\n",
    "\n",
    "collection_name = \"Movie\"\n",
    "\n",
    "if PersonalizationAgent.exists(client, collection_name):\n",
    "    pa = PersonalizationAgent.connect(\n",
    "        client=client,\n",
    "        reference_collection=collection_name,\n",
    "        vector_name=\"default\",\n",
    "    )\n",
    "else:\n",
    "    pa = PersonalizationAgent.create(\n",
    "        client=client,\n",
    "        reference_collection=collection_name,\n",
    "        vector_name=\"default\",\n",
    "        user_properties={\n",
    "            \"age\": DataType.NUMBER,\n",
    "            \"favorite_genres\": DataType.TEXT_ARRAY,\n",
    "            \"favorite_years\": DataType.NUMBER_ARRAY,\n",
    "            \"language\": DataType.TEXT,\n",
    "        },\n",
    "    )"
   ]
  },
  {
   "cell_type": "markdown",
   "id": "2e6b1ef1",
   "metadata": {},
   "source": [
    "## Create a persona\n",
    "\n",
    "A \"persona\" is where the agent stores its knowledge about a user. You can add a persona or use an existing one. "
   ]
  },
  {
   "cell_type": "code",
   "execution_count": 3,
   "id": "0e8b5cca",
   "metadata": {},
   "outputs": [
    {
     "name": "stdout",
     "output_type": "stream",
     "text": [
      "Creating new persona with ID 2fb2f796-8f16-5dc9-8e5d-c285a92a9dac.\n"
     ]
    }
   ],
   "source": [
    "from weaviate.agents.classes import Persona\n",
    "from weaviate.util import generate_uuid5\n",
    "from uuid import uuid4  # If you want to generate a random UUID\n",
    "\n",
    "persona_id = generate_uuid5(\"jphwang\")  # To generate a deterministic UUID\n",
    "# persona_id = uuid4()  # To generate a random UUID\n",
    "\n",
    "# You can delete a persona if you want to remove it from the system\n",
    "pa.delete_persona(persona_id)\n",
    "\n",
    "if pa.has_persona(persona_id):\n",
    "    print(f\"Persona with ID {persona_id} already exists.\")\n",
    "else:\n",
    "    print(f\"Creating new persona with ID {persona_id}.\")\n",
    "    pa.add_persona(\n",
    "        Persona(\n",
    "            persona_id=persona_id,\n",
    "            properties={\n",
    "                \"age\": 18,\n",
    "                \"favorite_genres\": [\"Sci-Fi\", \"Fantasy\", \"Action\"],\n",
    "                \"favorite_years\": [1999, 2008, 2018, 2019],\n",
    "                \"language\": \"English\",\n",
    "            },\n",
    "        )\n",
    "    )"
   ]
  },
  {
   "cell_type": "markdown",
   "id": "9fdb8c52",
   "metadata": {},
   "source": [
    "## Add interactions\n",
    "\n",
    "This is how the agent learns each persona's preferences."
   ]
  },
  {
   "cell_type": "code",
   "execution_count": null,
   "id": "4ece9acf",
   "metadata": {},
   "outputs": [
    {
     "name": "stdout",
     "output_type": "stream",
     "text": [
      "Fetched movie 'Independence Day' from the collection\n"
     ]
    }
   ],
   "source": [
    "from weaviate.agents.classes import PersonaInteraction\n",
    "from helpers import get_movie_uuid  # Helper to get the UUID of a movie\n",
    "\n",
    "pa.add_interactions(interactions=[\n",
    "    PersonaInteraction(\n",
    "        persona_id=persona_id, item_id=get_movie_uuid(client, \"Independence Day\"), weight=0.8\n",
    "    ),\n",
    "])"
   ]
  },
  {
   "cell_type": "markdown",
   "id": "ba2e5748",
   "metadata": {},
   "source": [
    "## Queries\n",
    "\n",
    "We can already perform queries.\n",
    "\n",
    "### Basic queries\n",
    "\n",
    "Fast, most basic personalized queries\n",
    "\n",
    "- Uses vectors of interaction history only"
   ]
  },
  {
   "cell_type": "code",
   "execution_count": 5,
   "id": "fed85e2e",
   "metadata": {},
   "outputs": [],
   "source": [
    "response = pa.get_objects(persona_id, limit=50, use_agent_ranking=False)"
   ]
  },
  {
   "cell_type": "code",
   "execution_count": 6,
   "id": "f2ea0ed0",
   "metadata": {},
   "outputs": [
    {
     "name": "stdout",
     "output_type": "stream",
     "text": [
      "*****0*****\n",
      "Independence Daysaster\n",
      "None\n",
      "original rank: 0, personalized rank: None\n",
      "*****1*****\n",
      "Independence Day\n",
      "None\n",
      "original rank: 1, personalized rank: None\n",
      "*****2*****\n",
      "Alien Resurrection\n",
      "None\n",
      "original rank: 2, personalized rank: None\n",
      "*****3*****\n",
      "Star Trek: Insurrection\n",
      "None\n",
      "original rank: 3, personalized rank: None\n",
      "*****4*****\n",
      "Redemption Day\n",
      "None\n",
      "original rank: 4, personalized rank: None\n"
     ]
    }
   ],
   "source": [
    "from helpers import print_movie_response_details\n",
    "\n",
    "print_movie_response_details(response, 5)"
   ]
  },
  {
   "cell_type": "markdown",
   "id": "e32d18a5",
   "metadata": {},
   "source": [
    "### Agent reranking\n",
    "\n",
    "The agent can smartly rerank the results based on the information about the persona, as well as the interactions."
   ]
  },
  {
   "cell_type": "code",
   "execution_count": 7,
   "id": "78d38423",
   "metadata": {},
   "outputs": [
    {
     "name": "stdout",
     "output_type": "stream",
     "text": [
      "Ranking rationale: You love sci-fi, fantasy, and action movies, especially those involving alien invasions and high-stakes battles. We've prioritized titles that strongly reflect these genres, have high engagement, and fall into your favorite years or are related to iconic sci-fi franchises. This list balances well-known hits with exciting action-packed and imaginative adventures that match your youthful, dynamic taste.\n",
      "*****0*****\n",
      "Independence Day\n",
      "None\n",
      "original rank: 1, personalized rank: 0\n",
      "*****1*****\n",
      "Prometheus\n",
      "None\n",
      "original rank: 37, personalized rank: 1\n",
      "*****2*****\n",
      "Occupation\n",
      "None\n",
      "original rank: 9, personalized rank: 2\n",
      "*****3*****\n",
      "Pacific Rim: Uprising\n",
      "None\n",
      "original rank: 19, personalized rank: 3\n",
      "*****4*****\n",
      "Serenity\n",
      "None\n",
      "original rank: 15, personalized rank: 4\n"
     ]
    }
   ],
   "source": [
    "response = pa.get_objects(persona_id, limit=50, use_agent_ranking=True)\n",
    "\n",
    "print_movie_response_details(response, 5)"
   ]
  },
  {
   "cell_type": "markdown",
   "id": "df2494c3",
   "metadata": {},
   "source": [
    "### With Reranker + Instruction\n",
    "\n",
    "- Uses vectors of interaction history and AI-based reranker\n",
    "- Instructions used to guide the reranker"
   ]
  },
  {
   "cell_type": "code",
   "execution_count": 8,
   "id": "7e4ed4e4",
   "metadata": {},
   "outputs": [
    {
     "name": "stdout",
     "output_type": "stream",
     "text": [
      "Ranking rationale: Since you're looking for a fun, light action film suitable for the whole family and you enjoy genres like Sci-Fi, Fantasy, and Action from specific years, I've prioritized movies that balance family-friendly vibes with exciting action and sci-fi/fantasy elements. Titles with a lighter tone, family appeal, and strong action or fantasy themes have been boosted, while darker, horror-heavy, or more intense adult-oriented entries have been ranked lower.\n",
      "*****0*****\n",
      "Rise of the Guardians\n",
      "None\n",
      "original rank: 49, personalized rank: 1\n",
      "*****1*****\n",
      "Pacific Rim: Uprising\n",
      "None\n",
      "original rank: 19, personalized rank: 2\n",
      "*****2*****\n",
      "The Matrix Resurrections\n",
      "None\n",
      "original rank: 41, personalized rank: 3\n",
      "*****3*****\n",
      "Independence Day\n",
      "None\n",
      "original rank: 1, personalized rank: 4\n",
      "*****4*****\n",
      "Independence Daysaster\n",
      "None\n",
      "original rank: 0, personalized rank: 5\n"
     ]
    }
   ],
   "source": [
    "response = pa.get_objects(\n",
    "    persona_id,\n",
    "    limit=50,\n",
    "    use_agent_ranking=True,\n",
    "    instruction=\"I'm looking for something for the whole family, maybe a fun, light action film.\"\n",
    ")\n",
    "\n",
    "print_movie_response_details(response, 5)"
   ]
  },
  {
   "cell_type": "markdown",
   "id": "1fc712fe",
   "metadata": {},
   "source": [
    "### Add more interactions\n",
    "\n",
    "Over time, you will add more interactions to the agent, which will help it learn more about the persona's preferences.\n",
    "\n",
    "Note each interaction can be positive or negative. \n",
    "(1: most positive, 0: neutral, -1: most negative)"
   ]
  },
  {
   "cell_type": "code",
   "execution_count": null,
   "id": "c264605a",
   "metadata": {},
   "outputs": [
    {
     "name": "stdout",
     "output_type": "stream",
     "text": [
      "Fetched movie 'Iron Man' from the collection\n",
      "Fetched movie 'The Grand Budapest Hotel' from the collection\n",
      "Fetched movie 'Sleepless in Seattle' from the collection\n",
      "Fetched movie 'The Mummy' from the collection\n",
      "Fetched movie 'A Nightmare on Elm Street' from the collection\n",
      "Fetched movie 'The Cloverfield Paradox' from the collection\n"
     ]
    }
   ],
   "source": [
    "interactions = [\n",
    "    PersonaInteraction(\n",
    "        persona_id=persona_id, item_id=get_movie_uuid(client, \"Iron Man\"), weight=0.9  # very positive\n",
    "    ),\n",
    "    PersonaInteraction(\n",
    "        persona_id=persona_id, item_id=get_movie_uuid(client, \"The Grand Budapest Hotel\"), weight=0.9\n",
    "    ),\n",
    "    PersonaInteraction(\n",
    "        persona_id=persona_id, item_id=get_movie_uuid(client, \"Sleepless in Seattle\"), weight=0.8\n",
    "    ),\n",
    "    PersonaInteraction(\n",
    "        persona_id=persona_id, item_id=get_movie_uuid(client, \"The Mummy\"), weight=0.0  # neutral\n",
    "    ),\n",
    "    PersonaInteraction(\n",
    "        persona_id=persona_id, item_id=get_movie_uuid(client, \"A Nightmare on Elm Street\"), weight=-0.3,  # little bit negative\n",
    "    ),\n",
    "    PersonaInteraction(\n",
    "        persona_id=persona_id, item_id=get_movie_uuid(client, \"The Cloverfield Paradox\"), weight=-0.9  # very negative\n",
    "    ),\n",
    "]\n",
    "\n",
    "pa.add_interactions(interactions=interactions)"
   ]
  },
  {
   "cell_type": "markdown",
   "id": "3190d8aa",
   "metadata": {},
   "source": [
    "### Retry with the updated knowledge"
   ]
  },
  {
   "cell_type": "code",
   "execution_count": 10,
   "id": "ad7e4dfe",
   "metadata": {},
   "outputs": [
    {
     "name": "stdout",
     "output_type": "stream",
     "text": [
      "Ranking rationale: Since you enjoy Sci-Fi, Fantasy, and Action movies especially from around 1999, 2008, and recent years, we've prioritized films featuring superheroes, alien invasions, and adventurous quests. Classics like Iron Man and Avengers movies scored high due to their genre, popularity, and your positive interest in similar titles. We've also placed higher-ranked movies with strong action and science fiction elements, while minimizing less relevant genres or lower-rated films.\n",
      "*****0*****\n",
      "Iron Man\n",
      "None\n",
      "original rank: 4, personalized rank: 1\n",
      "*****1*****\n",
      "Iron Man 3\n",
      "None\n",
      "original rank: 6, personalized rank: 2\n",
      "*****2*****\n",
      "Avengers: Age of Ultron\n",
      "None\n",
      "original rank: 38, personalized rank: 3\n",
      "*****3*****\n",
      "The Invincible Iron Man\n",
      "None\n",
      "original rank: 2, personalized rank: 4\n",
      "*****4*****\n",
      "Serenity\n",
      "None\n",
      "original rank: 24, personalized rank: 5\n"
     ]
    }
   ],
   "source": [
    "response = pa.get_objects(persona_id, limit=50, use_agent_ranking=True)\n",
    "\n",
    "print_movie_response_details(response, 5)"
   ]
  },
  {
   "cell_type": "markdown",
   "id": "bb1ba135",
   "metadata": {},
   "source": [
    "### With Reranker + Instruction + Filter\n",
    "\n",
    "- The most complex personalized queries\n",
    "- Uses vectors of interaction history and AI-based reranker\n",
    "- Instructions used to guide the reranker\n",
    "- Filters out items that are not relevant to the user"
   ]
  },
  {
   "cell_type": "code",
   "execution_count": 14,
   "id": "9243a90d",
   "metadata": {},
   "outputs": [],
   "source": [
    "# With Reranker + Instruction + Filter\n",
    "response = pa.get_objects(\n",
    "    persona_id,\n",
    "    limit=50,\n",
    "    use_agent_ranking=True,\n",
    "    instruction=\"The user is looking for a classic drama, that is suitable for a date night.\",\n",
    "    filters=Filter.by_property(\"release_year\").less_or_equal(2000)\n",
    ")"
   ]
  },
  {
   "cell_type": "code",
   "execution_count": 15,
   "id": "11a55b54",
   "metadata": {},
   "outputs": [
    {
     "name": "stdout",
     "output_type": "stream",
     "text": [
      "Ranking rationale: Since you're looking for a classic drama suitable for a date night, I've prioritized timeless romantic dramas and classics with strong emotional storytelling. While you favor sci-fi and action generally, this recommendation focuses on more intimate and romantic narratives to suit your date night mood.\n",
      "*****0*****\n",
      "The Apartment\n",
      "None\n",
      "original rank: 41, personalized rank: 1\n",
      "*****1*****\n",
      "The Graduate\n",
      "None\n",
      "original rank: 9, personalized rank: 2\n",
      "*****2*****\n",
      "Manhattan\n",
      "None\n",
      "original rank: 1, personalized rank: 3\n",
      "*****3*****\n",
      "Roman Holiday\n",
      "None\n",
      "original rank: 39, personalized rank: 4\n",
      "*****4*****\n",
      "Great Expectations\n",
      "None\n",
      "original rank: 33, personalized rank: 5\n",
      "*****5*****\n",
      "The Great Gatsby\n",
      "None\n",
      "original rank: 35, personalized rank: 6\n",
      "*****6*****\n",
      "Tess\n",
      "None\n",
      "original rank: 25, personalized rank: 7\n",
      "*****7*****\n",
      "The Night Porter\n",
      "None\n",
      "original rank: 29, personalized rank: 8\n",
      "*****8*****\n",
      "Emmanuelle\n",
      "None\n",
      "original rank: 15, personalized rank: 9\n",
      "*****9*****\n",
      "Naked\n",
      "None\n",
      "original rank: 45, personalized rank: 10\n"
     ]
    }
   ],
   "source": [
    "print_movie_response_details(response, 10)"
   ]
  },
  {
   "cell_type": "markdown",
   "id": "9e99b9f9",
   "metadata": {},
   "source": [
    "## Combine personalization with other queries\n",
    "\n",
    "From `pa.query`, you can perform the common Weaviate searches, such as `near_text`, `bm25` and `hybrid`"
   ]
  },
  {
   "cell_type": "code",
   "execution_count": 16,
   "id": "bcbbe434",
   "metadata": {},
   "outputs": [
    {
     "name": "stdout",
     "output_type": "stream",
     "text": [
      "Title: The Adventures of Baron Munchausen\n",
      "Genres: None\n",
      "Title: The Adventures of Robin Hood\n",
      "Genres: None\n",
      "Title: Timeline\n",
      "Genres: None\n",
      "Title: Bill & Ted's Excellent Adventure\n",
      "Genres: None\n",
      "Title: Firewalker\n",
      "Genres: None\n",
      "Title: The Extraordinary Adventures of Adèle Blanc-Sec\n",
      "Genres: None\n",
      "Title: Jack Hunter and the Quest for Akhenaten's Tomb\n",
      "Genres: None\n",
      "Title: Pilgrimage\n",
      "Genres: None\n",
      "Title: Hidalgo\n",
      "Genres: None\n",
      "Title: King Arthur\n",
      "Genres: None\n"
     ]
    }
   ],
   "source": [
    "response = pa.query(persona_id=persona_id, strength=0.95).hybrid(\n",
    "    query=\"historical adventure\",\n",
    "    limit=10\n",
    ")\n",
    "\n",
    "for o in response.objects:\n",
    "    print(f\"Title: {o.properties['title']}\")\n",
    "    print(f\"Genres: {o.properties['genres']}\")"
   ]
  },
  {
   "cell_type": "code",
   "execution_count": 18,
   "id": "226df1e3",
   "metadata": {},
   "outputs": [],
   "source": [
    "client.close()"
   ]
  },
  {
   "cell_type": "code",
   "execution_count": null,
   "id": "6f1466b7",
   "metadata": {},
   "outputs": [],
   "source": []
  }
 ],
 "metadata": {
  "kernelspec": {
   "display_name": ".venv",
   "language": "python",
   "name": "python3"
  },
  "language_info": {
   "codemirror_mode": {
    "name": "ipython",
    "version": 3
   },
   "file_extension": ".py",
   "mimetype": "text/x-python",
   "name": "python",
   "nbconvert_exporter": "python",
   "pygments_lexer": "ipython3",
   "version": "3.12.4"
  }
 },
 "nbformat": 4,
 "nbformat_minor": 5
}
